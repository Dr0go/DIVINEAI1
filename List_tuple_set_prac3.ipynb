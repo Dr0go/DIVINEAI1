{
  "cells": [
    {
      "cell_type": "markdown",
      "metadata": {
        "id": "view-in-github",
        "colab_type": "text"
      },
      "source": [
        "<a href=\"https://colab.research.google.com/github/Dr0go/DIVINEAI1/blob/main/List_tuple_set_prac3.ipynb\" target=\"_parent\"><img src=\"https://colab.research.google.com/assets/colab-badge.svg\" alt=\"Open In Colab\"/></a>"
      ]
    },
    {
      "cell_type": "code",
      "execution_count": null,
      "id": "6a95acf8",
      "metadata": {
        "id": "6a95acf8",
        "outputId": "2aaa2b34-e06d-4ae5-89a6-c374f87d5746"
      },
      "outputs": [
        {
          "name": "stdout",
          "output_type": "stream",
          "text": [
            "Enter the Nunber13\n",
            "GG\n",
            "2\n",
            "GG\n",
            "3\n",
            "GG\n",
            "4\n",
            "GG\n",
            "5\n",
            "GG\n",
            "6\n",
            "GG\n"
          ]
        }
      ],
      "source": [
        "n = 1\n",
        "num= int(input('Enter the Nunber'))\n",
        "while n <= num :    \n",
        "    n += 1 \n",
        "    print('GG')\n",
        "    if (n > 8):\n",
        "        continue\n",
        "    if (n > 6):\n",
        "        break\n",
        "    print(n)"
      ]
    },
    {
      "cell_type": "code",
      "execution_count": null,
      "id": "1ede85bc",
      "metadata": {
        "id": "1ede85bc",
        "outputId": "47e1f0da-7c5b-4e17-daf9-0f45722ddae1"
      },
      "outputs": [
        {
          "name": "stdout",
          "output_type": "stream",
          "text": [
            "Happy New Year 2005\n",
            "BYE BYE  2005\n",
            "BYE BYE  2006\n",
            "BYE BYE  2007\n",
            "BYE BYE  2008\n",
            "Happy New Year 2006\n",
            "BYE BYE  2005\n",
            "BYE BYE  2006\n",
            "BYE BYE  2007\n",
            "BYE BYE  2008\n",
            "Happy New Year 2007\n",
            "BYE BYE  2005\n",
            "BYE BYE  2006\n",
            "BYE BYE  2007\n",
            "BYE BYE  2008\n",
            "Happy New Year 2008\n",
            "BYE BYE  2005\n",
            "BYE BYE  2006\n",
            "BYE BYE  2007\n",
            "BYE BYE  2008\n",
            "GG!\n"
          ]
        }
      ],
      "source": [
        "for i in range(2005, 2009, 1):\n",
        "    print('Happy New Year',i)\n",
        "    for j in range(2005, 2009, 1):\n",
        "        print('BYE BYE ',j)    \n",
        "print('GG!')"
      ]
    },
    {
      "cell_type": "code",
      "execution_count": null,
      "id": "af549c8d",
      "metadata": {
        "id": "af549c8d"
      },
      "outputs": [],
      "source": [
        "t = (13,23,33)"
      ]
    },
    {
      "cell_type": "code",
      "execution_count": null,
      "id": "d1415a6d",
      "metadata": {
        "id": "d1415a6d"
      },
      "outputs": [],
      "source": [
        "a= list(t)"
      ]
    },
    {
      "cell_type": "code",
      "execution_count": null,
      "id": "64614d81",
      "metadata": {
        "id": "64614d81",
        "outputId": "ded12a98-0b20-4a20-b5e6-1c4f6f54d95d"
      },
      "outputs": [
        {
          "data": {
            "text/plain": [
              "list"
            ]
          },
          "execution_count": 6,
          "metadata": {},
          "output_type": "execute_result"
        }
      ],
      "source": [
        "type(a)"
      ]
    },
    {
      "cell_type": "code",
      "execution_count": null,
      "id": "f700d979",
      "metadata": {
        "id": "f700d979"
      },
      "outputs": [],
      "source": [
        "a[0] = 'EZ'"
      ]
    },
    {
      "cell_type": "code",
      "execution_count": null,
      "id": "029e4272",
      "metadata": {
        "id": "029e4272",
        "outputId": "dc19d600-455f-4288-9fcf-f9a0ffc97c6d"
      },
      "outputs": [
        {
          "data": {
            "text/plain": [
              "['EZ', 23, 33]"
            ]
          },
          "execution_count": 8,
          "metadata": {},
          "output_type": "execute_result"
        }
      ],
      "source": [
        "a"
      ]
    },
    {
      "cell_type": "code",
      "execution_count": null,
      "id": "874fa775",
      "metadata": {
        "id": "874fa775",
        "outputId": "e1319632-3fb7-4773-e830-fc1e17dccde2"
      },
      "outputs": [
        {
          "data": {
            "text/plain": [
              "13"
            ]
          },
          "execution_count": 9,
          "metadata": {},
          "output_type": "execute_result"
        }
      ],
      "source": [
        "t[0]"
      ]
    },
    {
      "cell_type": "code",
      "execution_count": null,
      "id": "2ba1fde2",
      "metadata": {
        "id": "2ba1fde2",
        "outputId": "7108edee-0ce1-46ef-caf2-ade35a84cde5"
      },
      "outputs": [
        {
          "data": {
            "text/plain": [
              "'EZ'"
            ]
          },
          "execution_count": 10,
          "metadata": {},
          "output_type": "execute_result"
        }
      ],
      "source": [
        "a[0]"
      ]
    },
    {
      "cell_type": "code",
      "execution_count": null,
      "id": "8793e657",
      "metadata": {
        "id": "8793e657",
        "outputId": "bab3fcb1-e3a4-40d1-a331-e268d5c9b1fa"
      },
      "outputs": [
        {
          "ename": "TypeError",
          "evalue": "'tuple' object does not support item assignment",
          "output_type": "error",
          "traceback": [
            "\u001b[1;31m---------------------------------------------------------------------------\u001b[0m",
            "\u001b[1;31mTypeError\u001b[0m                                 Traceback (most recent call last)",
            "\u001b[1;32m~\\AppData\\Local\\Temp/ipykernel_13116/2841498897.py\u001b[0m in \u001b[0;36m<module>\u001b[1;34m\u001b[0m\n\u001b[1;32m----> 1\u001b[1;33m \u001b[0mt\u001b[0m\u001b[1;33m[\u001b[0m\u001b[1;36m0\u001b[0m\u001b[1;33m]\u001b[0m \u001b[1;33m=\u001b[0m \u001b[1;34m'EZ'\u001b[0m\u001b[1;33m\u001b[0m\u001b[1;33m\u001b[0m\u001b[0m\n\u001b[0m",
            "\u001b[1;31mTypeError\u001b[0m: 'tuple' object does not support item assignment"
          ]
        }
      ],
      "source": [
        "t[0] = 'EZ'"
      ]
    },
    {
      "cell_type": "code",
      "execution_count": null,
      "id": "5f2fb3e8",
      "metadata": {
        "id": "5f2fb3e8",
        "outputId": "f197ef6f-d395-4e37-b426-ec20330c2450"
      },
      "outputs": [
        {
          "data": {
            "text/plain": [
              "{11, 22, 33, 44}"
            ]
          },
          "execution_count": 12,
          "metadata": {},
          "output_type": "execute_result"
        }
      ],
      "source": [
        "{11,22,33,44}"
      ]
    },
    {
      "cell_type": "code",
      "execution_count": null,
      "id": "9834020f",
      "metadata": {
        "id": "9834020f"
      },
      "outputs": [],
      "source": [
        "S= {11,22,33,44,11,22,33,44,11,22,33,44,11,22,33,44,11,22,33,44}"
      ]
    },
    {
      "cell_type": "code",
      "execution_count": null,
      "id": "fecc4b5b",
      "metadata": {
        "id": "fecc4b5b",
        "outputId": "4f783846-6d64-43c7-9171-97ac3ef05820"
      },
      "outputs": [
        {
          "data": {
            "text/plain": [
              "4"
            ]
          },
          "execution_count": 15,
          "metadata": {},
          "output_type": "execute_result"
        }
      ],
      "source": [
        "len(S)"
      ]
    },
    {
      "cell_type": "code",
      "execution_count": null,
      "id": "2c1c4bc8",
      "metadata": {
        "id": "2c1c4bc8",
        "outputId": "b822cc7e-1e7f-4c90-9951-db199893f678"
      },
      "outputs": [
        {
          "data": {
            "text/plain": [
              "{11, 22, 33, 44}"
            ]
          },
          "execution_count": 16,
          "metadata": {},
          "output_type": "execute_result"
        }
      ],
      "source": [
        "S"
      ]
    },
    {
      "cell_type": "code",
      "execution_count": null,
      "id": "1b55cc28",
      "metadata": {
        "id": "1b55cc28",
        "outputId": "74433b12-9f37-4318-d140-75ab9edd7234"
      },
      "outputs": [
        {
          "data": {
            "text/plain": [
              "False"
            ]
          },
          "execution_count": 17,
          "metadata": {},
          "output_type": "execute_result"
        }
      ],
      "source": [
        "131 > 25154"
      ]
    },
    {
      "cell_type": "code",
      "execution_count": null,
      "id": "7060c0c6",
      "metadata": {
        "id": "7060c0c6",
        "outputId": "f817ddcb-d09e-4254-9eba-e3fc631a77f7"
      },
      "outputs": [
        {
          "data": {
            "text/plain": [
              "True"
            ]
          },
          "execution_count": 18,
          "metadata": {},
          "output_type": "execute_result"
        }
      ],
      "source": [
        "1313 < 2151"
      ]
    },
    {
      "cell_type": "code",
      "execution_count": null,
      "id": "5ef1a87d",
      "metadata": {
        "id": "5ef1a87d",
        "outputId": "78cf4232-5bb8-4665-f62b-536c02acd6d1"
      },
      "outputs": [
        {
          "data": {
            "text/plain": [
              "True"
            ]
          },
          "execution_count": 20,
          "metadata": {},
          "output_type": "execute_result"
        }
      ],
      "source": [
        "11 >= 11"
      ]
    },
    {
      "cell_type": "code",
      "execution_count": null,
      "id": "96e26dec",
      "metadata": {
        "id": "96e26dec",
        "outputId": "7171e295-0f63-4b35-ba98-eb68dd2db86b"
      },
      "outputs": [
        {
          "data": {
            "text/plain": [
              "True"
            ]
          },
          "execution_count": 21,
          "metadata": {},
          "output_type": "execute_result"
        }
      ],
      "source": [
        "131 <= 454"
      ]
    },
    {
      "cell_type": "code",
      "execution_count": null,
      "id": "519e5eeb",
      "metadata": {
        "id": "519e5eeb",
        "outputId": "becc7de4-96b3-48f3-9149-70e9b8757834"
      },
      "outputs": [
        {
          "data": {
            "text/plain": [
              "True"
            ]
          },
          "execution_count": 22,
          "metadata": {},
          "output_type": "execute_result"
        }
      ],
      "source": [
        "1313 == 1313"
      ]
    },
    {
      "cell_type": "code",
      "execution_count": null,
      "id": "03f71a31",
      "metadata": {
        "id": "03f71a31",
        "outputId": "9fe81fc7-3704-43cb-e485-d0c903f36f0f"
      },
      "outputs": [
        {
          "data": {
            "text/plain": [
              "False"
            ]
          },
          "execution_count": 23,
          "metadata": {},
          "output_type": "execute_result"
        }
      ],
      "source": [
        "'hi' == 'bye'"
      ]
    },
    {
      "cell_type": "code",
      "execution_count": null,
      "id": "fa87a0f4",
      "metadata": {
        "id": "fa87a0f4",
        "outputId": "06b42426-f8a4-4289-fc87-eb907bb0ddda"
      },
      "outputs": [
        {
          "data": {
            "text/plain": [
              "True"
            ]
          },
          "execution_count": 24,
          "metadata": {},
          "output_type": "execute_result"
        }
      ],
      "source": [
        "'hi' == 'hi'"
      ]
    },
    {
      "cell_type": "code",
      "execution_count": null,
      "id": "3097e628",
      "metadata": {
        "id": "3097e628",
        "outputId": "993ebae3-d042-44e6-950d-dd8fa1217044"
      },
      "outputs": [
        {
          "data": {
            "text/plain": [
              "False"
            ]
          },
          "execution_count": 25,
          "metadata": {},
          "output_type": "execute_result"
        }
      ],
      "source": [
        "'hi' == 'Hi'"
      ]
    },
    {
      "cell_type": "code",
      "execution_count": null,
      "id": "acd78e2d",
      "metadata": {
        "id": "acd78e2d",
        "outputId": "e0fe9975-c48c-40c2-f2da-21fa1ece50d4"
      },
      "outputs": [
        {
          "data": {
            "text/plain": [
              "False"
            ]
          },
          "execution_count": 26,
          "metadata": {},
          "output_type": "execute_result"
        }
      ],
      "source": [
        "'Hi' >= 'hi'"
      ]
    },
    {
      "cell_type": "code",
      "execution_count": null,
      "id": "6ebe4fe8",
      "metadata": {
        "id": "6ebe4fe8",
        "outputId": "c724bb84-311a-4d29-87de-314a630390f3"
      },
      "outputs": [
        {
          "data": {
            "text/plain": [
              "True"
            ]
          },
          "execution_count": 27,
          "metadata": {},
          "output_type": "execute_result"
        }
      ],
      "source": [
        "'Hi' <= 'hi'"
      ]
    },
    {
      "cell_type": "code",
      "execution_count": null,
      "id": "43b8a6c6",
      "metadata": {
        "id": "43b8a6c6",
        "outputId": "e687ac57-94d9-42d7-eacc-5fb5d7c85ffe"
      },
      "outputs": [
        {
          "data": {
            "text/plain": [
              "True"
            ]
          },
          "execution_count": 28,
          "metadata": {},
          "output_type": "execute_result"
        }
      ],
      "source": [
        "(31 > 12) and (213 < 313)"
      ]
    },
    {
      "cell_type": "code",
      "execution_count": null,
      "id": "16906c76",
      "metadata": {
        "id": "16906c76",
        "outputId": "40756252-59f3-48cf-e5cb-3f295c3918d6"
      },
      "outputs": [
        {
          "data": {
            "text/plain": [
              "True"
            ]
          },
          "execution_count": 29,
          "metadata": {},
          "output_type": "execute_result"
        }
      ],
      "source": [
        "(31 > 12) or (213 < 313)"
      ]
    },
    {
      "cell_type": "code",
      "execution_count": null,
      "id": "f79daef7",
      "metadata": {
        "id": "f79daef7",
        "outputId": "b1adfa68-7166-4c92-f234-71df75c64443"
      },
      "outputs": [
        {
          "data": {
            "text/plain": [
              "True"
            ]
          },
          "execution_count": 30,
          "metadata": {},
          "output_type": "execute_result"
        }
      ],
      "source": [
        "(11 == 22) or (22 == 33) or (44 == 44)"
      ]
    },
    {
      "cell_type": "code",
      "execution_count": null,
      "id": "89afb48d",
      "metadata": {
        "id": "89afb48d",
        "outputId": "9946b047-991e-4a1b-e0ea-c81f4cd07561"
      },
      "outputs": [
        {
          "name": "stdout",
          "output_type": "stream",
          "text": [
            "EZ\n"
          ]
        }
      ],
      "source": [
        "if 11 < 22:\n",
        "    print('EZ')"
      ]
    },
    {
      "cell_type": "code",
      "execution_count": null,
      "id": "9ff79747",
      "metadata": {
        "id": "9ff79747",
        "outputId": "99f67f76-7d87-492d-874f-b2486800b046"
      },
      "outputs": [
        {
          "name": "stdout",
          "output_type": "stream",
          "text": [
            "EZ\n"
          ]
        }
      ],
      "source": [
        "if 11 < 22:\n",
        "    print('EZ')\n",
        "else:\n",
        "    print('GG')"
      ]
    },
    {
      "cell_type": "code",
      "execution_count": null,
      "id": "bba1575b",
      "metadata": {
        "id": "bba1575b",
        "outputId": "9b42891a-2259-4385-fe7f-a9597e1d9caf"
      },
      "outputs": [
        {
          "name": "stdout",
          "output_type": "stream",
          "text": [
            "GG\n"
          ]
        }
      ],
      "source": [
        "if 111 < 22:\n",
        "    print('EZ')\n",
        "else:\n",
        "    print('GG')"
      ]
    },
    {
      "cell_type": "code",
      "execution_count": null,
      "id": "e62bb1c7",
      "metadata": {
        "id": "e62bb1c7",
        "outputId": "22b5425f-1243-43ab-fad0-836ff9191177"
      },
      "outputs": [
        {
          "name": "stdout",
          "output_type": "stream",
          "text": [
            "GG\n"
          ]
        }
      ],
      "source": [
        "if 1 == 2:\n",
        "    print('EZ')\n",
        "elif 3 == 3:\n",
        "    print('GG')\n",
        "else:\n",
        "    print('WP')"
      ]
    },
    {
      "cell_type": "code",
      "execution_count": null,
      "id": "1349b6c1",
      "metadata": {
        "id": "1349b6c1"
      },
      "outputs": [],
      "source": [
        "z= [31,154,5,6,23]"
      ]
    },
    {
      "cell_type": "code",
      "execution_count": null,
      "id": "04618a8a",
      "metadata": {
        "id": "04618a8a",
        "outputId": "b500f532-098f-464b-dbd5-dded1925f72f"
      },
      "outputs": [
        {
          "name": "stdout",
          "output_type": "stream",
          "text": [
            "31\n",
            "154\n",
            "5\n",
            "6\n",
            "23\n"
          ]
        }
      ],
      "source": [
        "for item in z:\n",
        "    print(item)"
      ]
    },
    {
      "cell_type": "code",
      "execution_count": null,
      "id": "ed6a64fc",
      "metadata": {
        "id": "ed6a64fc",
        "outputId": "47640ebb-7825-4dba-8810-fb7d5280db4f"
      },
      "outputs": [
        {
          "name": "stdout",
          "output_type": "stream",
          "text": [
            "GG\n",
            "GG\n",
            "GG\n",
            "GG\n",
            "GG\n"
          ]
        }
      ],
      "source": [
        "for item in z:\n",
        "    print('GG')"
      ]
    },
    {
      "cell_type": "code",
      "execution_count": null,
      "id": "6b5c045a",
      "metadata": {
        "id": "6b5c045a",
        "outputId": "3f3678d8-b5ad-48d2-9c77-f1cf0f57f544"
      },
      "outputs": [
        {
          "name": "stdout",
          "output_type": "stream",
          "text": [
            "62\n",
            "308\n",
            "10\n",
            "12\n",
            "46\n"
          ]
        }
      ],
      "source": [
        "for j in z:\n",
        "    print(j+j)"
      ]
    },
    {
      "cell_type": "code",
      "execution_count": null,
      "id": "8cf3198c",
      "metadata": {
        "id": "8cf3198c",
        "outputId": "f60356d7-6427-4f70-8791-1e911b87a3f6"
      },
      "outputs": [
        {
          "name": "stdout",
          "output_type": "stream",
          "text": [
            "i is: 11\n",
            "i is: 12\n",
            "i is: 13\n",
            "i is: 14\n",
            "i is: 15\n",
            "i is: 16\n",
            "i is: 17\n",
            "i is: 18\n",
            "i is: 19\n",
            "i is: 20\n",
            "i is: 21\n",
            "i is: 22\n",
            "i is: 23\n",
            "i is: 24\n",
            "i is: 25\n",
            "i is: 26\n",
            "i is: 27\n",
            "i is: 28\n",
            "i is: 29\n",
            "i is: 30\n",
            "i is: 31\n",
            "i is: 32\n",
            "i is: 33\n",
            "i is: 34\n"
          ]
        }
      ],
      "source": [
        "i = 11\n",
        "while i < 35:\n",
        "    print('i is: {}'.format(i))\n",
        "    i = i+1"
      ]
    },
    {
      "cell_type": "code",
      "execution_count": null,
      "id": "464a89df",
      "metadata": {
        "id": "464a89df",
        "outputId": "db028236-4976-4028-c22e-963ae0bb215d"
      },
      "outputs": [
        {
          "data": {
            "text/plain": [
              "range(0, 9)"
            ]
          },
          "execution_count": 42,
          "metadata": {},
          "output_type": "execute_result"
        }
      ],
      "source": [
        "range(9)"
      ]
    },
    {
      "cell_type": "code",
      "execution_count": null,
      "id": "092481e1",
      "metadata": {
        "id": "092481e1",
        "outputId": "25c125d7-7564-49cd-d996-53c7444b5ec2"
      },
      "outputs": [
        {
          "name": "stdout",
          "output_type": "stream",
          "text": [
            "0\n",
            "1\n",
            "2\n",
            "3\n",
            "4\n",
            "5\n",
            "6\n",
            "7\n",
            "8\n"
          ]
        }
      ],
      "source": [
        "for i in range(9):\n",
        "    print(i)"
      ]
    },
    {
      "cell_type": "code",
      "execution_count": null,
      "id": "d172bdda",
      "metadata": {
        "id": "d172bdda",
        "outputId": "551427cc-f8f2-45f7-c5bd-6faf3c90cb3c"
      },
      "outputs": [
        {
          "data": {
            "text/plain": [
              "[0, 1, 2, 3, 4, 5, 6, 7, 8]"
            ]
          },
          "execution_count": 44,
          "metadata": {},
          "output_type": "execute_result"
        }
      ],
      "source": [
        "list(range(9))"
      ]
    },
    {
      "cell_type": "code",
      "execution_count": null,
      "id": "bc54dd2b",
      "metadata": {
        "id": "bc54dd2b"
      },
      "outputs": [],
      "source": [
        "x = [11,22,33,44,55,66,77]"
      ]
    },
    {
      "cell_type": "code",
      "execution_count": null,
      "id": "adc2bee9",
      "metadata": {
        "id": "adc2bee9",
        "outputId": "c43c3f27-7f6a-4dba-b5a6-1c565060b66f"
      },
      "outputs": [
        {
          "name": "stdout",
          "output_type": "stream",
          "text": [
            "[22, 44, 66, 88, 110, 132, 154]\n"
          ]
        }
      ],
      "source": [
        "out = []\n",
        "for item in x:\n",
        "    out.append(item*2)\n",
        "print(out)"
      ]
    },
    {
      "cell_type": "code",
      "execution_count": null,
      "id": "f2d99062",
      "metadata": {
        "id": "f2d99062",
        "outputId": "958d7a24-e424-40c0-c586-1d9d06bdece8"
      },
      "outputs": [
        {
          "data": {
            "text/plain": [
              "[121, 484, 1089, 1936, 3025, 4356, 5929]"
            ]
          },
          "execution_count": 48,
          "metadata": {},
          "output_type": "execute_result"
        }
      ],
      "source": [
        "[item**2 for item in x]"
      ]
    },
    {
      "cell_type": "code",
      "execution_count": null,
      "id": "b5a857e8",
      "metadata": {
        "id": "b5a857e8"
      },
      "outputs": [],
      "source": [
        "Er = 'Sono nova Eren Jaeger'"
      ]
    },
    {
      "cell_type": "code",
      "execution_count": null,
      "id": "c79b7562",
      "metadata": {
        "id": "c79b7562",
        "outputId": "b1f5430a-096c-4482-dcd2-71d1a8f745f4"
      },
      "outputs": [
        {
          "data": {
            "text/plain": [
              "'sono nova eren jaeger'"
            ]
          },
          "execution_count": 50,
          "metadata": {},
          "output_type": "execute_result"
        }
      ],
      "source": [
        "Er.lower()"
      ]
    },
    {
      "cell_type": "code",
      "execution_count": null,
      "id": "231a951a",
      "metadata": {
        "id": "231a951a",
        "outputId": "faac5d60-bd9e-449f-dc0a-40e0f9db1fe5"
      },
      "outputs": [
        {
          "data": {
            "text/plain": [
              "['Sono', 'nova', 'Eren', 'Jaeger']"
            ]
          },
          "execution_count": 51,
          "metadata": {},
          "output_type": "execute_result"
        }
      ],
      "source": [
        "Er.split()"
      ]
    },
    {
      "cell_type": "code",
      "execution_count": null,
      "id": "b1667eac",
      "metadata": {
        "id": "b1667eac",
        "outputId": "34bf71d6-a69a-4b80-ec68-76789a278b4d"
      },
      "outputs": [
        {
          "data": {
            "text/plain": [
              "'SONO NOVA EREN JAEGER'"
            ]
          },
          "execution_count": 52,
          "metadata": {},
          "output_type": "execute_result"
        }
      ],
      "source": [
        "Er.upper()"
      ]
    },
    {
      "cell_type": "code",
      "execution_count": null,
      "id": "8ad0b924",
      "metadata": {
        "id": "8ad0b924"
      },
      "outputs": [],
      "source": [
        "tweet = 'GO GO! #KARASUNO'"
      ]
    },
    {
      "cell_type": "code",
      "execution_count": null,
      "id": "afb8cba4",
      "metadata": {
        "id": "afb8cba4",
        "outputId": "fe5361c3-8c0f-449f-fc40-a7ef3dbc2fa9"
      },
      "outputs": [
        {
          "data": {
            "text/plain": [
              "['GO GO! ', 'KARASUNO']"
            ]
          },
          "execution_count": 56,
          "metadata": {},
          "output_type": "execute_result"
        }
      ],
      "source": [
        "tweet.split('#')"
      ]
    },
    {
      "cell_type": "code",
      "execution_count": null,
      "id": "48aae965",
      "metadata": {
        "id": "48aae965",
        "outputId": "838d0861-8f1c-41a1-a498-31ca1fc2bbf5"
      },
      "outputs": [
        {
          "data": {
            "text/plain": [
              "'KARASUNO'"
            ]
          },
          "execution_count": 57,
          "metadata": {},
          "output_type": "execute_result"
        }
      ],
      "source": [
        "tweet.split('#')[1]"
      ]
    },
    {
      "cell_type": "code",
      "execution_count": null,
      "id": "b1e86f10",
      "metadata": {
        "id": "b1e86f10"
      },
      "outputs": [],
      "source": [
        "d = {'key1':'item1','key2':'item2'}"
      ]
    },
    {
      "cell_type": "code",
      "execution_count": null,
      "id": "af8fc8cf",
      "metadata": {
        "id": "af8fc8cf",
        "outputId": "07bf6175-0509-4520-ed75-f7841394f77b"
      },
      "outputs": [
        {
          "data": {
            "text/plain": [
              "dict_keys(['key1', 'key2'])"
            ]
          },
          "execution_count": 60,
          "metadata": {},
          "output_type": "execute_result"
        }
      ],
      "source": [
        "d.keys()"
      ]
    },
    {
      "cell_type": "code",
      "execution_count": null,
      "id": "742ecce0",
      "metadata": {
        "id": "742ecce0",
        "outputId": "ba7b94b6-01d0-4839-a672-3c51d462b933"
      },
      "outputs": [
        {
          "data": {
            "text/plain": [
              "dict_items([('key1', 'item1'), ('key2', 'item2')])"
            ]
          },
          "execution_count": 61,
          "metadata": {},
          "output_type": "execute_result"
        }
      ],
      "source": [
        "d.items()"
      ]
    },
    {
      "cell_type": "code",
      "execution_count": null,
      "id": "2bec74f4",
      "metadata": {
        "id": "2bec74f4"
      },
      "outputs": [],
      "source": [
        "lst = [11,22,33,44]"
      ]
    },
    {
      "cell_type": "code",
      "execution_count": null,
      "id": "c44ec9c1",
      "metadata": {
        "id": "c44ec9c1",
        "outputId": "b7bb6f84-6fcb-4f5d-c373-509c65c54460"
      },
      "outputs": [
        {
          "data": {
            "text/plain": [
              "44"
            ]
          },
          "execution_count": 63,
          "metadata": {},
          "output_type": "execute_result"
        }
      ],
      "source": [
        "lst.pop()"
      ]
    },
    {
      "cell_type": "code",
      "execution_count": null,
      "id": "1e389b39",
      "metadata": {
        "id": "1e389b39",
        "outputId": "7d3cc342-9e94-4024-e845-4f82fa404eb5"
      },
      "outputs": [
        {
          "data": {
            "text/plain": [
              "[11, 22, 33]"
            ]
          },
          "execution_count": 64,
          "metadata": {},
          "output_type": "execute_result"
        }
      ],
      "source": [
        "lst"
      ]
    },
    {
      "cell_type": "code",
      "execution_count": null,
      "id": "765eee0a",
      "metadata": {
        "id": "765eee0a",
        "outputId": "7cc1e835-874d-42bc-848f-41bf990575ef"
      },
      "outputs": [
        {
          "data": {
            "text/plain": [
              "False"
            ]
          },
          "execution_count": 65,
          "metadata": {},
          "output_type": "execute_result"
        }
      ],
      "source": [
        "'x' in [11,22,33]"
      ]
    },
    {
      "cell_type": "code",
      "execution_count": null,
      "id": "f3c07377",
      "metadata": {
        "id": "f3c07377",
        "outputId": "00c3aba3-9c1b-4467-b644-3e6bd45abc11"
      },
      "outputs": [
        {
          "data": {
            "text/plain": [
              "True"
            ]
          },
          "execution_count": 66,
          "metadata": {},
          "output_type": "execute_result"
        }
      ],
      "source": [
        "'x' in ['x','y','z']"
      ]
    },
    {
      "cell_type": "code",
      "execution_count": null,
      "id": "26ff2e30",
      "metadata": {
        "id": "26ff2e30",
        "outputId": "ccb7d056-98d9-439d-e897-183eb9475ed2"
      },
      "outputs": [
        {
          "name": "stdout",
          "output_type": "stream",
          "text": [
            "Enter a number: 11\n",
            "Enter a number: 11\n",
            "Enter a number: 33\n",
            "Enter a number: 33\n",
            "Enter a number: 44\n",
            "Enter a number: 55\n",
            "Enter a number: done\n"
          ]
        }
      ],
      "source": [
        "total ,count = 0, 0\n",
        "while True :\n",
        "    inp = input('Enter a number: ')\n",
        "    if inp == 'done' : \n",
        "        break\n",
        "    value = float(inp)\n",
        "    total = total + value     \n",
        "    count = count + 1"
      ]
    },
    {
      "cell_type": "code",
      "execution_count": null,
      "id": "46efa91b",
      "metadata": {
        "id": "46efa91b",
        "outputId": "13997980-6c52-4418-c2a8-e22a886b069e"
      },
      "outputs": [
        {
          "name": "stdout",
          "output_type": "stream",
          "text": [
            "Average:, Count : 31.166666666666668 6\n"
          ]
        }
      ],
      "source": [
        "average = total / count\n",
        "print('Average:, Count :', average, count)"
      ]
    },
    {
      "cell_type": "code",
      "execution_count": null,
      "id": "2c19190f",
      "metadata": {
        "id": "2c19190f",
        "outputId": "8f459728-28be-469a-dd92-d02ab1f14487"
      },
      "outputs": [
        {
          "name": "stdout",
          "output_type": "stream",
          "text": [
            "['From', 'Drogo.GG@gmail.com', 'Wed', 'Apr', '25', '00:59:10', '2022']\n",
            "['Drogo.GG', 'gmail.com']\n",
            "gmail.com\n"
          ]
        }
      ],
      "source": [
        "line = 'From Drogo.GG@gmail.com Wed Apr  25 00:59:10 2022'\n",
        "words = line.split()\n",
        "print(words)\n",
        "email = words[1]\n",
        "pieces = email.split('@')\n",
        "print(pieces)\n",
        "print(pieces[1])"
      ]
    },
    {
      "cell_type": "code",
      "execution_count": null,
      "id": "e8cb62c5",
      "metadata": {
        "id": "e8cb62c5",
        "outputId": "47711296-f373-4fa4-8d7e-af97dd7586b9"
      },
      "outputs": [
        {
          "data": {
            "text/plain": [
              "5"
            ]
          },
          "execution_count": 84,
          "metadata": {},
          "output_type": "execute_result"
        }
      ],
      "source": [
        "dict = {\"name\":\"Madara\" , \"age\":999999 , (\"sharingan\",\"Susanoo\"):1, 42:\"yes\" , \"42\": [\"red\",\"white\",\"blue\"] } \n",
        "len(dict)"
      ]
    },
    {
      "cell_type": "code",
      "execution_count": null,
      "id": "117612d3",
      "metadata": {
        "id": "117612d3",
        "outputId": "4e8fcf5e-5edd-4e39-d292-43a32745a2b4"
      },
      "outputs": [
        {
          "name": "stdout",
          "output_type": "stream",
          "text": [
            "['red', 'white', 'blue']\n"
          ]
        }
      ],
      "source": [
        "print(dict[\"42\"])"
      ]
    },
    {
      "cell_type": "code",
      "execution_count": null,
      "id": "8a51c635",
      "metadata": {
        "id": "8a51c635",
        "outputId": "1d47609a-3189-4524-8982-c4741fe13dd0"
      },
      "outputs": [
        {
          "name": "stdout",
          "output_type": "stream",
          "text": [
            "dict_keys(['name', 'age', ('sharingan', 'Susanoo'), 42, '42'])\n"
          ]
        }
      ],
      "source": [
        "list1=dict.keys()\n",
        "print(list1)"
      ]
    },
    {
      "cell_type": "code",
      "execution_count": null,
      "id": "2b9de92d",
      "metadata": {
        "id": "2b9de92d",
        "outputId": "6e4ea65b-63f5-45fe-b3ed-81db13a2df7e"
      },
      "outputs": [
        {
          "name": "stdout",
          "output_type": "stream",
          "text": [
            "dict_values(['Madara', 999999, 1, 'yes', ['red', 'white', 'blue']])\n"
          ]
        }
      ],
      "source": [
        "list2=dict.values()\n",
        "print(list2)"
      ]
    },
    {
      "cell_type": "code",
      "execution_count": null,
      "id": "b38818f1",
      "metadata": {
        "id": "b38818f1",
        "outputId": "a4cae194-facb-4544-fe60-bbcf98277794"
      },
      "outputs": [
        {
          "name": "stdout",
          "output_type": "stream",
          "text": [
            "2\n",
            "dict_keys(['Obito'])\n"
          ]
        }
      ],
      "source": [
        "d = { \"Obito\" : 1, \"Tobi\" : 2 }\n",
        "print(d[\"Tobi\"])  \n",
        "some_dict = {}\n",
        "some_dict[\"Obito\"] = \"Sharingan\"\n",
        "print(some_dict.keys()) "
      ]
    },
    {
      "cell_type": "code",
      "execution_count": null,
      "id": "c1c040b5",
      "metadata": {
        "id": "c1c040b5"
      },
      "outputs": [],
      "source": [
        ""
      ]
    }
  ],
  "metadata": {
    "kernelspec": {
      "display_name": "Python 3 (ipykernel)",
      "language": "python",
      "name": "python3"
    },
    "language_info": {
      "codemirror_mode": {
        "name": "ipython",
        "version": 3
      },
      "file_extension": ".py",
      "mimetype": "text/x-python",
      "name": "python",
      "nbconvert_exporter": "python",
      "pygments_lexer": "ipython3",
      "version": "3.9.7"
    },
    "colab": {
      "name": "List_tuple_set_prac3.ipynb",
      "provenance": [],
      "include_colab_link": true
    }
  },
  "nbformat": 4,
  "nbformat_minor": 5
}