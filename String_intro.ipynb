{
  "cells": [
    {
      "cell_type": "markdown",
      "metadata": {
        "id": "view-in-github",
        "colab_type": "text"
      },
      "source": [
        "<a href=\"https://colab.research.google.com/github/Dr0go/DIVINEAI1/blob/main/String_intro.ipynb\" target=\"_parent\"><img src=\"https://colab.research.google.com/assets/colab-badge.svg\" alt=\"Open In Colab\"/></a>"
      ]
    },
    {
      "cell_type": "code",
      "execution_count": null,
      "id": "e79848f3",
      "metadata": {
        "id": "e79848f3",
        "outputId": "0fe9c958-7ecb-4301-f438-d3c193d54d4b"
      },
      "outputs": [
        {
          "data": {
            "text/plain": [
              "'Amaterasu'"
            ]
          },
          "execution_count": 2,
          "metadata": {},
          "output_type": "execute_result"
        }
      ],
      "source": [
        "'Amaterasu' #single word"
      ]
    },
    {
      "cell_type": "code",
      "execution_count": null,
      "id": "3cce5855",
      "metadata": {
        "id": "3cce5855",
        "outputId": "94e264c9-25ec-4940-a6b6-dc2d04fcdb59"
      },
      "outputs": [
        {
          "data": {
            "text/plain": [
              "'Chelsea FC is the best club in the world'"
            ]
          },
          "execution_count": 4,
          "metadata": {},
          "output_type": "execute_result"
        }
      ],
      "source": [
        "'Chelsea FC is the best club in the world' #entire phrase"
      ]
    },
    {
      "cell_type": "code",
      "execution_count": null,
      "id": "ad3ecca1",
      "metadata": {
        "id": "ad3ecca1",
        "outputId": "cbdea7a9-aa27-464a-ba02-e8531204735a"
      },
      "outputs": [
        {
          "data": {
            "text/plain": [
              "'Cristiano Ronaldo is the best player in the world'"
            ]
          },
          "execution_count": 5,
          "metadata": {},
          "output_type": "execute_result"
        }
      ],
      "source": [
        "\"Cristiano Ronaldo is the best player in the world\" #string built with double quotes"
      ]
    },
    {
      "cell_type": "code",
      "execution_count": null,
      "id": "a21a69dd",
      "metadata": {
        "id": "a21a69dd",
        "outputId": "9f6bfd9e-420d-4691-e1be-c581f2d61c4f"
      },
      "outputs": [
        {
          "data": {
            "text/plain": [
              "\"I'm going to Japan\""
            ]
          },
          "execution_count": 7,
          "metadata": {},
          "output_type": "execute_result"
        }
      ],
      "source": [
        "\"I'm going to Japan\" #use double quote if using ' in some cases"
      ]
    },
    {
      "cell_type": "code",
      "execution_count": null,
      "id": "d5de7202",
      "metadata": {
        "id": "d5de7202",
        "outputId": "7ee2d744-ad56-4ce0-87d5-4b6b495ee86c"
      },
      "outputs": [
        {
          "name": "stdout",
          "output_type": "stream",
          "text": [
            "Eren Jaeger \n",
            "\n",
            "Itachi Uchiha \n",
            "\n",
            "Monkey D Luffy \n",
            "\n"
          ]
        }
      ],
      "source": [
        "#to print multiple strings use print statements\n",
        "print('Eren Jaeger \\n')\n",
        "print('Itachi Uchiha \\n')\n",
        "print('Monkey D Luffy \\n')"
      ]
    },
    {
      "cell_type": "code",
      "execution_count": null,
      "id": "ff7d0a51",
      "metadata": {
        "id": "ff7d0a51",
        "outputId": "27ee4698-d608-4bfc-fa44-ee9c94323138"
      },
      "outputs": [
        {
          "data": {
            "text/plain": [
              "12"
            ]
          },
          "execution_count": 9,
          "metadata": {},
          "output_type": "execute_result"
        }
      ],
      "source": [
        "#to print the length of the string use len()\n",
        "len('Roronoa Zoro')"
      ]
    },
    {
      "cell_type": "code",
      "execution_count": null,
      "id": "871311d9",
      "metadata": {
        "id": "871311d9"
      },
      "outputs": [],
      "source": [
        " #sting indexing\n",
        "x='umashankar'"
      ]
    },
    {
      "cell_type": "code",
      "execution_count": null,
      "id": "6ab2eba5",
      "metadata": {
        "id": "6ab2eba5",
        "outputId": "2aafa058-2e2c-4abb-abfa-231ccd4b605b"
      },
      "outputs": [
        {
          "data": {
            "text/plain": [
              "'umashankar'"
            ]
          },
          "execution_count": 13,
          "metadata": {},
          "output_type": "execute_result"
        }
      ],
      "source": [
        "x #check"
      ]
    },
    {
      "cell_type": "code",
      "execution_count": null,
      "id": "8dfc7983",
      "metadata": {
        "id": "8dfc7983",
        "outputId": "c5040725-682d-4b3d-fb20-d5aa21fde23f"
      },
      "outputs": [
        {
          "name": "stdout",
          "output_type": "stream",
          "text": [
            "umashankar\n"
          ]
        }
      ],
      "source": [
        "print(x)"
      ]
    },
    {
      "cell_type": "code",
      "execution_count": null,
      "id": "ba387998",
      "metadata": {
        "id": "ba387998",
        "outputId": "3a109c32-b362-41bb-e939-8cde583f8a03"
      },
      "outputs": [
        {
          "data": {
            "text/plain": [
              "'u'"
            ]
          },
          "execution_count": 15,
          "metadata": {},
          "output_type": "execute_result"
        }
      ],
      "source": [
        "x[0] #show the first element of the string"
      ]
    },
    {
      "cell_type": "code",
      "execution_count": null,
      "id": "3a148dec",
      "metadata": {
        "id": "3a148dec",
        "outputId": "493b9bc8-0fbf-4809-c75c-46bf20a88d8b"
      },
      "outputs": [
        {
          "data": {
            "text/plain": [
              "'m'"
            ]
          },
          "execution_count": 16,
          "metadata": {},
          "output_type": "execute_result"
        }
      ],
      "source": [
        "x[1] #second element"
      ]
    },
    {
      "cell_type": "code",
      "execution_count": null,
      "id": "3f1bdc21",
      "metadata": {
        "id": "3f1bdc21",
        "outputId": "c63169fc-1f1c-4a42-f2b2-7213baaa07ad"
      },
      "outputs": [
        {
          "data": {
            "text/plain": [
              "'a'"
            ]
          },
          "execution_count": 17,
          "metadata": {},
          "output_type": "execute_result"
        }
      ],
      "source": [
        "x[2] #third element"
      ]
    },
    {
      "cell_type": "code",
      "execution_count": null,
      "id": "6957e291",
      "metadata": {
        "id": "6957e291",
        "outputId": "5f8eef19-9dcc-4879-b5a6-5c71de64fbf6"
      },
      "outputs": [
        {
          "data": {
            "text/plain": [
              "'mashankar'"
            ]
          },
          "execution_count": 18,
          "metadata": {},
          "output_type": "execute_result"
        }
      ],
      "source": [
        "x[1:] #grab everything after the first element"
      ]
    },
    {
      "cell_type": "code",
      "execution_count": null,
      "id": "022197ce",
      "metadata": {
        "id": "022197ce",
        "outputId": "30e0dd68-acb9-4843-ce91-7cca253c44e0"
      },
      "outputs": [
        {
          "data": {
            "text/plain": [
              "'umas'"
            ]
          },
          "execution_count": 19,
          "metadata": {},
          "output_type": "execute_result"
        }
      ],
      "source": [
        "x[:4] #grab everything upto 4th index"
      ]
    },
    {
      "cell_type": "code",
      "execution_count": null,
      "id": "012d8f28",
      "metadata": {
        "id": "012d8f28",
        "outputId": "9d72e8a0-1e7e-4ac4-abf3-921508b8799e"
      },
      "outputs": [
        {
          "data": {
            "text/plain": [
              "'umashankar'"
            ]
          },
          "execution_count": 20,
          "metadata": {},
          "output_type": "execute_result"
        }
      ],
      "source": [
        "x[:] #grab everything"
      ]
    },
    {
      "cell_type": "code",
      "execution_count": null,
      "id": "25c2f0df",
      "metadata": {
        "id": "25c2f0df",
        "outputId": "a1f119f5-d23f-4647-8b2d-0649b5fd60aa"
      },
      "outputs": [
        {
          "data": {
            "text/plain": [
              "'r'"
            ]
          },
          "execution_count": 21,
          "metadata": {},
          "output_type": "execute_result"
        }
      ],
      "source": [
        "x[-1] #last index"
      ]
    },
    {
      "cell_type": "code",
      "execution_count": null,
      "id": "af116fdd",
      "metadata": {
        "id": "af116fdd",
        "outputId": "00009453-3a3f-4dea-af30-d06b722e6fbb"
      },
      "outputs": [
        {
          "data": {
            "text/plain": [
              "'umashanka'"
            ]
          },
          "execution_count": 22,
          "metadata": {},
          "output_type": "execute_result"
        }
      ],
      "source": [
        "x[:-1] #grab everything but the last letter"
      ]
    },
    {
      "cell_type": "code",
      "execution_count": null,
      "id": "ecd4fc97",
      "metadata": {
        "id": "ecd4fc97",
        "outputId": "80c19355-bff9-4551-bcb8-7557257b79d7"
      },
      "outputs": [
        {
          "data": {
            "text/plain": [
              "'umashankar'"
            ]
          },
          "execution_count": 23,
          "metadata": {},
          "output_type": "execute_result"
        }
      ],
      "source": [
        "x[::1] #grab everything but in the step size of 1"
      ]
    },
    {
      "cell_type": "code",
      "execution_count": null,
      "id": "f9aacd9b",
      "metadata": {
        "id": "f9aacd9b",
        "outputId": "4a978054-83f7-4dc7-ab9b-d4b5f64c6823"
      },
      "outputs": [
        {
          "data": {
            "text/plain": [
              "'uahna'"
            ]
          },
          "execution_count": 24,
          "metadata": {},
          "output_type": "execute_result"
        }
      ],
      "source": [
        "x[::2] #grab everything but in the step size of 2"
      ]
    },
    {
      "cell_type": "code",
      "execution_count": null,
      "id": "81acf930",
      "metadata": {
        "id": "81acf930",
        "outputId": "d26f1f3c-80c9-45b1-b5a7-d178fb1b17dc"
      },
      "outputs": [
        {
          "data": {
            "text/plain": [
              "'usnr'"
            ]
          },
          "execution_count": 25,
          "metadata": {},
          "output_type": "execute_result"
        }
      ],
      "source": [
        "x[::3] #grab everything but in the step size of 3"
      ]
    },
    {
      "cell_type": "code",
      "execution_count": null,
      "id": "b7466dac",
      "metadata": {
        "id": "b7466dac",
        "outputId": "c03c247f-c4d7-483d-e5b3-d68eeb02b12d"
      },
      "outputs": [
        {
          "data": {
            "text/plain": [
              "'raknahsamu'"
            ]
          },
          "execution_count": 26,
          "metadata": {},
          "output_type": "execute_result"
        }
      ],
      "source": [
        "x[::-1] #print the string backwards"
      ]
    },
    {
      "cell_type": "code",
      "execution_count": null,
      "id": "c98a9ada",
      "metadata": {
        "id": "c98a9ada",
        "outputId": "7ae268fd-dd81-445a-acf7-d70078e5bce0"
      },
      "outputs": [
        {
          "data": {
            "text/plain": [
              "'umashankar'"
            ]
          },
          "execution_count": 27,
          "metadata": {},
          "output_type": "execute_result"
        }
      ],
      "source": [
        "x\n"
      ]
    },
    {
      "cell_type": "code",
      "execution_count": null,
      "id": "d50d795d",
      "metadata": {
        "id": "d50d795d",
        "outputId": "52d28c0e-5938-4ab1-9fbe-940c13d7573e"
      },
      "outputs": [
        {
          "data": {
            "text/plain": [
              "'umashankarconcatenate me!'"
            ]
          },
          "execution_count": 28,
          "metadata": {},
          "output_type": "execute_result"
        }
      ],
      "source": [
        "x + 'concatenate me!' #concetanate strings"
      ]
    },
    {
      "cell_type": "code",
      "execution_count": null,
      "id": "461382a9",
      "metadata": {
        "id": "461382a9"
      },
      "outputs": [],
      "source": [
        "x= x+'concatenate me!'"
      ]
    },
    {
      "cell_type": "code",
      "execution_count": null,
      "id": "d8a22e5b",
      "metadata": {
        "id": "d8a22e5b",
        "outputId": "2e4d2b4d-f1cb-4166-81e7-7bffb1b79f2f"
      },
      "outputs": [
        {
          "data": {
            "text/plain": [
              "'umashankarconcatenate me!'"
            ]
          },
          "execution_count": 30,
          "metadata": {},
          "output_type": "execute_result"
        }
      ],
      "source": [
        "x\n"
      ]
    },
    {
      "cell_type": "code",
      "execution_count": null,
      "id": "9eedd63e",
      "metadata": {
        "id": "9eedd63e"
      },
      "outputs": [],
      "source": [
        "letter= 'z'"
      ]
    },
    {
      "cell_type": "code",
      "execution_count": null,
      "id": "47843974",
      "metadata": {
        "id": "47843974",
        "outputId": "06405d67-22af-4a44-f65d-a2643ea05842"
      },
      "outputs": [
        {
          "data": {
            "text/plain": [
              "'zzzzzzzzzz'"
            ]
          },
          "execution_count": 33,
          "metadata": {},
          "output_type": "execute_result"
        }
      ],
      "source": [
        "letter*10 #replication"
      ]
    },
    {
      "cell_type": "code",
      "execution_count": null,
      "id": "bee4d504",
      "metadata": {
        "id": "bee4d504",
        "outputId": "427f7bf1-748b-4a67-cf30-50dd6d447ac6"
      },
      "outputs": [
        {
          "data": {
            "text/plain": [
              "'UMASHANKARCONCATENATE ME!CONCATENATE ME!'"
            ]
          },
          "execution_count": 35,
          "metadata": {},
          "output_type": "execute_result"
        }
      ],
      "source": [
        "x.upper() #uppercase a string"
      ]
    },
    {
      "cell_type": "code",
      "execution_count": null,
      "id": "5fe1ee52",
      "metadata": {
        "id": "5fe1ee52",
        "outputId": "6988f55c-bb1e-4220-9c3e-70b97051cc32"
      },
      "outputs": [
        {
          "data": {
            "text/plain": [
              "'umashankarconcatenate me!concatenate me!'"
            ]
          },
          "execution_count": 37,
          "metadata": {},
          "output_type": "execute_result"
        }
      ],
      "source": [
        "x.lower() #lowercase a string"
      ]
    },
    {
      "cell_type": "code",
      "execution_count": null,
      "id": "44f30300",
      "metadata": {
        "id": "44f30300",
        "outputId": "412e9fd5-6733-46cd-b621-957f69af2c92"
      },
      "outputs": [
        {
          "data": {
            "text/plain": [
              "['umashankarconcatenate', 'me!concatenate', 'me!']"
            ]
          },
          "execution_count": 38,
          "metadata": {},
          "output_type": "execute_result"
        }
      ],
      "source": [
        "x.split() #split string by a blank space"
      ]
    },
    {
      "cell_type": "code",
      "execution_count": null,
      "id": "1a8b1bb7",
      "metadata": {
        "id": "1a8b1bb7",
        "outputId": "67eae808-3b5c-44a7-d8c3-1738757709ac"
      },
      "outputs": [
        {
          "data": {
            "text/plain": [
              "['umashankar', 'on', 'atenate me!', 'on', 'atenate me!']"
            ]
          },
          "execution_count": 39,
          "metadata": {},
          "output_type": "execute_result"
        }
      ],
      "source": [
        "x.split('c') #split the string by a specific element"
      ]
    },
    {
      "cell_type": "code",
      "execution_count": null,
      "id": "e36bea8d",
      "metadata": {
        "id": "e36bea8d"
      },
      "outputs": [],
      "source": [
        ""
      ]
    },
    {
      "cell_type": "code",
      "execution_count": null,
      "id": "37fc1945",
      "metadata": {
        "id": "37fc1945"
      },
      "outputs": [],
      "source": [
        ""
      ]
    }
  ],
  "metadata": {
    "kernelspec": {
      "display_name": "Python 3 (ipykernel)",
      "language": "python",
      "name": "python3"
    },
    "language_info": {
      "codemirror_mode": {
        "name": "ipython",
        "version": 3
      },
      "file_extension": ".py",
      "mimetype": "text/x-python",
      "name": "python",
      "nbconvert_exporter": "python",
      "pygments_lexer": "ipython3",
      "version": "3.9.7"
    },
    "colab": {
      "name": "String_intro.ipynb",
      "provenance": [],
      "include_colab_link": true
    }
  },
  "nbformat": 4,
  "nbformat_minor": 5
}