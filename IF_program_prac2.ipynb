{
  "cells": [
    {
      "cell_type": "markdown",
      "metadata": {
        "id": "view-in-github",
        "colab_type": "text"
      },
      "source": [
        "<a href=\"https://colab.research.google.com/github/Dr0go/DIVINEAI1/blob/main/IF_program_prac2.ipynb\" target=\"_parent\"><img src=\"https://colab.research.google.com/assets/colab-badge.svg\" alt=\"Open In Colab\"/></a>"
      ]
    },
    {
      "cell_type": "code",
      "execution_count": null,
      "id": "33eaaa87",
      "metadata": {
        "id": "33eaaa87"
      },
      "outputs": [],
      "source": [
        "G = {\"age\":20, (\"Fuegeleon\",\"vermillion\"):1, \"GAME\": [\"COD\",\"CSGO\",\"RDR2\"]}"
      ]
    },
    {
      "cell_type": "code",
      "execution_count": null,
      "id": "1b2fcdc7",
      "metadata": {
        "id": "1b2fcdc7",
        "outputId": "65ead637-2324-46be-8593-c3ece2ad48ff"
      },
      "outputs": [
        {
          "data": {
            "text/plain": [
              "'O'"
            ]
          },
          "execution_count": 2,
          "metadata": {},
          "output_type": "execute_result"
        }
      ],
      "source": [
        "G['GAME'][1][3]"
      ]
    },
    {
      "cell_type": "code",
      "execution_count": null,
      "id": "f69f8a9c",
      "metadata": {
        "id": "f69f8a9c",
        "outputId": "b614fbb4-5213-423c-a94e-42452037a73f"
      },
      "outputs": [
        {
          "ename": "TypeError",
          "evalue": "'str' object does not support item assignment",
          "output_type": "error",
          "traceback": [
            "\u001b[1;31m---------------------------------------------------------------------------\u001b[0m",
            "\u001b[1;31mTypeError\u001b[0m                                 Traceback (most recent call last)",
            "\u001b[1;32m~\\AppData\\Local\\Temp/ipykernel_13564/1095108182.py\u001b[0m in \u001b[0;36m<module>\u001b[1;34m\u001b[0m\n\u001b[0;32m      1\u001b[0m \u001b[0mgame\u001b[0m \u001b[1;33m=\u001b[0m \u001b[1;34m'Valorant'\u001b[0m\u001b[1;33m\u001b[0m\u001b[1;33m\u001b[0m\u001b[0m\n\u001b[1;32m----> 2\u001b[1;33m \u001b[0mgame\u001b[0m\u001b[1;33m[\u001b[0m\u001b[1;36m0\u001b[0m\u001b[1;33m]\u001b[0m \u001b[1;33m=\u001b[0m \u001b[1;34m'B'\u001b[0m\u001b[1;33m\u001b[0m\u001b[1;33m\u001b[0m\u001b[0m\n\u001b[0m",
            "\u001b[1;31mTypeError\u001b[0m: 'str' object does not support item assignment"
          ]
        }
      ],
      "source": [
        "game = 'Valorant'\n",
        "game[0] = 'B'"
      ]
    },
    {
      "cell_type": "code",
      "execution_count": null,
      "id": "2507e9d2",
      "metadata": {
        "id": "2507e9d2",
        "outputId": "97fbceef-3828-431b-a3b2-3a20080b4148"
      },
      "outputs": [
        {
          "name": "stdout",
          "output_type": "stream",
          "text": [
            "valorant\n"
          ]
        }
      ],
      "source": [
        "a= game.lower()\n",
        "print(a)"
      ]
    },
    {
      "cell_type": "code",
      "execution_count": null,
      "id": "5d8fe19f",
      "metadata": {
        "id": "5d8fe19f",
        "outputId": "3e2cb6be-6a94-4b0d-fd6a-c815563b4c7a"
      },
      "outputs": [
        {
          "data": {
            "text/plain": [
              "1366968445040"
            ]
          },
          "execution_count": 5,
          "metadata": {},
          "output_type": "execute_result"
        }
      ],
      "source": [
        "id(game)"
      ]
    },
    {
      "cell_type": "code",
      "execution_count": null,
      "id": "2fd6b1f8",
      "metadata": {
        "id": "2fd6b1f8",
        "outputId": "cff26190-36fc-48cf-d858-e8202e7eff34"
      },
      "outputs": [
        {
          "data": {
            "text/plain": [
              "1366968445488"
            ]
          },
          "execution_count": 8,
          "metadata": {},
          "output_type": "execute_result"
        }
      ],
      "source": [
        "id(a)"
      ]
    },
    {
      "cell_type": "code",
      "execution_count": null,
      "id": "f0a405d7",
      "metadata": {
        "id": "f0a405d7",
        "outputId": "4eb260ae-da23-47b1-e9d4-7722387c28b1"
      },
      "outputs": [
        {
          "name": "stdout",
          "output_type": "stream",
          "text": [
            "Enter the Nunber31\n"
          ]
        }
      ],
      "source": [
        "n = 33\n",
        "num= int(input('Enter the Nunber'))\n",
        "while n<= num :\n",
        "    print(n)\n",
        "    n+=1"
      ]
    },
    {
      "cell_type": "code",
      "execution_count": null,
      "id": "fd31995c",
      "metadata": {
        "id": "fd31995c",
        "outputId": "f9f6b3e8-18e2-4d02-967c-5aed7a339566"
      },
      "outputs": [
        {
          "name": "stdout",
          "output_type": "stream",
          "text": [
            "GG\n",
            "EZ 62\n",
            "EZ 94\n",
            "EZ 25\n",
            "WP\n"
          ]
        }
      ],
      "source": [
        "print('GG')\n",
        "for value in [7, 62, 19, 15, 94, 25] :\n",
        "    if value > 20: \n",
        "        print('EZ',value)\n",
        "print('WP')\n"
      ]
    },
    {
      "cell_type": "code",
      "execution_count": null,
      "id": "c3992752",
      "metadata": {
        "id": "c3992752",
        "outputId": "b9f6c97b-4a6a-4207-a5ba-46c091a218fe"
      },
      "outputs": [
        {
          "name": "stdout",
          "output_type": "stream",
          "text": [
            "7 7\n",
            "7 62\n",
            "7 19\n",
            "7 15\n",
            "7 94\n",
            "7 25\n",
            "EZ 7\n"
          ]
        }
      ],
      "source": [
        "GG = None\n",
        "for value in [7, 62, 19, 15, 94, 25] : \n",
        "     if GG is None : \n",
        "         GG = value   \n",
        "     elif value < GG : \n",
        "         GG = value   \n",
        "     print(GG, value)\n",
        "print('EZ', GG)"
      ]
    },
    {
      "cell_type": "code",
      "execution_count": null,
      "id": "c060796e",
      "metadata": {
        "id": "c060796e",
        "outputId": "7cda4046-bf09-4e42-fba2-ebbe077603e7"
      },
      "outputs": [
        {
          "name": "stdout",
          "output_type": "stream",
          "text": [
            "37.0\n"
          ]
        }
      ],
      "source": [
        "def average(prices):\n",
        "    total = 0 \n",
        "    for price in prices: \n",
        "        total = total + price \n",
        "    avg = total/len(prices)\n",
        "    return avg\n",
        "numbers = [7, 62, 19, 15, 94, 25]\n",
        "my_average = average(numbers)\n",
        "print(my_average) "
      ]
    },
    {
      "cell_type": "code",
      "execution_count": null,
      "id": "d4c59e0f",
      "metadata": {
        "id": "d4c59e0f",
        "outputId": "3d69adce-5c90-490d-9773-987263aaad59"
      },
      "outputs": [
        {
          "name": "stdout",
          "output_type": "stream",
          "text": [
            "30\n",
            "avg 222\n",
            "total 37.0\n"
          ]
        }
      ],
      "source": [
        "def average(numbers, lst):\n",
        "    total = 0\n",
        "    for num in numbers:\n",
        "        total = total + num\n",
        "    avg = total/len(lst)\n",
        "    return avg, total\n",
        "def TEST():\n",
        "    prices = [7, 62, 19, 15, 94, 25]\n",
        "    price = [6264, 26465, 71, 51, 211, 77]\n",
        "    total1, avg1 = average(prices,price)\n",
        "    print(order_goal)\n",
        "    print('avg',avg1)\n",
        "    print('total',total1)\n",
        "order_goal = 30\n",
        "TEST()"
      ]
    },
    {
      "cell_type": "code",
      "execution_count": null,
      "id": "29442875",
      "metadata": {
        "id": "29442875",
        "outputId": "ace8c013-a033-4f2e-85a5-f8a3da267544"
      },
      "outputs": [
        {
          "name": "stdout",
          "output_type": "stream",
          "text": [
            "AMATERASUAMATERASUAMATERASU\n"
          ]
        }
      ],
      "source": [
        "x = 'AMATERASU'\n",
        "print(x*3)"
      ]
    },
    {
      "cell_type": "code",
      "execution_count": null,
      "id": "fe900caa",
      "metadata": {
        "id": "fe900caa",
        "outputId": "36758c66-9322-4e7a-e6f7-2a386fd10d84"
      },
      "outputs": [
        {
          "data": {
            "text/plain": [
              "2"
            ]
          },
          "execution_count": 18,
          "metadata": {},
          "output_type": "execute_result"
        }
      ],
      "source": [
        "i =1 \n",
        "i+=1\n",
        "i"
      ]
    },
    {
      "cell_type": "code",
      "execution_count": null,
      "id": "8e128300",
      "metadata": {
        "id": "8e128300",
        "outputId": "90834c1e-b930-4d8c-e3da-0669ff3aff55"
      },
      "outputs": [
        {
          "data": {
            "text/plain": [
              "['Sasuke', 900, 8312]"
            ]
          },
          "execution_count": 19,
          "metadata": {},
          "output_type": "execute_result"
        }
      ],
      "source": [
        "a = ['Chidori', 'Sasuke', 900, 8312, 9*9]\n",
        "a[-4:4]"
      ]
    },
    {
      "cell_type": "code",
      "execution_count": null,
      "id": "94e31ee5",
      "metadata": {
        "id": "94e31ee5",
        "outputId": "394ff1ad-1d42-480b-fee2-bc25975a5f80"
      },
      "outputs": [
        {
          "data": {
            "text/plain": [
              "['Sasuke', 900, 8312, 81, 'GG']"
            ]
          },
          "execution_count": 22,
          "metadata": {},
          "output_type": "execute_result"
        }
      ],
      "source": [
        "a = ['Chidori', 'Sasuke', 900, 8312, 9*9, 'GG']\n",
        "a[-5:6]"
      ]
    },
    {
      "cell_type": "code",
      "execution_count": null,
      "id": "b3fae743",
      "metadata": {
        "id": "b3fae743",
        "outputId": "50a86133-ed4f-42c4-ec6c-03336a7fc501"
      },
      "outputs": [
        {
          "data": {
            "text/plain": [
              "[1, 12, 900, 8827, 81, 'GG']"
            ]
          },
          "execution_count": 23,
          "metadata": {},
          "output_type": "execute_result"
        }
      ],
      "source": [
        "a[3] = a[3] + 515\n",
        "a[0:2] = [1,12]\n",
        "a"
      ]
    },
    {
      "cell_type": "code",
      "execution_count": null,
      "id": "578dfdf7",
      "metadata": {
        "id": "578dfdf7",
        "outputId": "f4efdb10-eede-4660-c20a-a7093e5a4cbe"
      },
      "outputs": [
        {
          "data": {
            "text/plain": [
              "[[], 12, 900, 8827, 81, 'GG']"
            ]
          },
          "execution_count": 24,
          "metadata": {},
          "output_type": "execute_result"
        }
      ],
      "source": [
        "a[0] = []\n",
        "len(a)\n",
        "a"
      ]
    },
    {
      "cell_type": "code",
      "execution_count": null,
      "id": "6fb876dd",
      "metadata": {
        "id": "6fb876dd",
        "outputId": "944ef24d-7d46-4d4c-a275-0d9d577cea41"
      },
      "outputs": [
        {
          "name": "stdout",
          "output_type": "stream",
          "text": [
            "R\n"
          ]
        }
      ],
      "source": [
        "print(G[\"GAME\"][2][2])"
      ]
    },
    {
      "cell_type": "code",
      "execution_count": null,
      "id": "7842391e",
      "metadata": {
        "id": "7842391e",
        "outputId": "85360311-430e-43c0-ef7a-c91cc475b0de"
      },
      "outputs": [
        {
          "name": "stdout",
          "output_type": "stream",
          "text": [
            "None\n"
          ]
        }
      ],
      "source": [
        "print(G.get(\"GAMEEEEE\"))"
      ]
    },
    {
      "cell_type": "code",
      "execution_count": null,
      "id": "0291716c",
      "metadata": {
        "id": "0291716c",
        "outputId": "5fa254f1-6653-4358-e374-0ab425241ea8"
      },
      "outputs": [
        {
          "name": "stdout",
          "output_type": "stream",
          "text": [
            "dict_values([20, 1, ['COD', 'CSGO', 'RDR2']])\n"
          ]
        }
      ],
      "source": [
        "print(G.values())"
      ]
    },
    {
      "cell_type": "code",
      "execution_count": null,
      "id": "81cc60f3",
      "metadata": {
        "id": "81cc60f3",
        "outputId": "001ca59a-9d09-4c6a-96e1-cbe61e971313"
      },
      "outputs": [
        {
          "name": "stdout",
          "output_type": "stream",
          "text": [
            "False\n",
            "True\n"
          ]
        }
      ],
      "source": [
        "my_list = [33,34,35,36] \n",
        "your_list = [36,35,34,33] \n",
        "his_list = [33,34,35,36]\n",
        "print(my_list == your_list) \n",
        "print(my_list == his_list)"
      ]
    },
    {
      "cell_type": "code",
      "execution_count": null,
      "id": "c51f68db",
      "metadata": {
        "id": "c51f68db",
        "outputId": "c149bc17-528c-4945-c92a-1cf88fedd04c"
      },
      "outputs": [
        {
          "name": "stdout",
          "output_type": "stream",
          "text": [
            "True\n"
          ]
        }
      ],
      "source": [
        "my_dict = {11:11, 22:22, 33:33, 44:44} \n",
        "your_dict = {44:44, 33:33, 22:22, 11:11}\n",
        "print(my_dict == your_dict)"
      ]
    },
    {
      "cell_type": "code",
      "execution_count": null,
      "id": "6a47d81d",
      "metadata": {
        "id": "6a47d81d",
        "outputId": "5471ce86-87a2-4fbf-dc6b-4828662659ad"
      },
      "outputs": [
        {
          "name": "stdout",
          "output_type": "stream",
          "text": [
            "False\n"
          ]
        }
      ],
      "source": [
        "my_dict = {11:11, 22:22, 33:33, 44:44} \n",
        "your_dict = {44:44, 33:33, 22:22, 11:21}\n",
        "print(my_dict == your_dict)"
      ]
    },
    {
      "cell_type": "code",
      "execution_count": null,
      "id": "e6f30c40",
      "metadata": {
        "id": "e6f30c40",
        "outputId": "11b14e7f-1f78-4823-9fcb-31e89c499b5c"
      },
      "outputs": [
        {
          "name": "stdout",
          "output_type": "stream",
          "text": [
            "161051\n",
            "5153632\n",
            "39135393\n",
            "164916224\n",
            "503284375\n"
          ]
        }
      ],
      "source": [
        "for num in [11,22,33,44,55]:\n",
        "    print(num**5)    #power"
      ]
    },
    {
      "cell_type": "code",
      "execution_count": null,
      "id": "3333ef0b",
      "metadata": {
        "id": "3333ef0b",
        "outputId": "977cf7d4-ba72-4854-80dc-51324e546ac4"
      },
      "outputs": [
        {
          "name": "stdout",
          "output_type": "stream",
          "text": [
            "M\n",
            "I\n",
            "N\n",
            "A\n",
            "T\n",
            "O\n"
          ]
        }
      ],
      "source": [
        "for num in 'MINATO':\n",
        "    print(num)"
      ]
    },
    {
      "cell_type": "code",
      "execution_count": null,
      "id": "de1419ae",
      "metadata": {
        "id": "de1419ae",
        "outputId": "a933087c-f2e3-4aa3-dde3-80f6693e4637"
      },
      "outputs": [
        {
          "name": "stdout",
          "output_type": "stream",
          "text": [
            "age\n",
            "('Fuegeleon', 'vermillion')\n",
            "GAME\n"
          ]
        }
      ],
      "source": [
        "for items in G:\n",
        "    print(items)\n",
        "    #print(key)"
      ]
    },
    {
      "cell_type": "code",
      "execution_count": null,
      "id": "5b681149",
      "metadata": {
        "id": "5b681149",
        "outputId": "d80e0227-9a64-45e8-c9fb-2a9ab8afbced"
      },
      "outputs": [
        {
          "name": "stdout",
          "output_type": "stream",
          "text": [
            "Price is: 3.6\n",
            "Price is: 43.5\n",
            "Price is: 4.46\n",
            "total is: 51.56\n",
            "avg is: 17.186666666666667\n"
          ]
        }
      ],
      "source": [
        "total=0\n",
        "prices = [3.60, 43.50, 4.460]\n",
        "for price in prices:\n",
        "    print('Price is:', price) \n",
        "    total = total + price\n",
        "print('total is:', total)\n",
        "average = total/len(prices) \n",
        "print('avg is:', average)"
      ]
    },
    {
      "cell_type": "code",
      "execution_count": null,
      "id": "aa45cf07",
      "metadata": {
        "id": "aa45cf07",
        "outputId": "9c858af4-9cd2-444d-b389-498558012c68"
      },
      "outputs": [
        {
          "name": "stdout",
          "output_type": "stream",
          "text": [
            "0.6175548872934747\n",
            "8\n",
            "478\n"
          ]
        }
      ],
      "source": [
        "import random\n",
        "R1 = random.random() # Gives a random number from [0.0, 1.0]\n",
        "print(R1)\n",
        "R2 = random.choice([8,6,5,4,3]) # Gives a random choice from a list\n",
        "print(R2)\n",
        "R3 = random.randint(1, 10003) # Gives a random number in this range\n",
        "print(R3)"
      ]
    },
    {
      "cell_type": "code",
      "execution_count": null,
      "id": "39fbcf71",
      "metadata": {
        "id": "39fbcf71",
        "outputId": "6b1f827b-651e-4724-b8b1-de80ca1cc491"
      },
      "outputs": [
        {
          "name": "stdout",
          "output_type": "stream",
          "text": [
            "age\n",
            "20\n",
            "('Fuegeleon', 'vermillion')\n",
            "1\n",
            "GAME\n",
            "['COD', 'CSGO', 'RDR2']\n"
          ]
        }
      ],
      "source": [
        "for keys,items in G.items():\n",
        "    print(keys)\n",
        "    print(items) "
      ]
    },
    {
      "cell_type": "code",
      "execution_count": null,
      "id": "d144958e",
      "metadata": {
        "id": "d144958e"
      },
      "outputs": [],
      "source": [
        ""
      ]
    }
  ],
  "metadata": {
    "kernelspec": {
      "display_name": "Python 3 (ipykernel)",
      "language": "python",
      "name": "python3"
    },
    "language_info": {
      "codemirror_mode": {
        "name": "ipython",
        "version": 3
      },
      "file_extension": ".py",
      "mimetype": "text/x-python",
      "name": "python",
      "nbconvert_exporter": "python",
      "pygments_lexer": "ipython3",
      "version": "3.9.7"
    },
    "colab": {
      "name": "IF_program_prac2.ipynb",
      "provenance": [],
      "include_colab_link": true
    }
  },
  "nbformat": 4,
  "nbformat_minor": 5
}