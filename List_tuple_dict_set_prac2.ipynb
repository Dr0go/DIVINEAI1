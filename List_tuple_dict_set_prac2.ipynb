{
  "cells": [
    {
      "cell_type": "markdown",
      "metadata": {
        "id": "view-in-github",
        "colab_type": "text"
      },
      "source": [
        "<a href=\"https://colab.research.google.com/github/Dr0go/DIVINEAI1/blob/main/List_tuple_dict_set_prac2.ipynb\" target=\"_parent\"><img src=\"https://colab.research.google.com/assets/colab-badge.svg\" alt=\"Open In Colab\"/></a>"
      ]
    },
    {
      "cell_type": "code",
      "execution_count": null,
      "id": "c94252ca",
      "metadata": {
        "id": "c94252ca"
      },
      "outputs": [],
      "source": [
        "x='GG'"
      ]
    },
    {
      "cell_type": "code",
      "execution_count": null,
      "id": "ace4d0fe",
      "metadata": {
        "id": "ace4d0fe",
        "outputId": "fe59d553-4e52-405e-d964-1c4811e20224"
      },
      "outputs": [
        {
          "data": {
            "text/plain": [
              "'GG'"
            ]
          },
          "execution_count": 2,
          "metadata": {},
          "output_type": "execute_result"
        }
      ],
      "source": [
        "x"
      ]
    },
    {
      "cell_type": "code",
      "execution_count": null,
      "id": "4ecda2d2",
      "metadata": {
        "id": "4ecda2d2",
        "outputId": "e25d797a-ca94-4c0f-9ab6-6494d20e109a"
      },
      "outputs": [
        {
          "name": "stdout",
          "output_type": "stream",
          "text": [
            "GG\n"
          ]
        }
      ],
      "source": [
        "print(x)"
      ]
    },
    {
      "cell_type": "code",
      "execution_count": null,
      "id": "017f7ad0",
      "metadata": {
        "id": "017f7ad0"
      },
      "outputs": [],
      "source": [
        "num =4\n",
        "name = 'tatsumi'"
      ]
    },
    {
      "cell_type": "code",
      "execution_count": null,
      "id": "7c376bde",
      "metadata": {
        "id": "7c376bde",
        "outputId": "f3b7ed42-5dbc-4a09-e4f9-e9efd9d49a1c"
      },
      "outputs": [
        {
          "name": "stdout",
          "output_type": "stream",
          "text": [
            "he killed 4 people, and his name is tatsumi\n"
          ]
        }
      ],
      "source": [
        "print('he killed {two} people, and his name is {one}'.format(one=name,two=num))"
      ]
    },
    {
      "cell_type": "code",
      "execution_count": null,
      "id": "ec4432f5",
      "metadata": {
        "id": "ec4432f5",
        "outputId": "0ab68a83-3a90-441c-a86f-7dbca1d690a6"
      },
      "outputs": [
        {
          "name": "stdout",
          "output_type": "stream",
          "text": [
            "he killed 4 people, and his name is tatsumi\n"
          ]
        }
      ],
      "source": [
        "print('he killed {} people, and his name is {}'.format(num,name))"
      ]
    },
    {
      "cell_type": "code",
      "execution_count": null,
      "id": "a10a7b82",
      "metadata": {
        "id": "a10a7b82"
      },
      "outputs": [],
      "source": [
        "my_list = ['a','b','c']"
      ]
    },
    {
      "cell_type": "code",
      "execution_count": null,
      "id": "19baa33d",
      "metadata": {
        "id": "19baa33d"
      },
      "outputs": [],
      "source": [
        "my_list.append('d')"
      ]
    },
    {
      "cell_type": "code",
      "execution_count": null,
      "id": "1edcc660",
      "metadata": {
        "id": "1edcc660"
      },
      "outputs": [],
      "source": [
        "my_list.append('e')\n",
        "my_list.append('f')\n",
        "my_list.append('g')"
      ]
    },
    {
      "cell_type": "code",
      "execution_count": null,
      "id": "ea34547f",
      "metadata": {
        "id": "ea34547f",
        "outputId": "7bce758a-9bc7-4f96-bcc9-6e60fd1ccfcc"
      },
      "outputs": [
        {
          "data": {
            "text/plain": [
              "['a', 'b', 'c', 'd', 'e', 'f', 'g']"
            ]
          },
          "execution_count": 16,
          "metadata": {},
          "output_type": "execute_result"
        }
      ],
      "source": [
        "my_list"
      ]
    },
    {
      "cell_type": "code",
      "execution_count": null,
      "id": "4796760f",
      "metadata": {
        "id": "4796760f",
        "outputId": "2c6c0ad2-22c0-4261-a953-2402b4e3fdca"
      },
      "outputs": [
        {
          "data": {
            "text/plain": [
              "'a'"
            ]
          },
          "execution_count": 17,
          "metadata": {},
          "output_type": "execute_result"
        }
      ],
      "source": [
        "my_list[0]"
      ]
    },
    {
      "cell_type": "code",
      "execution_count": null,
      "id": "7166d666",
      "metadata": {
        "id": "7166d666",
        "outputId": "3b875ef6-6202-44da-8257-71163d1490d5"
      },
      "outputs": [
        {
          "data": {
            "text/plain": [
              "'f'"
            ]
          },
          "execution_count": 18,
          "metadata": {},
          "output_type": "execute_result"
        }
      ],
      "source": [
        "my_list[5]"
      ]
    },
    {
      "cell_type": "code",
      "execution_count": null,
      "id": "f826bb08",
      "metadata": {
        "id": "f826bb08",
        "outputId": "605625ea-b8e0-453c-880c-a68f303e5fa2"
      },
      "outputs": [
        {
          "data": {
            "text/plain": [
              "'g'"
            ]
          },
          "execution_count": 19,
          "metadata": {},
          "output_type": "execute_result"
        }
      ],
      "source": [
        "my_list[6]"
      ]
    },
    {
      "cell_type": "code",
      "execution_count": null,
      "id": "f0109345",
      "metadata": {
        "id": "f0109345"
      },
      "outputs": [],
      "source": [
        "my_list[0] = 'NEW'"
      ]
    },
    {
      "cell_type": "code",
      "execution_count": null,
      "id": "2148586e",
      "metadata": {
        "id": "2148586e",
        "outputId": "40df1ec3-8209-4d37-80f5-21c14c8612d5"
      },
      "outputs": [
        {
          "data": {
            "text/plain": [
              "['NEW', 'b', 'c', 'd', 'e', 'f', 'g']"
            ]
          },
          "execution_count": 21,
          "metadata": {},
          "output_type": "execute_result"
        }
      ],
      "source": [
        "my_list"
      ]
    },
    {
      "cell_type": "code",
      "execution_count": null,
      "id": "b2937748",
      "metadata": {
        "id": "b2937748"
      },
      "outputs": [],
      "source": [
        "nest = [1,2,3,[4,5,['BOMBER']]]"
      ]
    },
    {
      "cell_type": "code",
      "execution_count": null,
      "id": "e1f9bd0d",
      "metadata": {
        "id": "e1f9bd0d",
        "outputId": "e9b3708a-7de3-4d7d-9cb5-ce71c804329f"
      },
      "outputs": [
        {
          "data": {
            "text/plain": [
              "4"
            ]
          },
          "execution_count": 31,
          "metadata": {},
          "output_type": "execute_result"
        }
      ],
      "source": [
        "len(nest)"
      ]
    },
    {
      "cell_type": "code",
      "execution_count": null,
      "id": "583bf970",
      "metadata": {
        "id": "583bf970",
        "outputId": "ab71a524-290d-4d7f-e97d-8ed34b1ae304"
      },
      "outputs": [
        {
          "data": {
            "text/plain": [
              "[4, 5, ['BOMBER']]"
            ]
          },
          "execution_count": 32,
          "metadata": {},
          "output_type": "execute_result"
        }
      ],
      "source": [
        "nest[3]"
      ]
    },
    {
      "cell_type": "code",
      "execution_count": null,
      "id": "492cbccb",
      "metadata": {
        "id": "492cbccb",
        "outputId": "d0317545-8fbd-4b9b-f2e3-0541bb6090d8"
      },
      "outputs": [
        {
          "data": {
            "text/plain": [
              "['BOMBER']"
            ]
          },
          "execution_count": 33,
          "metadata": {},
          "output_type": "execute_result"
        }
      ],
      "source": [
        "nest[3][2]"
      ]
    },
    {
      "cell_type": "code",
      "execution_count": null,
      "id": "272785ab",
      "metadata": {
        "id": "272785ab",
        "outputId": "7de01dd6-bce9-49de-c5db-8e5e5cdd7fba"
      },
      "outputs": [
        {
          "data": {
            "text/plain": [
              "'BOMBER'"
            ]
          },
          "execution_count": 34,
          "metadata": {},
          "output_type": "execute_result"
        }
      ],
      "source": [
        "nest[3][2][0]"
      ]
    },
    {
      "cell_type": "code",
      "execution_count": null,
      "id": "174d3544",
      "metadata": {
        "id": "174d3544"
      },
      "outputs": [],
      "source": [
        "d = {'key21':'item131','key32':'item312'}"
      ]
    },
    {
      "cell_type": "code",
      "execution_count": null,
      "id": "34731af1",
      "metadata": {
        "id": "34731af1",
        "outputId": "4c75add5-7710-4ecf-e48b-daadf281ecd6"
      },
      "outputs": [
        {
          "data": {
            "text/plain": [
              "{'key21': 'item131', 'key32': 'item312'}"
            ]
          },
          "execution_count": 40,
          "metadata": {},
          "output_type": "execute_result"
        }
      ],
      "source": [
        "d"
      ]
    },
    {
      "cell_type": "code",
      "execution_count": null,
      "id": "afef0933",
      "metadata": {
        "id": "afef0933",
        "outputId": "99e2154f-d146-476e-d33d-dd7c8eb9494c"
      },
      "outputs": [
        {
          "data": {
            "text/plain": [
              "'item131'"
            ]
          },
          "execution_count": 41,
          "metadata": {},
          "output_type": "execute_result"
        }
      ],
      "source": [
        "d['key21']"
      ]
    },
    {
      "cell_type": "code",
      "execution_count": null,
      "id": "d3962cc7",
      "metadata": {
        "id": "d3962cc7",
        "outputId": "95683602-1070-4f25-8b26-7c4394bfa4ae"
      },
      "outputs": [
        {
          "data": {
            "text/plain": [
              "dict_keys(['key21', 'key32'])"
            ]
          },
          "execution_count": 42,
          "metadata": {},
          "output_type": "execute_result"
        }
      ],
      "source": [
        "d.keys()"
      ]
    },
    {
      "cell_type": "code",
      "execution_count": null,
      "id": "5076d7a2",
      "metadata": {
        "id": "5076d7a2",
        "outputId": "93b95597-256d-49ea-8745-8be57cd49048"
      },
      "outputs": [
        {
          "name": "stdout",
          "output_type": "stream",
          "text": [
            "<class 'dict_values'>\n"
          ]
        }
      ],
      "source": [
        "list1 = d.values()\n",
        "print(type(list1))"
      ]
    },
    {
      "cell_type": "code",
      "execution_count": null,
      "id": "cba5937a",
      "metadata": {
        "id": "cba5937a",
        "outputId": "ba756454-c7fc-48bd-9ebc-1a79f8faa4af"
      },
      "outputs": [
        {
          "name": "stdout",
          "output_type": "stream",
          "text": [
            "None\n"
          ]
        }
      ],
      "source": [
        "result = d.get('key3')\n",
        "print(result)"
      ]
    },
    {
      "cell_type": "code",
      "execution_count": null,
      "id": "a150f538",
      "metadata": {
        "id": "a150f538"
      },
      "outputs": [],
      "source": [
        "my_list = [4,37,3,763,7] \n",
        "your_list = [4, 3, 2, 1] \n",
        "his_list = [4,37,3,763,7]"
      ]
    },
    {
      "cell_type": "code",
      "execution_count": null,
      "id": "f71a967f",
      "metadata": {
        "id": "f71a967f",
        "outputId": "c0aa07d2-1b37-40ef-b34a-702f3fc959cb"
      },
      "outputs": [
        {
          "name": "stdout",
          "output_type": "stream",
          "text": [
            "False\n"
          ]
        }
      ],
      "source": [
        "print(my_list == your_list) "
      ]
    },
    {
      "cell_type": "code",
      "execution_count": null,
      "id": "2c9d3cba",
      "metadata": {
        "id": "2c9d3cba",
        "outputId": "b0d01cc6-c9d7-4e1f-8467-f95140dfadff"
      },
      "outputs": [
        {
          "name": "stdout",
          "output_type": "stream",
          "text": [
            "True\n"
          ]
        }
      ],
      "source": [
        "print(my_list == his_list)"
      ]
    },
    {
      "cell_type": "code",
      "execution_count": null,
      "id": "2a5e1f4b",
      "metadata": {
        "id": "2a5e1f4b"
      },
      "outputs": [],
      "source": [
        "my_dict = {1:1, 2:2, 3:3, 4:4} \n",
        "your_dict = {4:4, 3:3, 2:2, 1:1}"
      ]
    },
    {
      "cell_type": "code",
      "execution_count": null,
      "id": "53bb7c31",
      "metadata": {
        "id": "53bb7c31",
        "outputId": "76d2d77a-198c-4593-eff3-245348210540"
      },
      "outputs": [
        {
          "name": "stdout",
          "output_type": "stream",
          "text": [
            "True\n"
          ]
        }
      ],
      "source": [
        "print(my_dict == your_dict)"
      ]
    },
    {
      "cell_type": "code",
      "execution_count": null,
      "id": "64f71bec",
      "metadata": {
        "id": "64f71bec"
      },
      "outputs": [],
      "source": [
        "my_dict = {1:1, 2:2, 3:3, 4:4} \n",
        "your_dict = {4:4, 3:3, 2:2, 1:14}"
      ]
    },
    {
      "cell_type": "code",
      "execution_count": null,
      "id": "bd958b01",
      "metadata": {
        "id": "bd958b01",
        "outputId": "c1efd85d-4aca-43e6-c484-097dc3920fc7"
      },
      "outputs": [
        {
          "name": "stdout",
          "output_type": "stream",
          "text": [
            "False\n"
          ]
        }
      ],
      "source": [
        "print(my_dict == your_dict)"
      ]
    },
    {
      "cell_type": "code",
      "execution_count": null,
      "id": "f057be47",
      "metadata": {
        "id": "f057be47",
        "outputId": "f2ddc777-e2ad-4aad-d180-a1c15e50a74e"
      },
      "outputs": [
        {
          "name": "stdout",
          "output_type": "stream",
          "text": [
            "16\n",
            "36\n",
            "4\n",
            "4096\n",
            "4\n"
          ]
        }
      ],
      "source": [
        "for num in [4,6,2,64,2]:\n",
        "\tprint(num**2)"
      ]
    },
    {
      "cell_type": "code",
      "execution_count": null,
      "id": "f5bbb3dc",
      "metadata": {
        "id": "f5bbb3dc",
        "outputId": "a0e42617-5f80-463c-f317-2c49f4fad18c"
      },
      "outputs": [
        {
          "name": "stdout",
          "output_type": "stream",
          "text": [
            "A\n",
            "c\n",
            "k\n",
            "e\n",
            "r\n",
            "m\n",
            "a\n",
            "n\n",
            "n\n"
          ]
        }
      ],
      "source": [
        "for num in 'Ackermann':\n",
        "\tprint(num)"
      ]
    },
    {
      "cell_type": "code",
      "execution_count": null,
      "id": "69654e57",
      "metadata": {
        "id": "69654e57",
        "outputId": "7cbc48b6-59c1-4c2d-f5ba-e07fbd699df3"
      },
      "outputs": [
        {
          "name": "stdout",
          "output_type": "stream",
          "text": [
            "Price is 21.4\n",
            "Price is 13.67\n",
            "Price is 3.245\n"
          ]
        }
      ],
      "source": [
        "prices = [21.40, 13.670, 3.2450] \n",
        "for price in prices: \n",
        "    print('Price is', price)"
      ]
    },
    {
      "cell_type": "code",
      "execution_count": null,
      "id": "d837e747",
      "metadata": {
        "id": "d837e747",
        "outputId": "588857bb-f34b-4309-c125-012b9eec677f"
      },
      "outputs": [
        {
          "name": "stdout",
          "output_type": "stream",
          "text": [
            "0.17508203937882116\n",
            "12\n",
            "7\n"
          ]
        }
      ],
      "source": [
        "import random\n",
        "r1 = random.random() \n",
        "print(r1)\n",
        "r2 = random.choice([11,12,13,14,15])\n",
        "print(r2)\n",
        "r3 = random.randint(1, 10) \n",
        "print(r3)"
      ]
    },
    {
      "cell_type": "code",
      "execution_count": null,
      "id": "0144e41a",
      "metadata": {
        "id": "0144e41a",
        "outputId": "7b83d8e0-27f1-4119-a327-d57a88670684"
      },
      "outputs": [
        {
          "name": "stdout",
          "output_type": "stream",
          "text": [
            "66\n",
            "12\n",
            "30\n",
            "19\n",
            "37\n",
            "51\n",
            "56\n",
            "80\n",
            "13\n",
            "17\n",
            "87\n",
            "99\n",
            "30\n",
            "27\n",
            "1\n",
            "71\n",
            "46\n",
            "55\n",
            "23\n",
            "93\n",
            "87\n",
            "92\n",
            "9\n",
            "69\n",
            "11\n",
            "63\n",
            "91\n",
            "76\n",
            "51\n",
            "100\n",
            "27\n",
            "92\n",
            "28\n",
            "35\n",
            "47\n",
            "85\n",
            "45\n",
            "57\n",
            "11\n",
            "58\n",
            "72\n",
            "35\n",
            "81\n",
            "92\n",
            "5\n",
            "17\n",
            "67\n",
            "5\n",
            "55\n",
            "62\n",
            "77\n",
            "32\n",
            "59\n",
            "12\n",
            "3\n",
            "57\n",
            "15\n",
            "76\n",
            "43\n",
            "58\n",
            "98\n",
            "6\n",
            "87\n",
            "54\n",
            "92\n",
            "75\n",
            "38\n",
            "1\n",
            "37\n",
            "37\n",
            "64\n",
            "15\n",
            "2\n",
            "82\n",
            "65\n",
            "44\n",
            "88\n",
            "66\n",
            "40\n",
            "50\n",
            "100\n",
            "17\n",
            "73\n",
            "15\n",
            "22\n",
            "84\n",
            "5\n",
            "49\n",
            "99\n",
            "27\n",
            "62\n",
            "56\n",
            "56\n",
            "86\n",
            "27\n",
            "11\n",
            "65\n",
            "60\n",
            "41\n",
            "71\n"
          ]
        }
      ],
      "source": [
        "import random\n",
        "for i in range(100):\n",
        "    ticket = random.randint(1, 100)\n",
        "    print(ticket)"
      ]
    },
    {
      "cell_type": "code",
      "execution_count": null,
      "id": "5e8283d8",
      "metadata": {
        "id": "5e8283d8",
        "outputId": "c7307c92-cf34-4f83-e1a3-0535d9a604e9"
      },
      "outputs": [
        {
          "name": "stdout",
          "output_type": "stream",
          "text": [
            "2001\n",
            "2003\n",
            "2005\n",
            "2007\n",
            "2009\n",
            "2011\n",
            "2013\n",
            "2015\n",
            "2017\n",
            "2019\n",
            "2021\n"
          ]
        }
      ],
      "source": [
        "for i in range(2001, 2022, 2):\n",
        "    print(i)"
      ]
    },
    {
      "cell_type": "code",
      "execution_count": null,
      "id": "af171557",
      "metadata": {
        "id": "af171557",
        "outputId": "7b953ba3-aa26-4d5c-8178-6002c677e0bb"
      },
      "outputs": [
        {
          "name": "stdout",
          "output_type": "stream",
          "text": [
            "FIFA22 : Rs 2999\n",
            "RDR2 : Rs 3499\n",
            "GTAV : Rs 1999\n",
            "Valorant : Rs 0\n"
          ]
        }
      ],
      "source": [
        "Game_prices = {'FIFA22': 2999 , 'RDR2': 3499, 'GTAV': 1999, 'Valorant': 0}\n",
        "for name, price in Game_prices.items():\n",
        "    print(name, ': Rs', price)"
      ]
    },
    {
      "cell_type": "code",
      "execution_count": null,
      "id": "72edb542",
      "metadata": {
        "id": "72edb542",
        "outputId": "f61f9b18-5946-4de8-ad5c-44c8bbab102b"
      },
      "outputs": [
        {
          "name": "stdout",
          "output_type": "stream",
          "text": [
            "Enter the Number11\n",
            "1\n",
            "2\n",
            "3\n",
            "4\n",
            "5\n",
            "6\n",
            "7\n",
            "8\n",
            "9\n",
            "10\n",
            "11\n",
            "12\n"
          ]
        }
      ],
      "source": [
        "n= int(input('Enter the Number'))\n",
        "for num in range(1,n+2,1):\n",
        "    print(num)"
      ]
    }
  ],
  "metadata": {
    "kernelspec": {
      "display_name": "Python 3 (ipykernel)",
      "language": "python",
      "name": "python3"
    },
    "language_info": {
      "codemirror_mode": {
        "name": "ipython",
        "version": 3
      },
      "file_extension": ".py",
      "mimetype": "text/x-python",
      "name": "python",
      "nbconvert_exporter": "python",
      "pygments_lexer": "ipython3",
      "version": "3.9.7"
    },
    "colab": {
      "name": "List_tuple_dict_set_prac2.ipynb",
      "provenance": [],
      "include_colab_link": true
    }
  },
  "nbformat": 4,
  "nbformat_minor": 5
}