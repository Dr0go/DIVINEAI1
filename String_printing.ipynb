{
  "cells": [
    {
      "cell_type": "markdown",
      "metadata": {
        "id": "view-in-github",
        "colab_type": "text"
      },
      "source": [
        "<a href=\"https://colab.research.google.com/github/Dr0go/DIVINEAI1/blob/main/String_printing.ipynb\" target=\"_parent\"><img src=\"https://colab.research.google.com/assets/colab-badge.svg\" alt=\"Open In Colab\"/></a>"
      ]
    },
    {
      "cell_type": "code",
      "execution_count": null,
      "id": "02581f19",
      "metadata": {
        "id": "02581f19",
        "outputId": "13ec29f3-da06-4347-da0a-b4230befb156"
      },
      "outputs": [
        {
          "name": "stdout",
          "output_type": "stream",
          "text": [
            "His name is Killua Zoldyck\n"
          ]
        }
      ],
      "source": [
        "#we can use %s to inject strings into the printed statements. % is referred to as a \"string formatting operator\".\n",
        "print(\"His name is %s Zoldyck\"%'Killua')"
      ]
    },
    {
      "cell_type": "code",
      "execution_count": null,
      "id": "5f0d04dc",
      "metadata": {
        "id": "5f0d04dc",
        "outputId": "37d1db9a-aa68-46d8-dc8a-3df571436da4"
      },
      "outputs": [
        {
          "name": "stdout",
          "output_type": "stream",
          "text": [
            "His name is Killua Zoldyck and he is a hunter\n"
          ]
        }
      ],
      "source": [
        "#We can pass multiple items by placing them inside a tuple after the % operator.\n",
        "print(\"His name is %s Zoldyck and he is a %s\"%('Killua','hunter'))"
      ]
    },
    {
      "cell_type": "code",
      "execution_count": null,
      "id": "37926979",
      "metadata": {
        "id": "37926979",
        "outputId": "3572cebd-6c65-4b19-a9ad-d36e64a228fb"
      },
      "outputs": [
        {
          "name": "stdout",
          "output_type": "stream",
          "text": [
            "His name is Killua Zoldyck and he is a hunter\n"
          ]
        }
      ],
      "source": [
        "#We can also pass variable names\n",
        "a,b='Killua','hunter'\n",
        "print(\"His name is %s Zoldyck and he is a %s\"%(a,b))"
      ]
    },
    {
      "cell_type": "code",
      "execution_count": null,
      "id": "7075a362",
      "metadata": {
        "id": "7075a362",
        "outputId": "d1c62df7-da63-4cf8-de36-9289c0ed2fcf"
      },
      "outputs": [
        {
          "name": "stdout",
          "output_type": "stream",
          "text": [
            "He said his name was Julius Novachrono\n",
            "He said his name was 'Julius Novachrono'\n"
          ]
        }
      ],
      "source": [
        "#Format conversion\n",
        "#%r and repr() deliver the string representation of the object, including quotation marks and any escape characters\n",
        "print(\"He said his name was %s\"%'Julius Novachrono')\n",
        "print(\"He said his name was %r\"%'Julius Novachrono')"
      ]
    },
    {
      "cell_type": "code",
      "execution_count": null,
      "id": "9511a57f",
      "metadata": {
        "id": "9511a57f",
        "outputId": "5af9c811-5b3a-4fdd-8278-d5a854f98a72"
      },
      "outputs": [
        {
          "name": "stdout",
          "output_type": "stream",
          "text": [
            "He said his name was Julius \t Novachrono\n",
            "He said his name was 'Julius \\t Novachrono'\n"
          ]
        }
      ],
      "source": [
        "#lets put \\t to insert a tab\n",
        "print(\"He said his name was %s\" %'Julius \\t Novachrono')\n",
        "print(\"He said his name was %r\"%'Julius \\t Novachrono')"
      ]
    },
    {
      "cell_type": "code",
      "execution_count": null,
      "id": "568e5060",
      "metadata": {
        "id": "568e5060",
        "outputId": "c9d31526-d551-4adb-8a50-ebdce1289d7f"
      },
      "outputs": [
        {
          "name": "stdout",
          "output_type": "stream",
          "text": [
            "I bought 5.5 Jalebi today\n",
            "I bought 5 Jalebi today\n"
          ]
        }
      ],
      "source": [
        "\n",
        "print('I bought %s Jalebi today'%5.5)\n",
        "print('I bought %d Jalebi today'%5.5)"
      ]
    },
    {
      "cell_type": "code",
      "execution_count": null,
      "id": "72032434",
      "metadata": {
        "id": "72032434",
        "outputId": "571bc27d-5e0c-4725-883e-0d93f242a043"
      },
      "outputs": [
        {
          "name": "stdout",
          "output_type": "stream",
          "text": [
            "floating point numbers: 12.44\n"
          ]
        }
      ],
      "source": [
        "#Padding and Precision of Floating Point Numbers\n",
        "#Floating point numbers use the format %5.2f\n",
        "print('floating point numbers: %5.2f'%(12.4444))"
      ]
    },
    {
      "cell_type": "code",
      "execution_count": null,
      "id": "9d4a4fd1",
      "metadata": {
        "id": "9d4a4fd1",
        "outputId": "93660187-2032-42b0-b9a4-d61eccb1a02c"
      },
      "outputs": [
        {
          "name": "stdout",
          "output_type": "stream",
          "text": [
            "floating point numbers: 12.4444\n"
          ]
        }
      ],
      "source": [
        "print('floating point numbers: %1.4f'%(12.4444))"
      ]
    },
    {
      "cell_type": "code",
      "execution_count": null,
      "id": "8c890ef6",
      "metadata": {
        "id": "8c890ef6",
        "outputId": "c251ca1d-40d7-4f0c-fb80-4c35dd273cf0"
      },
      "outputs": [
        {
          "name": "stdout",
          "output_type": "stream",
          "text": [
            "floating point numbers:                12.44\n"
          ]
        }
      ],
      "source": [
        "print('floating point numbers: %20.2f'%(12.4444))"
      ]
    },
    {
      "cell_type": "code",
      "execution_count": null,
      "id": "83098879",
      "metadata": {
        "id": "83098879",
        "outputId": "61e28cb5-6713-4e39-a839-791ef102dfeb"
      },
      "outputs": [
        {
          "name": "stdout",
          "output_type": "stream",
          "text": [
            "floating point numbers:    12\n"
          ]
        }
      ],
      "source": [
        "print('floating point numbers: %5.0f'%(12.4444))"
      ]
    },
    {
      "cell_type": "code",
      "execution_count": null,
      "id": "39d81a8e",
      "metadata": {
        "id": "39d81a8e",
        "outputId": "c2ed6ff7-25b0-4579-d331-5ae02b01b5c8"
      },
      "outputs": [
        {
          "name": "stdout",
          "output_type": "stream",
          "text": [
            "Akame killed almost 3125 people of 'The world'\n"
          ]
        }
      ],
      "source": [
        "#Multiple Formatting\n",
        "#using more than one conversion tool in the same print statement\n",
        "print('Akame %s almost %1.0f people of %r'%('killed',3125,'The world'))"
      ]
    },
    {
      "cell_type": "code",
      "execution_count": null,
      "id": "839f5ec0",
      "metadata": {
        "id": "839f5ec0",
        "outputId": "34967ab7-a93b-4ef1-81f6-002da1ba9e26"
      },
      "outputs": [
        {
          "name": "stdout",
          "output_type": "stream",
          "text": [
            "Hashirama and Madara are best friends\n"
          ]
        }
      ],
      "source": [
        "#Formatting with the .format() method\n",
        "print('Hashirama and Madara are best {}'.format('friends'))"
      ]
    },
    {
      "cell_type": "code",
      "execution_count": null,
      "id": "6f101985",
      "metadata": {
        "id": "6f101985",
        "outputId": "7437bf9d-ac24-44ab-9379-ba0b90d1051c"
      },
      "outputs": [
        {
          "name": "stdout",
          "output_type": "stream",
          "text": [
            "The nine tailed fox\n"
          ]
        }
      ],
      "source": [
        "# Inserted objects can be called by index position\n",
        "print('The {2} {1} {0}'.format('fox','tailed','nine'))"
      ]
    },
    {
      "cell_type": "code",
      "execution_count": null,
      "id": "bcc3ce4a",
      "metadata": {
        "id": "bcc3ce4a",
        "outputId": "7a780380-a89b-450b-e90b-e66544ee95cc"
      },
      "outputs": [
        {
          "name": "stdout",
          "output_type": "stream",
          "text": [
            "A single uchiha killed the whole clan\n"
          ]
        }
      ],
      "source": [
        "# Inserted objects can be assigned keywords\n",
        "print('A single {a} {b} the whole {c}'.format(a='uchiha',b='killed',c='clan'))"
      ]
    },
    {
      "cell_type": "code",
      "execution_count": null,
      "id": "4ffc489f",
      "metadata": {
        "id": "4ffc489f",
        "outputId": "feedab52-0e9c-4f81-fd0a-cf7032a9cd05"
      },
      "outputs": [
        {
          "name": "stdout",
          "output_type": "stream",
          "text": [
            "Madara Uchiha saved Obito Uchiha\n"
          ]
        }
      ],
      "source": [
        "# Inserted objects can be reused, avoiding duplication\n",
        "print('Madara {p} saved Obito {p}'.format(p='Uchiha'))"
      ]
    },
    {
      "cell_type": "code",
      "execution_count": null,
      "id": "b5f5db5e",
      "metadata": {
        "id": "b5f5db5e",
        "outputId": "957340fb-d408-4253-97a1-6cb88ef0b52d"
      },
      "outputs": [
        {
          "name": "stdout",
          "output_type": "stream",
          "text": [
            "Captain of the black bulls is Yami Sukehiro.\n"
          ]
        }
      ],
      "source": [
        "#Formatted String Literals (f-strings)\n",
        "name='Yami Sukehiro'\n",
        "print(f\"Captain of the black bulls is {name}.\")"
      ]
    },
    {
      "cell_type": "code",
      "execution_count": null,
      "id": "94a20c24",
      "metadata": {
        "id": "94a20c24",
        "outputId": "fb3a174c-f46e-44b7-bb2b-1ddd2aa67e59"
      },
      "outputs": [
        {
          "name": "stdout",
          "output_type": "stream",
          "text": [
            "Captain of the black bulls is 'Yami Sukehiro'.\n"
          ]
        }
      ],
      "source": [
        "#Pass !r to get the string representation\n",
        "print(f\"Captain of the black bulls is {name!r}.\")"
      ]
    },
    {
      "cell_type": "code",
      "execution_count": null,
      "id": "07e5355c",
      "metadata": {
        "id": "07e5355c"
      },
      "outputs": [],
      "source": [
        ""
      ]
    }
  ],
  "metadata": {
    "kernelspec": {
      "display_name": "Python 3 (ipykernel)",
      "language": "python",
      "name": "python3"
    },
    "language_info": {
      "codemirror_mode": {
        "name": "ipython",
        "version": 3
      },
      "file_extension": ".py",
      "mimetype": "text/x-python",
      "name": "python",
      "nbconvert_exporter": "python",
      "pygments_lexer": "ipython3",
      "version": "3.9.7"
    },
    "colab": {
      "name": "String printing.ipynb",
      "provenance": [],
      "include_colab_link": true
    }
  },
  "nbformat": 4,
  "nbformat_minor": 5
}