{
  "cells": [
    {
      "cell_type": "markdown",
      "metadata": {
        "id": "view-in-github",
        "colab_type": "text"
      },
      "source": [
        "<a href=\"https://colab.research.google.com/github/Dr0go/DIVINEAI1/blob/main/List_prac1.ipynb\" target=\"_parent\"><img src=\"https://colab.research.google.com/assets/colab-badge.svg\" alt=\"Open In Colab\"/></a>"
      ]
    },
    {
      "cell_type": "code",
      "execution_count": null,
      "id": "9257730c",
      "metadata": {
        "id": "9257730c",
        "outputId": "1eabce20-5937-4cca-c150-66304515b8aa"
      },
      "outputs": [
        {
          "name": "stdout",
          "output_type": "stream",
          "text": [
            "Before\n",
            "7 7\n",
            "3 3\n",
            "3 67\n",
            "3 28\n",
            "3 95\n",
            "3 63\n",
            "After 3\n"
          ]
        }
      ],
      "source": [
        "smallest = None\n",
        "print('Before')\n",
        "for value in [7,3,67,28,95,63] : \n",
        "     if smallest is None : \n",
        "         smallest = value   \n",
        "     elif value < smallest : \n",
        "         smallest = value   \n",
        "     print(smallest, value)\n",
        "print('After', smallest)"
      ]
    },
    {
      "cell_type": "code",
      "execution_count": null,
      "id": "1ad5fcd1",
      "metadata": {
        "id": "1ad5fcd1",
        "outputId": "195e4d59-cc2c-413a-b73c-2c035b4d6149"
      },
      "outputs": [
        {
          "name": "stdout",
          "output_type": "stream",
          "text": [
            "A tuple: (7, 3, 67, 28, 95, 63)\n",
            "First element of tuple is : 7\n"
          ]
        }
      ],
      "source": [
        "ex_tuple = (7,3,67,28,95,63)\n",
        "print('A tuple:', ex_tuple)\n",
        "print('First element of tuple is :', ex_tuple[0])"
      ]
    },
    {
      "cell_type": "code",
      "execution_count": null,
      "id": "7e8cd09d",
      "metadata": {
        "id": "7e8cd09d",
        "outputId": "2c524fd1-2f2e-46da-b18e-99abb06cbba2"
      },
      "outputs": [
        {
          "name": "stdout",
          "output_type": "stream",
          "text": [
            "[2, 54, 7, 4, 3]\n",
            "[20, 54, 7, 4, 3]\n",
            "[20, 54, 7, 8, 3]\n"
          ]
        }
      ],
      "source": [
        "List=[2,54,7,4,3] \n",
        "print(List) \n",
        "List[0]=20 \n",
        "print(List) \n",
        "List[3]=8 \n",
        "print(List) "
      ]
    },
    {
      "cell_type": "code",
      "execution_count": null,
      "id": "63b4646c",
      "metadata": {
        "id": "63b4646c",
        "outputId": "eedc39e5-cccc-4bfe-bc77-0ad611369016"
      },
      "outputs": [
        {
          "name": "stdout",
          "output_type": "stream",
          "text": [
            "A list: [7, 3, 67, 287, 95, 63]\n",
            "First element of list: 7\n",
            "Appended list: [7, 3, 67, 287, 95, 63, 12]\n",
            "Modified list: [45, 3, 67, 287, 95, 63, 12]\n"
          ]
        }
      ],
      "source": [
        "example_list = [7,3,67,287,95,63]\n",
        "print('A list:', example_list)\n",
        "print('First element of list:', example_list[0])\n",
        "example_list.append(12)\n",
        "print('Appended list:', example_list)\n",
        "example_list[0] = 45\n",
        "print('Modified list:', example_list)"
      ]
    },
    {
      "cell_type": "code",
      "execution_count": null,
      "id": "4b206b51",
      "metadata": {
        "id": "4b206b51",
        "outputId": "4100b68f-51a2-4c2e-b62d-3633a391e42d"
      },
      "outputs": [
        {
          "name": "stdout",
          "output_type": "stream",
          "text": [
            "Here is a string: DROGOGG\n",
            "First character: D\n",
            "Number of characters in text 7\n"
          ]
        }
      ],
      "source": [
        "text = \"DROGOGG\"\n",
        "print('Here is a string:', text)\n",
        "print('First character:', text[0])\n",
        "print('Number of characters in text', len(text))"
      ]
    },
    {
      "cell_type": "code",
      "execution_count": null,
      "id": "a8b057b7",
      "metadata": {
        "id": "a8b057b7",
        "outputId": "34d2c2a5-d1d3-4238-bb61-258232693048"
      },
      "outputs": [
        {
          "name": "stdout",
          "output_type": "stream",
          "text": [
            "A set: {1, 2, 4, 5, 6}\n"
          ]
        }
      ],
      "source": [
        "example_set = set([1,2,2,2,2,4,5,6,6,6])\n",
        "print('A set:', example_set)"
      ]
    },
    {
      "cell_type": "code",
      "execution_count": null,
      "id": "3611a59e",
      "metadata": {
        "id": "3611a59e",
        "outputId": "0abd3b20-df3a-45be-86a1-0d005501ef88"
      },
      "outputs": [
        {
          "name": "stdout",
          "output_type": "stream",
          "text": [
            "MERCEDES\n"
          ]
        }
      ],
      "source": [
        "d = { \"foo\" : 1, \"bar\" : 2,\"brand\" : ['LAMBORGHINI', 'ALFA ROMEO','MERCEDES','BUGGATI'] }\n",
        "print(d[\"brand\"][2])"
      ]
    },
    {
      "cell_type": "code",
      "execution_count": null,
      "id": "c97de0f9",
      "metadata": {
        "id": "c97de0f9",
        "outputId": "2caad5bf-d053-46a2-dacf-ecf97bfb8db5"
      },
      "outputs": [
        {
          "name": "stdout",
          "output_type": "stream",
          "text": [
            "dict_keys(['GG'])\n"
          ]
        }
      ],
      "source": [
        "some_dict = {}\n",
        "some_dict[\"GG\"] = \"WOW!\"\n",
        "print(some_dict.keys()) "
      ]
    },
    {
      "cell_type": "code",
      "execution_count": null,
      "id": "4aa3f197",
      "metadata": {
        "id": "4aa3f197",
        "outputId": "c4dbd12e-3d88-4451-d20f-63cb59c68613"
      },
      "outputs": [
        {
          "name": "stdout",
          "output_type": "stream",
          "text": [
            "N\n"
          ]
        }
      ],
      "source": [
        "d1={\"flag\": [\"red\",\"white\",\"blue\",(\"GG\",[1,2,'EZ4ENCE'])]}\n",
        "print(d1['flag'][3][1][2][4])"
      ]
    },
    {
      "cell_type": "code",
      "execution_count": null,
      "id": "2dbcf548",
      "metadata": {
        "id": "2dbcf548",
        "outputId": "521dc1bf-9d7e-4e81-9e2d-ff472022166b"
      },
      "outputs": [
        {
          "name": "stdout",
          "output_type": "stream",
          "text": [
            "A\n"
          ]
        }
      ],
      "source": [
        "d1={\n",
        "    \"flag\":[\"d\",\"h\",\"e\",(\"hi\",[1,{1:['Happy Lunar new{year: Arigato}']},2,'ho'])]}\n",
        "print(d1['flag'][-1][-1][-3][1][-1][-8])"
      ]
    },
    {
      "cell_type": "code",
      "execution_count": null,
      "id": "c02ce013",
      "metadata": {
        "id": "c02ce013",
        "outputId": "edcdddb7-4333-4e0f-97e4-1a7c53a4fed9"
      },
      "outputs": [
        {
          "name": "stdout",
          "output_type": "stream",
          "text": [
            "None\n"
          ]
        }
      ],
      "source": [
        "print(d1.get('flg'))"
      ]
    },
    {
      "cell_type": "code",
      "execution_count": null,
      "id": "e5cf22ce",
      "metadata": {
        "id": "e5cf22ce",
        "outputId": "501ad665-725d-42d0-f298-026e9968668b"
      },
      "outputs": [
        {
          "name": "stdout",
          "output_type": "stream",
          "text": [
            "2110103820864\n",
            "2110103829184\n",
            "2110075870656\n",
            "2110103829184\n"
          ]
        }
      ],
      "source": [
        "a = (1,6,1)\n",
        "print(id(a))\n",
        "b = (2,5,7)\n",
        "print(id(b))\n",
        "a = a + b\n",
        "print(id(a))\n",
        "print(id(b))"
      ]
    },
    {
      "cell_type": "code",
      "execution_count": null,
      "id": "84578d1e",
      "metadata": {
        "id": "84578d1e",
        "outputId": "9825fb37-dbf6-4e31-f010-6f46be0ff17d"
      },
      "outputs": [
        {
          "name": "stdout",
          "output_type": "stream",
          "text": [
            "2110103889728\n",
            "2110103892544\n",
            "2110103892288\n",
            "2110103892544\n",
            "[1, 6, 1, 2, 5, 7]\n"
          ]
        }
      ],
      "source": [
        "a = [1,6,1]\n",
        "print(id(a))\n",
        "b = [2,5,7]\n",
        "print(id(b))\n",
        "a = a + b\n",
        "print(id(a))\n",
        "print(id(b))\n",
        "print(a)"
      ]
    },
    {
      "cell_type": "code",
      "execution_count": null,
      "id": "303000a6",
      "metadata": {
        "id": "303000a6",
        "outputId": "8debc930-76ba-469e-9620-e069838ffb95"
      },
      "outputs": [
        {
          "name": "stdout",
          "output_type": "stream",
          "text": [
            "2110103889728\n",
            "2110103735424\n",
            "2110103889728\n",
            "2110103735424\n",
            "[1, 6, 1, 4]\n"
          ]
        }
      ],
      "source": [
        "a = [1,6,1]\n",
        "print(id(a))\n",
        "b = [2,5,7]\n",
        "print(id(b))\n",
        "a.append(4)\n",
        "print(id(a))\n",
        "print(id(b))\n",
        "print(a)"
      ]
    },
    {
      "cell_type": "code",
      "execution_count": null,
      "id": "b6c72c4a",
      "metadata": {
        "id": "b6c72c4a",
        "outputId": "2e44b8d9-938f-4d1e-d000-ed0521b7763f"
      },
      "outputs": [
        {
          "data": {
            "text/plain": [
              "'MOSHI MOSHITASKETE KUDASAI'"
            ]
          },
          "execution_count": 21,
          "metadata": {},
          "output_type": "execute_result"
        }
      ],
      "source": [
        "s1 = \"MOSHI MOSHI\" \n",
        "s2 = 'TASKETE'\n",
        "s1 = s1 + s2\n",
        "s1 = s1 + ' KUDASAI'\n",
        "s1"
      ]
    },
    {
      "cell_type": "code",
      "execution_count": null,
      "id": "ea291676",
      "metadata": {
        "id": "ea291676",
        "outputId": "216b0945-e1b2-438e-8427-7100ef11d794"
      },
      "outputs": [
        {
          "data": {
            "text/plain": [
              "'araaraara'"
            ]
          },
          "execution_count": 22,
          "metadata": {},
          "output_type": "execute_result"
        }
      ],
      "source": [
        "'ara' * 3"
      ]
    },
    {
      "cell_type": "code",
      "execution_count": null,
      "id": "60c1287e",
      "metadata": {
        "id": "60c1287e",
        "outputId": "0e0ea324-016e-4c0a-84f4-24c6d591b50b"
      },
      "outputs": [
        {
          "data": {
            "text/plain": [
              "'m'"
            ]
          },
          "execution_count": 23,
          "metadata": {},
          "output_type": "execute_result"
        }
      ],
      "source": [
        "a = [1,True,'ara ara',[1,2,3],(5,6,'sayonara',[7,8,'gomen'],('honto ni',5,False))]\n",
        "a[4][3][2][2]"
      ]
    },
    {
      "cell_type": "code",
      "execution_count": null,
      "id": "01e78d92",
      "metadata": {
        "id": "01e78d92",
        "outputId": "6a45ee23-4a7f-4d1e-b61d-25913041446b"
      },
      "outputs": [
        {
          "name": "stdout",
          "output_type": "stream",
          "text": [
            "False\n",
            "False\n",
            "False\n"
          ]
        }
      ],
      "source": [
        "my_list = [1, 2, 4, 4] \n",
        "your_list = [4, 4, 2, 1] \n",
        "his_list = [1, 2, 3, 4]\n",
        "print(my_list == your_list) \n",
        "print(my_list == his_list)\n",
        "my_dict = {1:7, 2:2, 3:3, 4:4} \n",
        "your_dict = {4:4, 3:3, 2:2, 1:1}\n",
        "print(my_dict == your_dict)"
      ]
    },
    {
      "cell_type": "code",
      "execution_count": null,
      "id": "058a28bb",
      "metadata": {
        "id": "058a28bb",
        "outputId": "504aa2df-22ee-4a5f-efba-647475c81e9e"
      },
      "outputs": [
        {
          "name": "stdout",
          "output_type": "stream",
          "text": [
            "A dictionary: {'A': 'Akatsuki', 'B': 'Bulat ', 'C': 'Chrome', 'D': 'Deidara'}\n",
            "Value associated to key C is: Chrome\n"
          ]
        }
      ],
      "source": [
        "example_dictionary = {\"A\": \"Akatsuki\", \n",
        "                      \"B\": \"Bulat \", \n",
        "                      \"C\": \"Chrome\", \n",
        "                      \"D\": \"Deidara\"}\n",
        "print('A dictionary:', example_dictionary)\n",
        "print('Value associated to key C is:', example_dictionary['C'])"
      ]
    },
    {
      "cell_type": "code",
      "execution_count": null,
      "id": "94e0d180",
      "metadata": {
        "id": "94e0d180",
        "outputId": "88f38bc7-b079-4342-8922-a241f6c2c267"
      },
      "outputs": [
        {
          "name": "stdout",
          "output_type": "stream",
          "text": [
            "25\n",
            "16\n",
            "9\n",
            "4\n",
            "1\n",
            "O\n",
            "B\n",
            "I\n",
            "T\n",
            "O\n"
          ]
        }
      ],
      "source": [
        "for num in [5,4,3,2,1]:\n",
        "    print(num**2)\n",
        "\n",
        "for num in 'OBITO':\n",
        "    print(num)"
      ]
    },
    {
      "cell_type": "code",
      "execution_count": null,
      "id": "ab079377",
      "metadata": {
        "id": "ab079377",
        "outputId": "0a47f77f-c5cd-4d4d-e223-b09067b9e98a"
      },
      "outputs": [
        {
          "name": "stdout",
          "output_type": "stream",
          "text": [
            "Is 2 < 5? True\n",
            "Is 2 == 5? False\n",
            "Is 2 < 5 and 2 > 1? True\n",
            "x is equal to 2\n"
          ]
        }
      ],
      "source": [
        "x = 2\n",
        "print('Is 2 < 5?', x < 7)\n",
        "print('Is 2 == 5?', x == 7)\n",
        "print('Is 2 < 5 and 2 > 1?', (x < 5) & (x > 1))\n",
        "\n",
        "if x == 2:\n",
        "    print('x is equal to 2')"
      ]
    },
    {
      "cell_type": "code",
      "execution_count": null,
      "id": "8ba32433",
      "metadata": {
        "id": "8ba32433",
        "outputId": "ebc6e5a1-5b17-44d3-b04f-49a57b7d1c5d"
      },
      "outputs": [
        {
          "name": "stdout",
          "output_type": "stream",
          "text": [
            "The element in list is: U\n",
            "The element in list is: C\n",
            "The element in list is: K\n",
            "The element in list is: O\n",
            "The element in list is: F\n"
          ]
        }
      ],
      "source": [
        "example_list = ['U', 'C', 'K', 'O', 'F']\n",
        "for element in example_list:\n",
        "    print(\"The element in list is:\", element)"
      ]
    },
    {
      "cell_type": "code",
      "execution_count": null,
      "id": "e97d2485",
      "metadata": {
        "id": "e97d2485",
        "outputId": "c94e151f-a9d7-476e-f44a-e3ad2289183e"
      },
      "outputs": [
        {
          "name": "stdout",
          "output_type": "stream",
          "text": [
            "Price is 253.5\n",
            "Price is 63.5\n",
            "Price is 41.5\n",
            "total is 358.5\n",
            "avg is 119.5\n"
          ]
        }
      ],
      "source": [
        "total = 0\n",
        "prices = [253.50, 63.50, 41.50]\n",
        "for price in prices:\n",
        "    print('Price is', price) \n",
        "    total = total + price\n",
        "print('total is', total)\n",
        "average = total/len(prices) \n",
        "print('avg is', average)\n"
      ]
    },
    {
      "cell_type": "code",
      "execution_count": null,
      "id": "4c443ab5",
      "metadata": {
        "id": "4c443ab5",
        "outputId": "5fb50c4b-079a-42b9-b612-a35c41e54c31"
      },
      "outputs": [
        {
          "name": "stdout",
          "output_type": "stream",
          "text": [
            "0.6131520448477988\n",
            "11\n",
            "11\n"
          ]
        }
      ],
      "source": [
        "import random\n",
        "r1 = random.random()\n",
        "print(r1)\n",
        "r2 = random.choice([11,22,33,44,55])\n",
        "r3 = random.randint(1, 100) \n",
        "print(r2)\n",
        "print(r3)"
      ]
    },
    {
      "cell_type": "code",
      "execution_count": null,
      "id": "4df07ace",
      "metadata": {
        "id": "4df07ace",
        "outputId": "e3f6c0ee-592d-46ff-b00b-2ee33becf1cf"
      },
      "outputs": [
        {
          "name": "stdout",
          "output_type": "stream",
          "text": [
            "17\n",
            "43\n",
            "48\n",
            "71\n",
            "46\n",
            "25\n",
            "74\n",
            "13\n",
            "22\n",
            "37\n",
            "62\n",
            "86\n",
            "37\n",
            "78\n",
            "15\n",
            "36\n",
            "19\n",
            "87\n",
            "29\n",
            "70\n",
            "34\n",
            "13\n",
            "63\n",
            "95\n",
            "26\n",
            "70\n",
            "4\n",
            "32\n",
            "45\n",
            "99\n",
            "45\n",
            "39\n",
            "89\n",
            "40\n",
            "23\n",
            "74\n",
            "22\n",
            "65\n",
            "28\n",
            "20\n",
            "100\n",
            "92\n",
            "82\n",
            "36\n",
            "82\n",
            "12\n",
            "100\n",
            "95\n",
            "87\n",
            "41\n",
            "85\n",
            "10\n",
            "98\n",
            "81\n",
            "95\n",
            "34\n",
            "76\n",
            "82\n",
            "23\n",
            "21\n",
            "48\n",
            "86\n",
            "54\n",
            "84\n",
            "7\n",
            "43\n",
            "16\n",
            "68\n",
            "43\n",
            "14\n",
            "66\n",
            "99\n",
            "48\n",
            "75\n",
            "58\n",
            "80\n",
            "54\n",
            "80\n",
            "89\n",
            "3\n",
            "61\n",
            "87\n",
            "91\n",
            "78\n",
            "79\n",
            "90\n",
            "43\n",
            "76\n",
            "19\n",
            "15\n",
            "47\n",
            "30\n",
            "57\n",
            "98\n",
            "6\n",
            "9\n",
            "25\n",
            "43\n",
            "50\n",
            "68\n"
          ]
        }
      ],
      "source": [
        "import random\n",
        "for i in range(100):\n",
        "    ticket = random.randint(1, 100)\n",
        "    print(ticket)"
      ]
    },
    {
      "cell_type": "code",
      "execution_count": null,
      "id": "4a559209",
      "metadata": {
        "id": "4a559209",
        "outputId": "41696fcb-3722-4b94-bf0b-c841ef9b7e94"
      },
      "outputs": [
        {
          "name": "stdout",
          "output_type": "stream",
          "text": [
            "2001\n",
            "2003\n",
            "2005\n",
            "2007\n",
            "2009\n",
            "2011\n",
            "2013\n",
            "2015\n",
            "2017\n",
            "2019\n",
            "2021\n"
          ]
        }
      ],
      "source": [
        "for i in range(2001, 2022, 2):\n",
        "    print(i)"
      ]
    },
    {
      "cell_type": "code",
      "execution_count": null,
      "id": "9d59a640",
      "metadata": {
        "id": "9d59a640",
        "outputId": "4fdce1b5-54e4-4a08-b87e-8b978efedea3"
      },
      "outputs": [
        {
          "name": "stdout",
          "output_type": "stream",
          "text": [
            "dict_items([('K', 0.5), ('P', 1.5), ('S', 2.5), ('G', 3.5)])\n",
            "K : RS 0.5\n",
            "P : RS 1.5\n",
            "S : RS 2.5\n",
            "G : RS 3.5\n"
          ]
        }
      ],
      "source": [
        "menu_prices = {\n",
        "    'K': 0.50,\n",
        "    'P': 1.50, \n",
        "    'S': 2.50, \n",
        "    'G': 3.50\n",
        "}\n",
        "print(menu_prices.items())\n",
        "for name, price in menu_prices.items():\n",
        "    print(name, ': RS', price)"
      ]
    },
    {
      "cell_type": "code",
      "execution_count": null,
      "id": "475641d6",
      "metadata": {
        "id": "475641d6",
        "outputId": "ea117066-c4a6-40cd-9cfc-286f347f7c26"
      },
      "outputs": [
        {
          "name": "stdout",
          "output_type": "stream",
          "text": [
            "Enter the Number77\n",
            "0\n",
            "1\n",
            "2\n",
            "3\n",
            "4\n",
            "5\n",
            "6\n",
            "7\n",
            "8\n",
            "9\n",
            "10\n",
            "11\n",
            "12\n",
            "13\n",
            "14\n",
            "15\n",
            "16\n",
            "17\n",
            "18\n",
            "19\n",
            "20\n",
            "21\n",
            "22\n",
            "23\n",
            "24\n",
            "25\n",
            "26\n",
            "27\n",
            "28\n",
            "29\n",
            "30\n",
            "31\n",
            "32\n",
            "33\n",
            "34\n",
            "35\n",
            "36\n",
            "37\n",
            "38\n",
            "39\n",
            "40\n",
            "41\n",
            "42\n",
            "43\n",
            "44\n",
            "45\n",
            "46\n",
            "47\n",
            "48\n",
            "49\n",
            "50\n",
            "51\n",
            "52\n",
            "53\n",
            "54\n",
            "55\n",
            "56\n",
            "57\n",
            "58\n",
            "59\n",
            "60\n",
            "61\n",
            "62\n",
            "63\n",
            "64\n",
            "65\n",
            "66\n",
            "67\n",
            "68\n",
            "69\n",
            "70\n",
            "71\n",
            "72\n",
            "73\n",
            "74\n",
            "75\n",
            "76\n",
            "77\n"
          ]
        }
      ],
      "source": [
        "n = 0\n",
        "num= int(input('Enter the Number'))\n",
        "while n<= num :\n",
        "    print(n)\n",
        "    n+=1"
      ]
    },
    {
      "cell_type": "code",
      "execution_count": null,
      "id": "fd990ae1",
      "metadata": {
        "id": "fd990ae1",
        "outputId": "9b05b990-4770-472e-d609-e1a38923bb5d"
      },
      "outputs": [
        {
          "name": "stdout",
          "output_type": "stream",
          "text": [
            "Enter the Number77\n",
            "1\n",
            "16\n",
            "31\n",
            "46\n",
            "61\n",
            "76\n"
          ]
        }
      ],
      "source": [
        "n = 1\n",
        "num= int(input('Enter the Number'))\n",
        "while n<= num :\n",
        "    print(n)\n",
        "    n+=15"
      ]
    },
    {
      "cell_type": "code",
      "execution_count": null,
      "id": "daaaeb97",
      "metadata": {
        "id": "daaaeb97",
        "outputId": "9abb89ab-85d4-4d46-8a52-d6c09691231d"
      },
      "outputs": [
        {
          "name": "stdout",
          "output_type": "stream",
          "text": [
            "x=1\n",
            "y= 2\n",
            "<class 'str'>\n",
            "x is less than y\n"
          ]
        }
      ],
      "source": [
        "x = input(\"x=\")\n",
        "y = input(\"y= \")\n",
        "print(type(x))\n",
        "\n",
        "if x < y: \n",
        "    print('x is less than y') \n",
        "elif x > y: \n",
        "    print ('x is greater than y') \n",
        "else: \n",
        "    print('x and y are equal')\n"
      ]
    },
    {
      "cell_type": "code",
      "execution_count": null,
      "id": "d502bae6",
      "metadata": {
        "id": "d502bae6",
        "outputId": "b19ac961-df70-4a8e-e5b5-54019707af6d"
      },
      "outputs": [
        {
          "name": "stdout",
          "output_type": "stream",
          "text": [
            "Before\n",
            "Large number 44\n",
            "Large number 66\n",
            "Large number 88\n",
            "Large number 33\n",
            "After\n"
          ]
        }
      ],
      "source": [
        "print('Before')\n",
        "for num in [11,44,66,88,33] :\n",
        "    if num > 20: \n",
        "        print('Large number',num)\n",
        "print('After')\n"
      ]
    },
    {
      "cell_type": "code",
      "execution_count": null,
      "id": "0d908cfa",
      "metadata": {
        "id": "0d908cfa"
      },
      "outputs": [],
      "source": [
        ""
      ]
    }
  ],
  "metadata": {
    "kernelspec": {
      "display_name": "Python 3 (ipykernel)",
      "language": "python",
      "name": "python3"
    },
    "language_info": {
      "codemirror_mode": {
        "name": "ipython",
        "version": 3
      },
      "file_extension": ".py",
      "mimetype": "text/x-python",
      "name": "python",
      "nbconvert_exporter": "python",
      "pygments_lexer": "ipython3",
      "version": "3.9.7"
    },
    "colab": {
      "name": "List_prac1.ipynb",
      "provenance": [],
      "include_colab_link": true
    }
  },
  "nbformat": 4,
  "nbformat_minor": 5
}