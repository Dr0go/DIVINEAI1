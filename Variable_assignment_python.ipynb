{
  "cells": [
    {
      "cell_type": "markdown",
      "metadata": {
        "id": "view-in-github",
        "colab_type": "text"
      },
      "source": [
        "<a href=\"https://colab.research.google.com/github/Dr0go/DIVINEAI1/blob/main/Variable_assignment_python.ipynb\" target=\"_parent\"><img src=\"https://colab.research.google.com/assets/colab-badge.svg\" alt=\"Open In Colab\"/></a>"
      ]
    },
    {
      "cell_type": "code",
      "execution_count": null,
      "id": "21f4af93",
      "metadata": {
        "id": "21f4af93"
      },
      "outputs": [],
      "source": [
        "#dynamic typing\n",
        "my_games=4"
      ]
    },
    {
      "cell_type": "code",
      "execution_count": null,
      "id": "93c00171",
      "metadata": {
        "id": "93c00171",
        "outputId": "3dc878d6-462a-4047-814b-7b97be27b2ab"
      },
      "outputs": [
        {
          "data": {
            "text/plain": [
              "4"
            ]
          },
          "execution_count": 2,
          "metadata": {},
          "output_type": "execute_result"
        }
      ],
      "source": [
        "my_games"
      ]
    },
    {
      "cell_type": "code",
      "execution_count": null,
      "id": "816bc763",
      "metadata": {
        "id": "816bc763"
      },
      "outputs": [],
      "source": [
        "my_games=['Valorant','CSGO','NBA','COD']"
      ]
    },
    {
      "cell_type": "code",
      "execution_count": null,
      "id": "c7d2dde8",
      "metadata": {
        "id": "c7d2dde8",
        "outputId": "c3b37b88-3b27-46d3-b877-5339a9b7f9c6"
      },
      "outputs": [
        {
          "data": {
            "text/plain": [
              "['Valorant', 'CSGO', 'NBA', 'COD']"
            ]
          },
          "execution_count": 4,
          "metadata": {},
          "output_type": "execute_result"
        }
      ],
      "source": [
        "my_games"
      ]
    },
    {
      "cell_type": "code",
      "execution_count": null,
      "id": "e358c376",
      "metadata": {
        "id": "e358c376"
      },
      "outputs": [],
      "source": [
        "#assigning variables\n",
        "s=9"
      ]
    },
    {
      "cell_type": "code",
      "execution_count": null,
      "id": "9d164645",
      "metadata": {
        "id": "9d164645",
        "outputId": "021ff2c4-d6c2-4d4c-cc03-a5b75c22f35c"
      },
      "outputs": [
        {
          "data": {
            "text/plain": [
              "9"
            ]
          },
          "execution_count": 6,
          "metadata": {},
          "output_type": "execute_result"
        }
      ],
      "source": [
        "s"
      ]
    },
    {
      "cell_type": "code",
      "execution_count": null,
      "id": "079e43cf",
      "metadata": {
        "id": "079e43cf"
      },
      "outputs": [],
      "source": [
        "s=5"
      ]
    },
    {
      "cell_type": "code",
      "execution_count": null,
      "id": "bef66dfe",
      "metadata": {
        "id": "bef66dfe",
        "outputId": "706e5944-63c6-47c4-fb76-11b998a8ba60"
      },
      "outputs": [
        {
          "data": {
            "text/plain": [
              "5"
            ]
          },
          "execution_count": 8,
          "metadata": {},
          "output_type": "execute_result"
        }
      ],
      "source": [
        "s"
      ]
    },
    {
      "cell_type": "code",
      "execution_count": null,
      "id": "f35e6ecf",
      "metadata": {
        "id": "f35e6ecf",
        "outputId": "6f1e63cc-b827-4872-bf67-544081dba022"
      },
      "outputs": [
        {
          "data": {
            "text/plain": [
              "10"
            ]
          },
          "execution_count": 9,
          "metadata": {},
          "output_type": "execute_result"
        }
      ],
      "source": [
        "s+s"
      ]
    },
    {
      "cell_type": "code",
      "execution_count": null,
      "id": "8a35487a",
      "metadata": {
        "id": "8a35487a",
        "outputId": "06c28b09-17e8-4374-e84d-8cd4de845c18"
      },
      "outputs": [
        {
          "data": {
            "text/plain": [
              "1.0"
            ]
          },
          "execution_count": 10,
          "metadata": {},
          "output_type": "execute_result"
        }
      ],
      "source": [
        "s/s"
      ]
    },
    {
      "cell_type": "code",
      "execution_count": null,
      "id": "c2ef12e5",
      "metadata": {
        "id": "c2ef12e5",
        "outputId": "9276b338-d4fd-49eb-81ec-73ae794efe07"
      },
      "outputs": [
        {
          "data": {
            "text/plain": [
              "25"
            ]
          },
          "execution_count": 11,
          "metadata": {},
          "output_type": "execute_result"
        }
      ],
      "source": [
        "s*s"
      ]
    },
    {
      "cell_type": "code",
      "execution_count": null,
      "id": "652e8dee",
      "metadata": {
        "id": "652e8dee",
        "outputId": "a3ecb176-b0ad-476c-c694-0dc37be990ec"
      },
      "outputs": [
        {
          "data": {
            "text/plain": [
              "0"
            ]
          },
          "execution_count": 12,
          "metadata": {},
          "output_type": "execute_result"
        }
      ],
      "source": [
        "s-s"
      ]
    },
    {
      "cell_type": "code",
      "execution_count": null,
      "id": "1595c579",
      "metadata": {
        "id": "1595c579"
      },
      "outputs": [],
      "source": [
        "#Reassigning Variables\n",
        "s=s+10"
      ]
    },
    {
      "cell_type": "code",
      "execution_count": null,
      "id": "c949c66c",
      "metadata": {
        "id": "c949c66c",
        "outputId": "8624c186-7f96-4d7a-89a6-70d77622c8fb"
      },
      "outputs": [
        {
          "data": {
            "text/plain": [
              "15"
            ]
          },
          "execution_count": 14,
          "metadata": {},
          "output_type": "execute_result"
        }
      ],
      "source": [
        "s\n"
      ]
    },
    {
      "cell_type": "code",
      "execution_count": null,
      "id": "18eec61c",
      "metadata": {
        "id": "18eec61c"
      },
      "outputs": [],
      "source": [
        "s+=10"
      ]
    },
    {
      "cell_type": "code",
      "execution_count": null,
      "id": "f5ab5d7a",
      "metadata": {
        "id": "f5ab5d7a",
        "outputId": "4f6c2bf9-e77e-4ff5-ee39-4f255fdb34b9"
      },
      "outputs": [
        {
          "data": {
            "text/plain": [
              "25"
            ]
          },
          "execution_count": 16,
          "metadata": {},
          "output_type": "execute_result"
        }
      ],
      "source": [
        "s"
      ]
    },
    {
      "cell_type": "code",
      "execution_count": null,
      "id": "a1c5021f",
      "metadata": {
        "id": "a1c5021f"
      },
      "outputs": [],
      "source": [
        "s*=2"
      ]
    },
    {
      "cell_type": "code",
      "execution_count": null,
      "id": "88a80d92",
      "metadata": {
        "id": "88a80d92",
        "outputId": "78faf25f-482a-40a6-f70c-3eed7a6b54d1"
      },
      "outputs": [
        {
          "data": {
            "text/plain": [
              "50"
            ]
          },
          "execution_count": 18,
          "metadata": {},
          "output_type": "execute_result"
        }
      ],
      "source": [
        "s"
      ]
    },
    {
      "cell_type": "code",
      "execution_count": null,
      "id": "63dc6f17",
      "metadata": {
        "id": "63dc6f17",
        "outputId": "d643fd26-b0da-4896-f881-83b978818bf3"
      },
      "outputs": [
        {
          "data": {
            "text/plain": [
              "int"
            ]
          },
          "execution_count": 19,
          "metadata": {},
          "output_type": "execute_result"
        }
      ],
      "source": [
        "type(s)"
      ]
    },
    {
      "cell_type": "code",
      "execution_count": null,
      "id": "0ba708d9",
      "metadata": {
        "id": "0ba708d9"
      },
      "outputs": [],
      "source": [
        "s=(3,4)"
      ]
    },
    {
      "cell_type": "code",
      "execution_count": null,
      "id": "7f027025",
      "metadata": {
        "id": "7f027025",
        "outputId": "600f1445-08f8-44af-ba76-b86d349e4813"
      },
      "outputs": [
        {
          "data": {
            "text/plain": [
              "tuple"
            ]
          },
          "execution_count": 21,
          "metadata": {},
          "output_type": "execute_result"
        }
      ],
      "source": [
        "type(s)"
      ]
    },
    {
      "cell_type": "code",
      "execution_count": null,
      "id": "11a2165a",
      "metadata": {
        "id": "11a2165a"
      },
      "outputs": [],
      "source": [
        "samosa_i_ate=5\n",
        "samosa_rate=5\n",
        "total_amount=samosa_i_ate*samosa_rate"
      ]
    },
    {
      "cell_type": "code",
      "execution_count": null,
      "id": "d3d4fa74",
      "metadata": {
        "id": "d3d4fa74",
        "outputId": "ec806c35-3086-4639-f162-6ed443280418"
      },
      "outputs": [
        {
          "data": {
            "text/plain": [
              "25"
            ]
          },
          "execution_count": 23,
          "metadata": {},
          "output_type": "execute_result"
        }
      ],
      "source": [
        "total_amount"
      ]
    },
    {
      "cell_type": "code",
      "execution_count": null,
      "id": "81a1888b",
      "metadata": {
        "id": "81a1888b"
      },
      "outputs": [],
      "source": [
        ""
      ]
    }
  ],
  "metadata": {
    "kernelspec": {
      "display_name": "Python 3 (ipykernel)",
      "language": "python",
      "name": "python3"
    },
    "language_info": {
      "codemirror_mode": {
        "name": "ipython",
        "version": 3
      },
      "file_extension": ".py",
      "mimetype": "text/x-python",
      "name": "python",
      "nbconvert_exporter": "python",
      "pygments_lexer": "ipython3",
      "version": "3.9.7"
    },
    "colab": {
      "name": "Variable_assignment_python.ipynb",
      "provenance": [],
      "include_colab_link": true
    }
  },
  "nbformat": 4,
  "nbformat_minor": 5
}