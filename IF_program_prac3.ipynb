{
  "cells": [
    {
      "cell_type": "markdown",
      "metadata": {
        "id": "view-in-github",
        "colab_type": "text"
      },
      "source": [
        "<a href=\"https://colab.research.google.com/github/Dr0go/DIVINEAI1/blob/main/IF_program_prac3.ipynb\" target=\"_parent\"><img src=\"https://colab.research.google.com/assets/colab-badge.svg\" alt=\"Open In Colab\"/></a>"
      ]
    },
    {
      "cell_type": "code",
      "execution_count": null,
      "id": "16e22e02",
      "metadata": {
        "id": "16e22e02"
      },
      "outputs": [],
      "source": [
        "d = 33"
      ]
    },
    {
      "cell_type": "code",
      "execution_count": null,
      "id": "af125346",
      "metadata": {
        "id": "af125346",
        "outputId": "41053a2c-33ef-4906-9844-4ab43c5b4beb"
      },
      "outputs": [
        {
          "name": "stdout",
          "output_type": "stream",
          "text": [
            "<class 'int'>\n"
          ]
        }
      ],
      "source": [
        "print(type(d))"
      ]
    },
    {
      "cell_type": "code",
      "execution_count": null,
      "id": "bcb96298",
      "metadata": {
        "id": "bcb96298",
        "outputId": "b7fdd0c1-3833-4746-fa2a-e4700769cedf"
      },
      "outputs": [
        {
          "name": "stdout",
          "output_type": "stream",
          "text": [
            "33\n"
          ]
        }
      ],
      "source": [
        "print(d)"
      ]
    },
    {
      "cell_type": "code",
      "execution_count": null,
      "id": "5ca6cbb1",
      "metadata": {
        "id": "5ca6cbb1",
        "outputId": "c77bafbb-61f0-4066-e62b-c1bb834b0a96"
      },
      "outputs": [
        {
          "name": "stdout",
          "output_type": "stream",
          "text": [
            "2056815471920\n"
          ]
        }
      ],
      "source": [
        "print(id(d))"
      ]
    },
    {
      "cell_type": "code",
      "execution_count": null,
      "id": "9f0b7b84",
      "metadata": {
        "id": "9f0b7b84"
      },
      "outputs": [],
      "source": [
        "d = str (d) + 'RASENGAN'"
      ]
    },
    {
      "cell_type": "code",
      "execution_count": null,
      "id": "780c5ebe",
      "metadata": {
        "id": "780c5ebe",
        "outputId": "d2339b8f-9cb5-4e79-bf9d-d16cb5c79806"
      },
      "outputs": [
        {
          "name": "stdout",
          "output_type": "stream",
          "text": [
            "2056895752176\n"
          ]
        }
      ],
      "source": [
        "print(id(d))"
      ]
    },
    {
      "cell_type": "code",
      "execution_count": null,
      "id": "18dd2ed3",
      "metadata": {
        "id": "18dd2ed3",
        "outputId": "d51efa75-96cf-45e4-fbff-a42a2d733e66"
      },
      "outputs": [
        {
          "name": "stdout",
          "output_type": "stream",
          "text": [
            "33RASENGAN\n"
          ]
        }
      ],
      "source": [
        "print(d)"
      ]
    },
    {
      "cell_type": "code",
      "execution_count": null,
      "id": "506f167b",
      "metadata": {
        "id": "506f167b",
        "outputId": "62270aad-fdd4-4c16-9203-6c5069931cb1"
      },
      "outputs": [
        {
          "name": "stdout",
          "output_type": "stream",
          "text": [
            "Enter the price: 34\n",
            "Price = 34.0\n",
            "HARUKA MIRAI\n"
          ]
        }
      ],
      "source": [
        "price = input(\"Enter the price: \")\n",
        "price = float(price) \n",
        "print('Price =', price)\n",
        "print('HARUKA MIRAI')"
      ]
    },
    {
      "cell_type": "code",
      "execution_count": null,
      "id": "c5844d6e",
      "metadata": {
        "id": "c5844d6e",
        "outputId": "c9f6068f-40c9-48bf-c268-8edaff8bd23f"
      },
      "outputs": [
        {
          "name": "stdout",
          "output_type": "stream",
          "text": [
            "Enter the price: 34\n",
            "Price = 34.0\n"
          ]
        }
      ],
      "source": [
        "price = input(\"Enter the price: \")\n",
        "try:\n",
        "    price = float(price) \n",
        "    print('Price =', price)\n",
        "except ValueError:\n",
        "    print('HIKARU NARA')"
      ]
    },
    {
      "cell_type": "code",
      "execution_count": null,
      "id": "604a91c0",
      "metadata": {
        "id": "604a91c0",
        "outputId": "8aae1e48-463f-453b-90f2-985e520e96ca"
      },
      "outputs": [
        {
          "name": "stdout",
          "output_type": "stream",
          "text": [
            "Enter the price: a\n",
            "HIKARU NARA\n"
          ]
        }
      ],
      "source": [
        "price = input(\"Enter the price: \")\n",
        "try:\n",
        "    price = float(price) \n",
        "    print('Price =', price)\n",
        "except ValueError:\n",
        "    print('HIKARU NARA')"
      ]
    },
    {
      "cell_type": "code",
      "execution_count": null,
      "id": "52a66794",
      "metadata": {
        "id": "52a66794",
        "outputId": "84797fce-2e8e-47b2-92b8-4ae599160f05"
      },
      "outputs": [
        {
          "name": "stdout",
          "output_type": "stream",
          "text": [
            "Enter the price: 13\n",
            "<class 'str'>\n",
            "Price = 13\n",
            "<class 'int'>\n"
          ]
        }
      ],
      "source": [
        "price = input(\"Enter the price: \")\n",
        "print(type(price))\n",
        "price = int(price) \n",
        "print('Price =', price)\n",
        "print(type(price))"
      ]
    },
    {
      "cell_type": "code",
      "execution_count": null,
      "id": "2dccbd37",
      "metadata": {
        "id": "2dccbd37",
        "outputId": "d136a83b-6d22-4c8b-906e-833fb1769915"
      },
      "outputs": [
        {
          "name": "stdout",
          "output_type": "stream",
          "text": [
            "ONYX CHIDORI10\n"
          ]
        }
      ],
      "source": [
        "c = 'ONYX CHIDORI' + str(10)\n",
        "print(c)"
      ]
    },
    {
      "cell_type": "code",
      "execution_count": null,
      "id": "35673afb",
      "metadata": {
        "id": "35673afb",
        "outputId": "2e58330d-8774-41e6-b3a4-2b7456019392"
      },
      "outputs": [
        {
          "data": {
            "text/plain": [
              "str"
            ]
          },
          "execution_count": 14,
          "metadata": {},
          "output_type": "execute_result"
        }
      ],
      "source": [
        "type(c)"
      ]
    },
    {
      "cell_type": "code",
      "execution_count": null,
      "id": "eb8adc80",
      "metadata": {
        "id": "eb8adc80",
        "outputId": "25f9bebe-63ed-4198-c529-67ad22a4d110"
      },
      "outputs": [
        {
          "data": {
            "text/plain": [
              "14"
            ]
          },
          "execution_count": 15,
          "metadata": {},
          "output_type": "execute_result"
        }
      ],
      "source": [
        "len(c)"
      ]
    },
    {
      "cell_type": "code",
      "execution_count": null,
      "id": "9ef2a2e8",
      "metadata": {
        "id": "9ef2a2e8",
        "outputId": "0e5d16e2-7438-4afe-c1ef-912ec43f4255"
      },
      "outputs": [
        {
          "name": "stdout",
          "output_type": "stream",
          "text": [
            "545\n",
            "312\n"
          ]
        }
      ],
      "source": [
        "a = 545 \n",
        "b = 312\n",
        "if b > a:\n",
        "    print(\"b is greater than a\")\n",
        "print(a)\n",
        "print(b)"
      ]
    },
    {
      "cell_type": "code",
      "execution_count": null,
      "id": "b9fdaa29",
      "metadata": {
        "id": "b9fdaa29",
        "outputId": "e77fae57-b9e7-4930-9324-9212ccfb011b"
      },
      "outputs": [
        {
          "name": "stdout",
          "output_type": "stream",
          "text": [
            "b is greater than a\n",
            "53\n",
            "312\n"
          ]
        }
      ],
      "source": [
        "a = 53\n",
        "b = 312\n",
        "if b > a:\n",
        "    print(\"b is greater than a\")\n",
        "print(a)\n",
        "print(b)"
      ]
    },
    {
      "cell_type": "code",
      "execution_count": null,
      "id": "7f5e4d2d",
      "metadata": {
        "id": "7f5e4d2d",
        "outputId": "68f11f55-1160-405f-86f2-52834723796a"
      },
      "outputs": [
        {
          "name": "stdout",
          "output_type": "stream",
          "text": [
            "x is less than y\n"
          ]
        }
      ],
      "source": [
        "x,y =1231,12133\n",
        "if(x < y): \n",
        "    st= \"x is less than y\" \n",
        "elif (x == y):\n",
        "    st= \"x is same as y\" \n",
        "else: \n",
        "    st=\"x is greater than y\" \n",
        "print(st)\n"
      ]
    },
    {
      "cell_type": "code",
      "execution_count": null,
      "id": "b1e508a6",
      "metadata": {
        "id": "b1e508a6",
        "outputId": "bf67da2a-b9c1-47af-933d-be0f76f45875"
      },
      "outputs": [
        {
          "name": "stdout",
          "output_type": "stream",
          "text": [
            "x is greater than y\n"
          ]
        }
      ],
      "source": [
        "x,y =1231,123\n",
        "if(x < y): \n",
        "    st= \"x is less than y\" \n",
        "elif (x == y):\n",
        "    st= \"x is same as y\" \n",
        "else: \n",
        "    st=\"x is greater than y\" \n",
        "print(st)"
      ]
    },
    {
      "cell_type": "code",
      "execution_count": null,
      "id": "e0d8dae2",
      "metadata": {
        "id": "e0d8dae2",
        "outputId": "b29a15bd-352e-4a6e-bd0f-00299671cfb8"
      },
      "outputs": [
        {
          "name": "stdout",
          "output_type": "stream",
          "text": [
            "3\n",
            "414\n",
            "563\n",
            "825\n",
            "285\n",
            "285\n"
          ]
        }
      ],
      "source": [
        "list=[3,414,563,825,285]\n",
        "for i in list:\n",
        "    print(i)\n",
        "print(i)"
      ]
    },
    {
      "cell_type": "code",
      "execution_count": null,
      "id": "1ee1880e",
      "metadata": {
        "id": "1ee1880e",
        "outputId": "92d7b584-5503-4996-e8b0-816d81faf424"
      },
      "outputs": [
        {
          "name": "stdout",
          "output_type": "stream",
          "text": [
            "None\n"
          ]
        }
      ],
      "source": [
        "newList = list.sort()\n",
        "print(newList)"
      ]
    },
    {
      "cell_type": "code",
      "execution_count": null,
      "id": "1649e3cf",
      "metadata": {
        "id": "1649e3cf",
        "outputId": "81f39206-3423-441a-d45f-c9f45542cf8f"
      },
      "outputs": [
        {
          "name": "stdout",
          "output_type": "stream",
          "text": [
            "[3, 285, 414, 563, 825]\n"
          ]
        }
      ],
      "source": [
        "print(list)"
      ]
    },
    {
      "cell_type": "code",
      "execution_count": null,
      "id": "936fda0a",
      "metadata": {
        "id": "936fda0a",
        "outputId": "66211aab-3a6e-4be4-86a5-1213e8f677a2"
      },
      "outputs": [
        {
          "name": "stdout",
          "output_type": "stream",
          "text": [
            "[3, 285, 414, 563, 825]\n"
          ]
        }
      ],
      "source": [
        "list1 =  sorted(list)\n",
        "print(list1)"
      ]
    },
    {
      "cell_type": "code",
      "execution_count": null,
      "id": "fa5c62cf",
      "metadata": {
        "id": "fa5c62cf"
      },
      "outputs": [],
      "source": [
        "while (i<10) :\n",
        "    print(i)\n",
        "    i = i+1"
      ]
    },
    {
      "cell_type": "code",
      "execution_count": null,
      "id": "36b6f2f6",
      "metadata": {
        "id": "36b6f2f6",
        "outputId": "4f516b2c-98e4-4031-fea1-14ee5e78f400"
      },
      "outputs": [
        {
          "data": {
            "text/plain": [
              "range(4, 10)"
            ]
          },
          "execution_count": 32,
          "metadata": {},
          "output_type": "execute_result"
        }
      ],
      "source": [
        "range(4,10)"
      ]
    },
    {
      "cell_type": "code",
      "execution_count": null,
      "id": "5e5fc789",
      "metadata": {
        "id": "5e5fc789",
        "outputId": "106763ae-ff18-41bd-bf8c-a29208390f2c"
      },
      "outputs": [
        {
          "data": {
            "text/plain": [
              "range(1, 5)"
            ]
          },
          "execution_count": 33,
          "metadata": {},
          "output_type": "execute_result"
        }
      ],
      "source": [
        "li = range(1,5) \n",
        "li"
      ]
    },
    {
      "cell_type": "code",
      "execution_count": null,
      "id": "4353dea4",
      "metadata": {
        "id": "4353dea4",
        "outputId": "cb9f1dea-0a69-470b-cc12-c100b5a2dc03"
      },
      "outputs": [
        {
          "name": "stdout",
          "output_type": "stream",
          "text": [
            "range(1, 5)\n"
          ]
        }
      ],
      "source": [
        "print(li)"
      ]
    },
    {
      "cell_type": "code",
      "execution_count": null,
      "id": "58c1fc5f",
      "metadata": {
        "id": "58c1fc5f",
        "outputId": "850d0fb2-2fe4-4566-feb3-51170e87cf6f"
      },
      "outputs": [
        {
          "name": "stdout",
          "output_type": "stream",
          "text": [
            "5\n"
          ]
        }
      ],
      "source": [
        "for i in range(5,31,72):\n",
        "    print(i)"
      ]
    },
    {
      "cell_type": "code",
      "execution_count": null,
      "id": "b6b848eb",
      "metadata": {
        "id": "b6b848eb",
        "outputId": "3d234d9d-1e16-4d19-a4cc-0b8b5ea14624"
      },
      "outputs": [
        {
          "name": "stdout",
          "output_type": "stream",
          "text": [
            "0\n",
            "1\n",
            "2\n",
            "3\n",
            "4\n",
            "5\n",
            "6\n",
            "7\n",
            "8\n",
            "9\n",
            "10\n",
            "11\n",
            "12\n",
            "13\n",
            "14\n",
            "15\n",
            "16\n",
            "17\n",
            "18\n",
            "19\n"
          ]
        }
      ],
      "source": [
        "for i in range(20):\n",
        "    print(i)"
      ]
    },
    {
      "cell_type": "code",
      "execution_count": null,
      "id": "d981b006",
      "metadata": {
        "id": "d981b006",
        "outputId": "bc355813-ebec-4851-c085-f1d66fc9006e"
      },
      "outputs": [
        {
          "name": "stdout",
          "output_type": "stream",
          "text": [
            "1\n",
            "2\n",
            "3\n",
            "4\n",
            "5\n",
            "6\n",
            "7\n",
            "8\n",
            "9\n",
            "10\n",
            "11\n",
            "12\n",
            "13\n",
            "14\n",
            "15\n",
            "16\n",
            "17\n",
            "18\n",
            "19\n",
            "20\n"
          ]
        }
      ],
      "source": [
        "for i in range(20):\n",
        "    i=i+1\n",
        "    print(i)"
      ]
    },
    {
      "cell_type": "code",
      "execution_count": null,
      "id": "dfc1b5d1",
      "metadata": {
        "id": "dfc1b5d1",
        "outputId": "d148e7a9-ba54-4aa6-b091-a00fd24a4e1b"
      },
      "outputs": [
        {
          "name": "stdout",
          "output_type": "stream",
          "text": [
            "13\n",
            "14\n",
            "15\n",
            "16\n",
            "17\n",
            "18\n"
          ]
        }
      ],
      "source": [
        "li = [13,14,15,16,17,18]\n",
        "j = 0\n",
        "for i in li:\n",
        "    print(i)"
      ]
    },
    {
      "cell_type": "code",
      "execution_count": null,
      "id": "f27ba02b",
      "metadata": {
        "id": "f27ba02b",
        "outputId": "d82fb5e1-6808-4196-b492-07699a99390e"
      },
      "outputs": [
        {
          "name": "stdout",
          "output_type": "stream",
          "text": [
            "0\n",
            "<class 'int'>\n"
          ]
        }
      ],
      "source": [
        "print(j)\n",
        "print(type(j))"
      ]
    },
    {
      "cell_type": "code",
      "execution_count": null,
      "id": "2ff66207",
      "metadata": {
        "id": "2ff66207",
        "outputId": "76230329-ff97-440e-b3d2-62fa180d9e5d"
      },
      "outputs": [
        {
          "name": "stdout",
          "output_type": "stream",
          "text": [
            "6\n"
          ]
        }
      ],
      "source": [
        "length = len(li)\n",
        "while length >= 4:\n",
        "    print(length)\n",
        "    if length <= 7:\n",
        "        break\n",
        "    length = length - 1"
      ]
    },
    {
      "cell_type": "code",
      "execution_count": null,
      "id": "3b1cdf64",
      "metadata": {
        "id": "3b1cdf64",
        "outputId": "4598dd22-e5ca-420b-f7f7-82a55937b631"
      },
      "outputs": [
        {
          "name": "stdout",
          "output_type": "stream",
          "text": [
            "5\n",
            "4\n",
            "3\n"
          ]
        }
      ],
      "source": [
        "length = len(li)\n",
        "while length >= 4:    \n",
        "    length = length - 1\n",
        "    print(length)\n",
        "    if length >= 7:\n",
        "        continue  "
      ]
    },
    {
      "cell_type": "code",
      "execution_count": null,
      "id": "7f1bd87b",
      "metadata": {
        "id": "7f1bd87b",
        "outputId": "b491beb3-0246-4664-f356-8842a49432f7"
      },
      "outputs": [
        {
          "name": "stdout",
          "output_type": "stream",
          "text": [
            "5\n",
            "4\n",
            "3\n"
          ]
        }
      ],
      "source": [
        "length = len(li)\n",
        "while length >= 4:    \n",
        "    length = length - 1\n",
        "    print(length)\n",
        "    if length >= 7:\n",
        "        break    "
      ]
    },
    {
      "cell_type": "code",
      "execution_count": null,
      "id": "fefc6d2d",
      "metadata": {
        "id": "fefc6d2d",
        "outputId": "3f27facb-d3f0-49cd-ed2b-3d218c5bd8fc"
      },
      "outputs": [
        {
          "name": "stdout",
          "output_type": "stream",
          "text": [
            "6\n",
            "12\n",
            "18\n",
            "24\n",
            "30\n",
            "36\n",
            "36\n"
          ]
        }
      ],
      "source": [
        "li = [13,14,15,16,17,18]\n",
        "j = 0\n",
        "for i in li:\n",
        "    for i in li:\n",
        "        j=j+1\n",
        "    print(j)\n",
        "print(j)"
      ]
    },
    {
      "cell_type": "code",
      "execution_count": null,
      "id": "3108d28b",
      "metadata": {
        "id": "3108d28b",
        "outputId": "fefae1d8-1db3-4fa4-87a4-42ba79c78f8d"
      },
      "outputs": [
        {
          "name": "stdout",
          "output_type": "stream",
          "text": [
            "93\n",
            "186\n",
            "279\n",
            "372\n",
            "465\n",
            "558\n",
            "558\n"
          ]
        }
      ],
      "source": [
        "li = [13,14,15,16,17,18]\n",
        "j = 0\n",
        "for i in li:\n",
        "    for i in li:\n",
        "        j=j+i\n",
        "    print(j)\n",
        "print(j)"
      ]
    },
    {
      "cell_type": "code",
      "execution_count": null,
      "id": "8a2b95ff",
      "metadata": {
        "id": "8a2b95ff",
        "outputId": "a50f9313-6747-434e-b843-cdf3338dfb72"
      },
      "outputs": [
        {
          "name": "stdout",
          "output_type": "stream",
          "text": [
            "enter the value of x:13\n",
            "enter the value of y:51\n",
            "x is less than y\n"
          ]
        }
      ],
      "source": [
        "x = int(input(\"enter the value of x:\"))\n",
        "y = int(input(\"enter the value of y:\"))\n",
        "if x < y: \n",
        "    print('x is less than y') \n",
        "elif x > y: \n",
        "    print('x is greater than y') \n",
        "else: \n",
        "    print('x and y are equal')"
      ]
    },
    {
      "cell_type": "code",
      "execution_count": null,
      "id": "b656f7ec",
      "metadata": {
        "id": "b656f7ec",
        "outputId": "a784dd5d-c112-4e86-aedf-3850f51c929c"
      },
      "outputs": [
        {
          "name": "stdout",
          "output_type": "stream",
          "text": [
            "highest 825\n"
          ]
        }
      ],
      "source": [
        "highest = 0\n",
        "for value in [3,414,563,825,285] :\n",
        "    if value > highest:\n",
        "        highest = value \n",
        "print('highest' , highest)"
      ]
    },
    {
      "cell_type": "code",
      "execution_count": null,
      "id": "cc31563f",
      "metadata": {
        "id": "cc31563f",
        "outputId": "f66f42cd-f3d1-489c-ecc6-d4c80ddb5726"
      },
      "outputs": [
        {
          "name": "stdout",
          "output_type": "stream",
          "text": [
            "highest 0\n"
          ]
        }
      ],
      "source": [
        "highest = 0\n",
        "for value in [3,414,563,825,285] :\n",
        "    if value < highest:\n",
        "        highest = value \n",
        "print('highest' , highest)"
      ]
    },
    {
      "cell_type": "code",
      "execution_count": null,
      "id": "f3424b6a",
      "metadata": {
        "id": "f3424b6a",
        "outputId": "22684eb6-26b9-4aee-97f2-e8400bee02eb"
      },
      "outputs": [
        {
          "name": "stdout",
          "output_type": "stream",
          "text": [
            "285\n"
          ]
        }
      ],
      "source": [
        "list = [3,414,563,825,285]\n",
        "print(list[4])"
      ]
    },
    {
      "cell_type": "code",
      "execution_count": null,
      "id": "be09bf7c",
      "metadata": {
        "id": "be09bf7c",
        "outputId": "49fb4957-788b-4b1c-97bb-d7a3fb566262"
      },
      "outputs": [
        {
          "name": "stdout",
          "output_type": "stream",
          "text": [
            "smallest 3\n"
          ]
        }
      ],
      "source": [
        "list = [3,414,563,825,285]\n",
        "smallest = list[0]\n",
        "for value in list :\n",
        "    if value < smallest:\n",
        "        smallest = value        \n",
        "print('smallest' , smallest)"
      ]
    },
    {
      "cell_type": "code",
      "execution_count": null,
      "id": "b35c4287",
      "metadata": {
        "id": "b35c4287",
        "outputId": "76537dec-1fe4-4419-b729-6ed8167b72a6"
      },
      "outputs": [
        {
          "name": "stdout",
          "output_type": "stream",
          "text": [
            "After 3\n"
          ]
        }
      ],
      "source": [
        "smallest = None\n",
        "for value in [9, 41, 12,3,414,563,825,285, 102.5, 167.44] : \n",
        "     if smallest is None : \n",
        "         smallest = value   \n",
        "     elif value < smallest : \n",
        "         smallest = value      \n",
        "print('After', smallest)"
      ]
    },
    {
      "cell_type": "code",
      "execution_count": null,
      "id": "21449db6",
      "metadata": {
        "id": "21449db6",
        "outputId": "32eaf2c0-2c12-4357-c7aa-dedfc4e966cf"
      },
      "outputs": [
        {
          "data": {
            "text/plain": [
              "'I'"
            ]
          },
          "execution_count": 56,
          "metadata": {},
          "output_type": "execute_result"
        }
      ],
      "source": [
        "name = \"UZUMAKI NARUTO\"\n",
        "name[6]"
      ]
    },
    {
      "cell_type": "code",
      "execution_count": null,
      "id": "79a99a93",
      "metadata": {
        "id": "79a99a93",
        "outputId": "07a846ab-962c-486a-ceb4-26576d329583"
      },
      "outputs": [
        {
          "data": {
            "text/plain": [
              "('H', 'M')"
            ]
          },
          "execution_count": 57,
          "metadata": {},
          "output_type": "execute_result"
        }
      ],
      "source": [
        "aa='OROCHIMARU'\n",
        "aa[4], aa[-4]"
      ]
    },
    {
      "cell_type": "code",
      "execution_count": null,
      "id": "4c578db4",
      "metadata": {
        "id": "4c578db4",
        "outputId": "5a111ab6-f5c3-4d5f-ae7d-eb67531b2b4a"
      },
      "outputs": [
        {
          "data": {
            "text/plain": [
              "('ROCHI', 'ARU')"
            ]
          },
          "execution_count": 58,
          "metadata": {},
          "output_type": "execute_result"
        }
      ],
      "source": [
        "aa[1:6] , aa[-3:] "
      ]
    },
    {
      "cell_type": "code",
      "execution_count": null,
      "id": "c74a40cb",
      "metadata": {
        "id": "c74a40cb",
        "outputId": "a4692354-7d48-4b03-bff6-1a9336600e12"
      },
      "outputs": [
        {
          "data": {
            "text/plain": [
              "'OROCHIMARU'"
            ]
          },
          "execution_count": 59,
          "metadata": {},
          "output_type": "execute_result"
        }
      ],
      "source": [
        "aa[::1]"
      ]
    },
    {
      "cell_type": "code",
      "execution_count": null,
      "id": "01026bbf",
      "metadata": {
        "id": "01026bbf",
        "outputId": "c789ba10-7733-478e-ddc0-9d7b463aa8f9"
      },
      "outputs": [
        {
          "data": {
            "text/plain": [
              "'OI'"
            ]
          },
          "execution_count": 60,
          "metadata": {},
          "output_type": "execute_result"
        }
      ],
      "source": [
        "aa[::5]"
      ]
    },
    {
      "cell_type": "code",
      "execution_count": null,
      "id": "86c8e9cc",
      "metadata": {
        "id": "86c8e9cc",
        "outputId": "a958ccdb-0b90-4d3e-ae22-8bd33c10dbc6"
      },
      "outputs": [
        {
          "data": {
            "text/plain": [
              "('UAICR', 'URAMIHCORO')"
            ]
          },
          "execution_count": 61,
          "metadata": {},
          "output_type": "execute_result"
        }
      ],
      "source": [
        "aa[::-2] , aa[::-1]"
      ]
    },
    {
      "cell_type": "code",
      "execution_count": null,
      "id": "82db3542",
      "metadata": {
        "id": "82db3542",
        "outputId": "f8095c18-3087-4466-d1e2-e6facd1cd085"
      },
      "outputs": [
        {
          "data": {
            "text/plain": [
              "'OROCHIMAR'"
            ]
          },
          "execution_count": 62,
          "metadata": {},
          "output_type": "execute_result"
        }
      ],
      "source": [
        "aa[:-1]"
      ]
    },
    {
      "cell_type": "code",
      "execution_count": null,
      "id": "d740d588",
      "metadata": {
        "id": "d740d588",
        "outputId": "3a856b2b-dfb9-40da-a047-1851890293c4"
      },
      "outputs": [
        {
          "name": "stdout",
          "output_type": "stream",
          "text": [
            "('ZETSU', 'Zetsu', 'zetsu')\n"
          ]
        },
        {
          "data": {
            "text/plain": [
              "tuple"
            ]
          },
          "execution_count": 65,
          "metadata": {},
          "output_type": "execute_result"
        }
      ],
      "source": [
        "hw = 'ZETSU' \n",
        "hw = hw.upper(), hw.title(),hw.lower()\n",
        "print(hw)\n",
        "type(hw)"
      ]
    },
    {
      "cell_type": "code",
      "execution_count": null,
      "id": "5599d5b8",
      "metadata": {
        "id": "5599d5b8",
        "outputId": "56385542-6696-40a6-e958-55198fc91392"
      },
      "outputs": [
        {
          "data": {
            "text/plain": [
              "(False, False)"
            ]
          },
          "execution_count": 66,
          "metadata": {},
          "output_type": "execute_result"
        }
      ],
      "source": [
        "hw = 'KISAME' \n",
        "hw = hw.upper()\n",
        "hw.isdigit(), hw.islower()"
      ]
    },
    {
      "cell_type": "code",
      "execution_count": null,
      "id": "1c3aaffc",
      "metadata": {
        "id": "1c3aaffc"
      },
      "outputs": [],
      "source": [
        ""
      ]
    }
  ],
  "metadata": {
    "kernelspec": {
      "display_name": "Python 3 (ipykernel)",
      "language": "python",
      "name": "python3"
    },
    "language_info": {
      "codemirror_mode": {
        "name": "ipython",
        "version": 3
      },
      "file_extension": ".py",
      "mimetype": "text/x-python",
      "name": "python",
      "nbconvert_exporter": "python",
      "pygments_lexer": "ipython3",
      "version": "3.9.7"
    },
    "colab": {
      "name": "IF_program_prac3.ipynb",
      "provenance": [],
      "include_colab_link": true
    }
  },
  "nbformat": 4,
  "nbformat_minor": 5
}