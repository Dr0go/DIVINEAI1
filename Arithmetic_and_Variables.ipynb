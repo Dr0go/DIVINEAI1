{
  "cells": [
    {
      "cell_type": "markdown",
      "metadata": {
        "id": "view-in-github",
        "colab_type": "text"
      },
      "source": [
        "<a href=\"https://colab.research.google.com/github/Dr0go/DIVINEAI1/blob/main/Arithmetic_and_Variables.ipynb\" target=\"_parent\"><img src=\"https://colab.research.google.com/assets/colab-badge.svg\" alt=\"Open In Colab\"/></a>"
      ]
    },
    {
      "cell_type": "code",
      "execution_count": null,
      "id": "31cec6a7",
      "metadata": {
        "id": "31cec6a7",
        "outputId": "ca4afe42-663e-422c-d91a-5ad9d0b61420"
      },
      "outputs": [
        {
          "data": {
            "text/plain": [
              "12"
            ]
          },
          "execution_count": 2,
          "metadata": {},
          "output_type": "execute_result"
        }
      ],
      "source": [
        "6+6 #addition"
      ]
    },
    {
      "cell_type": "code",
      "execution_count": null,
      "id": "b797311b",
      "metadata": {
        "id": "b797311b",
        "outputId": "c73bed4b-5742-459b-9457-fc453f35893d"
      },
      "outputs": [
        {
          "data": {
            "text/plain": [
              "9"
            ]
          },
          "execution_count": 3,
          "metadata": {},
          "output_type": "execute_result"
        }
      ],
      "source": [
        "12-3 #substraction"
      ]
    },
    {
      "cell_type": "code",
      "execution_count": null,
      "id": "0355ca7c",
      "metadata": {
        "id": "0355ca7c",
        "outputId": "aef3a8cc-5177-4956-fa05-3fc983883fcc"
      },
      "outputs": [
        {
          "data": {
            "text/plain": [
              "12"
            ]
          },
          "execution_count": 4,
          "metadata": {},
          "output_type": "execute_result"
        }
      ],
      "source": [
        "3*4 #multiplication"
      ]
    },
    {
      "cell_type": "code",
      "execution_count": null,
      "id": "7b1c2651",
      "metadata": {
        "id": "7b1c2651",
        "outputId": "d7366c6e-86e5-48ba-9ed7-3fa707168d9e"
      },
      "outputs": [
        {
          "data": {
            "text/plain": [
              "6.0"
            ]
          },
          "execution_count": 5,
          "metadata": {},
          "output_type": "execute_result"
        }
      ],
      "source": [
        "36/6 #divison"
      ]
    },
    {
      "cell_type": "code",
      "execution_count": null,
      "id": "7810f02c",
      "metadata": {
        "id": "7810f02c",
        "outputId": "9c2cb222-5eeb-4a26-fbc2-fad277088b00"
      },
      "outputs": [
        {
          "data": {
            "text/plain": [
              "1"
            ]
          },
          "execution_count": 6,
          "metadata": {},
          "output_type": "execute_result"
        }
      ],
      "source": [
        "9//5 #floor divison"
      ]
    },
    {
      "cell_type": "code",
      "execution_count": null,
      "id": "2e8f0742",
      "metadata": {
        "id": "2e8f0742",
        "outputId": "5a94ded7-0bff-4a0b-e457-b42a839e6c88"
      },
      "outputs": [
        {
          "data": {
            "text/plain": [
              "2"
            ]
          },
          "execution_count": 8,
          "metadata": {},
          "output_type": "execute_result"
        }
      ],
      "source": [
        "5%3 #remainder"
      ]
    },
    {
      "cell_type": "code",
      "execution_count": null,
      "id": "b7d65807",
      "metadata": {
        "id": "b7d65807",
        "outputId": "0d966119-4957-4595-8ea7-89fd994f40b0"
      },
      "outputs": [
        {
          "data": {
            "text/plain": [
              "64"
            ]
          },
          "execution_count": 9,
          "metadata": {},
          "output_type": "execute_result"
        }
      ],
      "source": [
        "4**3 #power"
      ]
    },
    {
      "cell_type": "code",
      "execution_count": null,
      "id": "3bf8b60a",
      "metadata": {
        "id": "3bf8b60a",
        "outputId": "f25e9ad3-6a63-4eef-ad08-4e6fe8f921f8"
      },
      "outputs": [
        {
          "data": {
            "text/plain": [
              "6.0"
            ]
          },
          "execution_count": 10,
          "metadata": {},
          "output_type": "execute_result"
        }
      ],
      "source": [
        "36**0.5 #root\n"
      ]
    },
    {
      "cell_type": "code",
      "execution_count": null,
      "id": "1c82f04a",
      "metadata": {
        "id": "1c82f04a",
        "outputId": "b2206c94-12ef-4c46-abc3-988c593d10b4"
      },
      "outputs": [
        {
          "data": {
            "text/plain": [
              "81"
            ]
          },
          "execution_count": 12,
          "metadata": {},
          "output_type": "execute_result"
        }
      ],
      "source": [
        "#order of operations\n",
        "6+9*8+3"
      ]
    },
    {
      "cell_type": "code",
      "execution_count": null,
      "id": "fb9dc3f6",
      "metadata": {
        "id": "fb9dc3f6",
        "outputId": "c4028353-543a-404a-a69d-2b5768ab0ab4"
      },
      "outputs": [
        {
          "data": {
            "text/plain": [
              "165"
            ]
          },
          "execution_count": 13,
          "metadata": {},
          "output_type": "execute_result"
        }
      ],
      "source": [
        "#order of operations using paranthesis\n",
        "(6+9)*(8+3)"
      ]
    },
    {
      "cell_type": "code",
      "execution_count": null,
      "id": "5ec251b4",
      "metadata": {
        "id": "5ec251b4"
      },
      "outputs": [],
      "source": [
        "#creating an object 'x' and assigning it a value\n",
        "x=6"
      ]
    },
    {
      "cell_type": "code",
      "execution_count": null,
      "id": "a72b44cf",
      "metadata": {
        "id": "a72b44cf",
        "outputId": "92844970-5685-4582-8e51-7f859b42a9be"
      },
      "outputs": [
        {
          "data": {
            "text/plain": [
              "36"
            ]
          },
          "execution_count": 15,
          "metadata": {},
          "output_type": "execute_result"
        }
      ],
      "source": [
        "x*x #multiplying the objects"
      ]
    },
    {
      "cell_type": "code",
      "execution_count": null,
      "id": "9fb3b63c",
      "metadata": {
        "id": "9fb3b63c"
      },
      "outputs": [],
      "source": [
        "x=7 #reassigning the value"
      ]
    },
    {
      "cell_type": "code",
      "execution_count": null,
      "id": "a3949420",
      "metadata": {
        "id": "a3949420",
        "outputId": "a8ec58bb-9a89-49d4-9860-b795a13cef32"
      },
      "outputs": [
        {
          "data": {
            "text/plain": [
              "7"
            ]
          },
          "execution_count": 17,
          "metadata": {},
          "output_type": "execute_result"
        }
      ],
      "source": [
        "x"
      ]
    },
    {
      "cell_type": "code",
      "execution_count": null,
      "id": "f4eb4315",
      "metadata": {
        "id": "f4eb4315",
        "outputId": "71d9981d-615e-454b-893a-c9fd4380e381"
      },
      "outputs": [
        {
          "data": {
            "text/plain": [
              "49"
            ]
          },
          "execution_count": 18,
          "metadata": {},
          "output_type": "execute_result"
        }
      ],
      "source": [
        "x*x #multiplying the reassigned value of the objects"
      ]
    },
    {
      "cell_type": "code",
      "execution_count": null,
      "id": "2b80ee81",
      "metadata": {
        "id": "2b80ee81"
      },
      "outputs": [],
      "source": [
        "#using object names for better understanding\n",
        "my_money=1000\n",
        "tax_rate=2\n",
        "my_tax=my_money*tax_rate"
      ]
    },
    {
      "cell_type": "code",
      "execution_count": null,
      "id": "f281dbd8",
      "metadata": {
        "id": "f281dbd8",
        "outputId": "74b832d8-065c-4aa7-872f-86441feecebf"
      },
      "outputs": [
        {
          "data": {
            "text/plain": [
              "2000"
            ]
          },
          "execution_count": 23,
          "metadata": {},
          "output_type": "execute_result"
        }
      ],
      "source": [
        "my_tax "
      ]
    },
    {
      "cell_type": "code",
      "execution_count": null,
      "id": "0794e010",
      "metadata": {
        "id": "0794e010"
      },
      "outputs": [],
      "source": [
        ""
      ]
    }
  ],
  "metadata": {
    "kernelspec": {
      "display_name": "Python 3 (ipykernel)",
      "language": "python",
      "name": "python3"
    },
    "language_info": {
      "codemirror_mode": {
        "name": "ipython",
        "version": 3
      },
      "file_extension": ".py",
      "mimetype": "text/x-python",
      "name": "python",
      "nbconvert_exporter": "python",
      "pygments_lexer": "ipython3",
      "version": "3.9.7"
    },
    "colab": {
      "name": "Arithmetic and Variables.ipynb",
      "provenance": [],
      "include_colab_link": true
    }
  },
  "nbformat": 4,
  "nbformat_minor": 5
}