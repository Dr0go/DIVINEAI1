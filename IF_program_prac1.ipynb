{
  "cells": [
    {
      "cell_type": "markdown",
      "metadata": {
        "id": "view-in-github",
        "colab_type": "text"
      },
      "source": [
        "<a href=\"https://colab.research.google.com/github/Dr0go/DIVINEAI1/blob/main/IF_program_prac1.ipynb\" target=\"_parent\"><img src=\"https://colab.research.google.com/assets/colab-badge.svg\" alt=\"Open In Colab\"/></a>"
      ]
    },
    {
      "cell_type": "code",
      "execution_count": null,
      "id": "496c531e",
      "metadata": {
        "id": "496c531e",
        "outputId": "2fa5c6e5-ff57-47a0-c8c8-de5436e40a43"
      },
      "outputs": [
        {
          "name": "stdout",
          "output_type": "stream",
          "text": [
            "helo\n",
            "1933183235376\n"
          ]
        }
      ],
      "source": [
        "name= 'hel''o'\n",
        "print(name)\n",
        "print(id(name))"
      ]
    },
    {
      "cell_type": "code",
      "execution_count": null,
      "id": "5ac46c79",
      "metadata": {
        "id": "5ac46c79",
        "outputId": "826a9482-8acf-4106-d32c-cb73c71d714e"
      },
      "outputs": [
        {
          "name": "stdout",
          "output_type": "stream",
          "text": [
            "akamegakill\n",
            "1933183339568\n"
          ]
        }
      ],
      "source": [
        "name= 'akame''ga''kill'\n",
        "print(name)\n",
        "print(id(name))"
      ]
    },
    {
      "cell_type": "code",
      "execution_count": null,
      "id": "a07cab42",
      "metadata": {
        "id": "a07cab42",
        "outputId": "990cc060-c304-4057-e44a-c4845dfdf548"
      },
      "outputs": [
        {
          "name": "stdout",
          "output_type": "stream",
          "text": [
            "get\"up\n"
          ]
        }
      ],
      "source": [
        "name= 'get\"up'\n",
        "print(name)"
      ]
    },
    {
      "cell_type": "code",
      "execution_count": null,
      "id": "7899eb29",
      "metadata": {
        "id": "7899eb29",
        "outputId": "e7d3b125-3a31-4b8a-f5e5-b7bf47253049"
      },
      "outputs": [
        {
          "name": "stdout",
          "output_type": "stream",
          "text": [
            "get'down\n"
          ]
        }
      ],
      "source": [
        "name=\"get'down\"\n",
        "print(name)"
      ]
    },
    {
      "cell_type": "code",
      "execution_count": null,
      "id": "fb8d2d51",
      "metadata": {
        "id": "fb8d2d51",
        "outputId": "c2eccdba-73c4-46dc-bedf-bff7660aa715"
      },
      "outputs": [
        {
          "name": "stdout",
          "output_type": "stream",
          "text": [
            "10001\n"
          ]
        }
      ],
      "source": [
        "print(10000+1)"
      ]
    },
    {
      "cell_type": "code",
      "execution_count": null,
      "id": "ad25df2a",
      "metadata": {
        "id": "ad25df2a",
        "outputId": "4fb99510-a5d0-45da-b44a-cdd5db9e6a07"
      },
      "outputs": [
        {
          "name": "stdout",
          "output_type": "stream",
          "text": [
            "julius + 63\n"
          ]
        }
      ],
      "source": [
        "print(\"julius + 63\")"
      ]
    },
    {
      "cell_type": "code",
      "execution_count": null,
      "id": "d9652a79",
      "metadata": {
        "id": "d9652a79",
        "outputId": "8299987a-767c-4758-fcae-3e257e2f413d"
      },
      "outputs": [
        {
          "name": "stdout",
          "output_type": "stream",
          "text": [
            "2 + * pac\n"
          ]
        }
      ],
      "source": [
        "print(\"2 + * pac\")"
      ]
    },
    {
      "cell_type": "code",
      "execution_count": null,
      "id": "4709c5ec",
      "metadata": {
        "id": "4709c5ec",
        "outputId": "e23ca6c6-b967-4e1b-dec4-0a6baa2a1653"
      },
      "outputs": [
        {
          "name": "stdout",
          "output_type": "stream",
          "text": [
            "hellohellohellohellohellohello\n"
          ]
        }
      ],
      "source": [
        "print(6 *'hello')"
      ]
    },
    {
      "cell_type": "code",
      "execution_count": null,
      "id": "e777e438",
      "metadata": {
        "id": "e777e438",
        "outputId": "86249ac9-64a7-4742-f3f6-378ad307c901"
      },
      "outputs": [
        {
          "name": "stdout",
          "output_type": "stream",
          "text": [
            "._.._.._.._.._.._.._.._.._.._.._.._.._.._.._.._.._.._.._.._.._.._.._.._.._.._.._.._.._.._.._.._.._.._.._.._.._.._.._.._.._.._.._.._.._.._.._.._.._.._.._.._.._.._.._.\n"
          ]
        }
      ],
      "source": [
        "print('._.' * 55)"
      ]
    },
    {
      "cell_type": "code",
      "execution_count": null,
      "id": "280e86f7",
      "metadata": {
        "id": "280e86f7",
        "outputId": "5c25b439-71ae-4932-9940-516d34421af1"
      },
      "outputs": [
        {
          "data": {
            "text/plain": [
              "1933183405312"
            ]
          },
          "execution_count": 10,
          "metadata": {},
          "output_type": "execute_result"
        }
      ],
      "source": [
        "name= 'William Vangeance'\n",
        "name\n",
        "id(name)"
      ]
    },
    {
      "cell_type": "code",
      "execution_count": null,
      "id": "54fad4c6",
      "metadata": {
        "id": "54fad4c6",
        "outputId": "5bf95545-626b-4ff6-a3cc-c39aff3de4eb"
      },
      "outputs": [
        {
          "name": "stdout",
          "output_type": "stream",
          "text": [
            "William VangeanceEZ\n",
            "1933183402192\n"
          ]
        }
      ],
      "source": [
        "name +='EZ'\n",
        "print(name)\n",
        "print(id(name))"
      ]
    },
    {
      "cell_type": "code",
      "execution_count": null,
      "id": "7642c079",
      "metadata": {
        "id": "7642c079",
        "outputId": "145a1017-fcbc-48d4-af0c-1ddb98490359"
      },
      "outputs": [
        {
          "name": "stdout",
          "output_type": "stream",
          "text": [
            "1933183476464\n"
          ]
        }
      ],
      "source": [
        "name='Licht'\n",
        "print(id(name))"
      ]
    },
    {
      "cell_type": "code",
      "execution_count": null,
      "id": "37350d94",
      "metadata": {
        "id": "37350d94",
        "outputId": "9cacbe5d-1e6a-4a66-dbc9-d445f503d3ca"
      },
      "outputs": [
        {
          "name": "stdout",
          "output_type": "stream",
          "text": [
            "11020\n"
          ]
        }
      ],
      "source": [
        "A = '1001'\n",
        "B = A +'9'\n",
        "C= int(A) + int(B)\n",
        "print(C)"
      ]
    },
    {
      "cell_type": "code",
      "execution_count": null,
      "id": "9834eee9",
      "metadata": {
        "id": "9834eee9",
        "outputId": "0234d047-461d-4677-c77e-80e3d97d612f"
      },
      "outputs": [
        {
          "name": "stdout",
          "output_type": "stream",
          "text": [
            "[1, 2, 'Yagami Light', 4, 'Ryuk', 5]\n"
          ]
        }
      ],
      "source": [
        "List=[1,2,'Yagami Light',4,'Ryuk',5]\n",
        "print(List)"
      ]
    },
    {
      "cell_type": "code",
      "execution_count": null,
      "id": "f267d3c4",
      "metadata": {
        "id": "f267d3c4",
        "outputId": "534bca20-4c1c-4bb4-e54f-12483b5089b9"
      },
      "outputs": [
        {
          "name": "stdout",
          "output_type": "stream",
          "text": [
            "[16, 2, 'Yagami Light', 4, 'Ryuk', 5]\n"
          ]
        }
      ],
      "source": [
        "List[0]=16\n",
        "print(List)"
      ]
    },
    {
      "cell_type": "code",
      "execution_count": null,
      "id": "e2df290e",
      "metadata": {
        "id": "e2df290e",
        "outputId": "5c35352b-130e-48b8-de6a-04328ffb949b"
      },
      "outputs": [
        {
          "name": "stdout",
          "output_type": "stream",
          "text": [
            "[16, 2, 'Yagami Light', 4, 20, 5]\n"
          ]
        }
      ],
      "source": [
        "List[4]=20 \n",
        "print(List)"
      ]
    },
    {
      "cell_type": "code",
      "execution_count": null,
      "id": "c3d394fc",
      "metadata": {
        "id": "c3d394fc",
        "outputId": "a70b4216-84c2-49c3-f41f-d31f7727ac2d"
      },
      "outputs": [
        {
          "name": "stdout",
          "output_type": "stream",
          "text": [
            "(1, 5, 'Daryl', [16, 2, 'Yagami Light', 4, 20, 5])\n"
          ]
        }
      ],
      "source": [
        "tuple=(1,5,'Daryl',List)\n",
        "print(tuple)"
      ]
    },
    {
      "cell_type": "code",
      "execution_count": null,
      "id": "f4c2fda4",
      "metadata": {
        "id": "f4c2fda4",
        "outputId": "246dc531-e6fa-48fc-af0a-902c8d5552ad"
      },
      "outputs": [
        {
          "name": "stdout",
          "output_type": "stream",
          "text": [
            "a\n"
          ]
        }
      ],
      "source": [
        "print(tuple[2][1])"
      ]
    },
    {
      "cell_type": "code",
      "execution_count": null,
      "id": "4b6dd612",
      "metadata": {
        "id": "4b6dd612",
        "outputId": "97486789-36cd-4d45-ba2b-5d7f413c87bf"
      },
      "outputs": [
        {
          "name": "stdout",
          "output_type": "stream",
          "text": [
            " \n"
          ]
        }
      ],
      "source": [
        "print(tuple[3][2][6])"
      ]
    },
    {
      "cell_type": "code",
      "execution_count": null,
      "id": "1732018d",
      "metadata": {
        "id": "1732018d",
        "outputId": "24408934-aafc-404d-e1ef-8729de4565c1"
      },
      "outputs": [
        {
          "name": "stdout",
          "output_type": "stream",
          "text": [
            "a\n"
          ]
        }
      ],
      "source": [
        "print(tuple[3][2][3])"
      ]
    },
    {
      "cell_type": "code",
      "execution_count": null,
      "id": "fc4c65f8",
      "metadata": {
        "id": "fc4c65f8",
        "outputId": "9d3e1e58-d5f4-43d0-a4ca-828377f1cc7a"
      },
      "outputs": [
        {
          "ename": "TypeError",
          "evalue": "'tuple' object does not support item assignment",
          "output_type": "error",
          "traceback": [
            "\u001b[1;31m---------------------------------------------------------------------------\u001b[0m",
            "\u001b[1;31mTypeError\u001b[0m                                 Traceback (most recent call last)",
            "\u001b[1;32m~\\AppData\\Local\\Temp/ipykernel_6528/2377263769.py\u001b[0m in \u001b[0;36m<module>\u001b[1;34m\u001b[0m\n\u001b[1;32m----> 1\u001b[1;33m \u001b[0mtuple\u001b[0m\u001b[1;33m[\u001b[0m\u001b[1;36m0\u001b[0m\u001b[1;33m]\u001b[0m\u001b[1;33m=\u001b[0m\u001b[1;36m20\u001b[0m\u001b[1;33m\u001b[0m\u001b[1;33m\u001b[0m\u001b[0m\n\u001b[0m\u001b[0;32m      2\u001b[0m \u001b[0mprint\u001b[0m\u001b[1;33m(\u001b[0m\u001b[0mtuple\u001b[0m\u001b[1;33m)\u001b[0m\u001b[1;33m\u001b[0m\u001b[1;33m\u001b[0m\u001b[0m\n",
            "\u001b[1;31mTypeError\u001b[0m: 'tuple' object does not support item assignment"
          ]
        }
      ],
      "source": [
        "tuple[0]=20 \n",
        "print(tuple)"
      ]
    }
  ],
  "metadata": {
    "kernelspec": {
      "display_name": "Python 3 (ipykernel)",
      "language": "python",
      "name": "python3"
    },
    "language_info": {
      "codemirror_mode": {
        "name": "ipython",
        "version": 3
      },
      "file_extension": ".py",
      "mimetype": "text/x-python",
      "name": "python",
      "nbconvert_exporter": "python",
      "pygments_lexer": "ipython3",
      "version": "3.9.7"
    },
    "colab": {
      "name": "IF_program_prac1.ipynb",
      "provenance": [],
      "include_colab_link": true
    }
  },
  "nbformat": 4,
  "nbformat_minor": 5
}