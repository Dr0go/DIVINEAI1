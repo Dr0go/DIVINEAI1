{
  "cells": [
    {
      "cell_type": "markdown",
      "metadata": {
        "id": "view-in-github",
        "colab_type": "text"
      },
      "source": [
        "<a href=\"https://colab.research.google.com/github/Dr0go/DIVINEAI1/blob/main/List_tuple_dict_set_prac1.ipynb\" target=\"_parent\"><img src=\"https://colab.research.google.com/assets/colab-badge.svg\" alt=\"Open In Colab\"/></a>"
      ]
    },
    {
      "cell_type": "code",
      "execution_count": null,
      "id": "f78e8980",
      "metadata": {
        "id": "f78e8980",
        "outputId": "6e88b2e6-23a8-44f1-fdb6-4a11902c7e32"
      },
      "outputs": [
        {
          "name": "stdout",
          "output_type": "stream",
          "text": [
            "ell Pla\n"
          ]
        }
      ],
      "source": [
        "A={(1,2,3):1, 2:[1,5,'GG', (3,5,'Well Played')],'a':3, 5:4}\n",
        "print(A[2][3][2][1:8])"
      ]
    },
    {
      "cell_type": "code",
      "execution_count": null,
      "id": "8c28b218",
      "metadata": {
        "id": "8c28b218",
        "outputId": "ae1fa898-aa05-468c-cf9b-c88e2ee79848"
      },
      "outputs": [
        {
          "name": "stdout",
          "output_type": "stream",
          "text": [
            "4\n",
            "10\n",
            "16\n",
            "22\n",
            "28\n",
            "34\n",
            "40\n",
            "46\n"
          ]
        }
      ],
      "source": [
        "list = range(4,51,6)\n",
        "for i in list:\n",
        "    print(i)"
      ]
    },
    {
      "cell_type": "code",
      "execution_count": null,
      "id": "05a6e684",
      "metadata": {
        "id": "05a6e684",
        "outputId": "4c50f373-e0f6-452f-a83e-0f6ceae48ba4"
      },
      "outputs": [
        {
          "name": "stdout",
          "output_type": "stream",
          "text": [
            "6\n",
            "11\n",
            "16\n",
            "21\n",
            "26\n",
            "31\n",
            "36\n",
            "41\n",
            "46\n",
            "51\n",
            "56\n"
          ]
        }
      ],
      "source": [
        "list = range(6,60,5)\n",
        "for i in list:\n",
        "    print(i)"
      ]
    },
    {
      "cell_type": "code",
      "execution_count": null,
      "id": "fe788b56",
      "metadata": {
        "id": "fe788b56",
        "outputId": "6d7428ca-801f-4779-be47-137ef29852e4"
      },
      "outputs": [
        {
          "name": "stdout",
          "output_type": "stream",
          "text": [
            "0\n",
            "1\n",
            "2\n",
            "3\n",
            "4\n",
            "5\n",
            "6\n",
            "7\n",
            "8\n",
            "9\n"
          ]
        }
      ],
      "source": [
        "list = range(10)\n",
        "for i in list:\n",
        "    print(i)"
      ]
    },
    {
      "cell_type": "code",
      "execution_count": null,
      "id": "a04b3514",
      "metadata": {
        "id": "a04b3514",
        "outputId": "602e5f84-d9ed-47c5-e473-1618a895b351"
      },
      "outputs": [
        {
          "name": "stdout",
          "output_type": "stream",
          "text": [
            "10\n",
            "9\n",
            "8\n",
            "7\n",
            "6\n",
            "5\n",
            "4\n",
            "3\n",
            "2\n",
            "1\n"
          ]
        }
      ],
      "source": [
        "a = 10\n",
        "while a>0:\n",
        "    print(a)\n",
        "    a = a - 1"
      ]
    },
    {
      "cell_type": "code",
      "execution_count": null,
      "id": "9d8eae2c",
      "metadata": {
        "id": "9d8eae2c",
        "outputId": "689d1d03-ff63-4403-f0ce-752979bb24f2"
      },
      "outputs": [
        {
          "name": "stdout",
          "output_type": "stream",
          "text": [
            "1\n",
            "2\n",
            "3\n",
            "4\n",
            "5\n",
            "6\n",
            "7\n",
            "8\n",
            "9\n",
            "10\n",
            "11\n",
            "12\n",
            "13\n",
            "14\n",
            "15\n"
          ]
        }
      ],
      "source": [
        "a = 1\n",
        "while a>0:\n",
        "    print(a)\n",
        "    a = a + 1\n",
        "    if (a>15):\n",
        "        break"
      ]
    },
    {
      "cell_type": "code",
      "execution_count": null,
      "id": "e23b4d5a",
      "metadata": {
        "id": "e23b4d5a",
        "outputId": "daadf511-5a90-4126-986e-6b86476664a3"
      },
      "outputs": [
        {
          "name": "stdout",
          "output_type": "stream",
          "text": [
            "20\n"
          ]
        },
        {
          "data": {
            "text/plain": [
              "int"
            ]
          },
          "execution_count": 8,
          "metadata": {},
          "output_type": "execute_result"
        }
      ],
      "source": [
        "a= '20'\n",
        "b = 122.5\n",
        "b = int(a)\n",
        "print(b)\n",
        "type(b)"
      ]
    },
    {
      "cell_type": "code",
      "execution_count": null,
      "id": "245124f6",
      "metadata": {
        "id": "245124f6",
        "outputId": "c372f17c-e838-44fa-8347-5ce33ae4f8c6"
      },
      "outputs": [
        {
          "name": "stdout",
          "output_type": "stream",
          "text": [
            "b is equal to a\n"
          ]
        }
      ],
      "source": [
        "a = 66\n",
        "b = 66\n",
        "if b > a: \n",
        "    print(\"b is greater than a\")\n",
        "elif b < a:\n",
        "    print(\"b is smaller than a\")\n",
        "else:\n",
        "    print(\"b is equal to a\")"
      ]
    },
    {
      "cell_type": "code",
      "execution_count": null,
      "id": "d646319f",
      "metadata": {
        "id": "d646319f",
        "outputId": "90794f4f-9efc-4953-e1c9-e0cd2208164b"
      },
      "outputs": [
        {
          "name": "stdout",
          "output_type": "stream",
          "text": [
            "b is greater than a\n"
          ]
        }
      ],
      "source": [
        "a = 65\n",
        "b = 66\n",
        "if b > a: \n",
        "    print(\"b is greater than a\")\n",
        "elif b < a:\n",
        "    print(\"b is smaller than a\")\n",
        "else:\n",
        "    print(\"b is equal to a\")"
      ]
    },
    {
      "cell_type": "code",
      "execution_count": null,
      "id": "e6567b50",
      "metadata": {
        "id": "e6567b50",
        "outputId": "a72b1980-e834-4b23-f579-d0d8951961cb"
      },
      "outputs": [
        {
          "name": "stdout",
          "output_type": "stream",
          "text": [
            "Tatakae Eren\n",
            "Tatakae Mikasa\n",
            "Tatakae Armin\n"
          ]
        }
      ],
      "source": [
        "friends = ['Eren', 'Mikasa', 'Armin']\n",
        "for friend in friends :\n",
        "    print('Tatakae',  friend)"
      ]
    },
    {
      "cell_type": "code",
      "execution_count": null,
      "id": "b0ac7227",
      "metadata": {
        "id": "b0ac7227",
        "outputId": "a12abf4d-b0f6-4be6-b9a2-cf8898223857"
      },
      "outputs": [
        {
          "name": "stdout",
          "output_type": "stream",
          "text": [
            "range(0, 3)\n"
          ]
        }
      ],
      "source": [
        "a = range(len(friends))\n",
        "print(a)"
      ]
    },
    {
      "cell_type": "code",
      "execution_count": null,
      "id": "8b576aab",
      "metadata": {
        "id": "8b576aab",
        "outputId": "613eaceb-c4db-4ef9-d54d-02ce692a28b3"
      },
      "outputs": [
        {
          "name": "stdout",
          "output_type": "stream",
          "text": [
            "0\n",
            "Happy New Year: Eren\n",
            "keeeeeeeeeeeeeny\n",
            "1\n",
            "Happy New Year: Mikasa\n",
            "keeeeeeeeeeeeeny\n",
            "2\n",
            "Happy New Year: Armin\n",
            "keeeeeeeeeeeeeny\n"
          ]
        }
      ],
      "source": [
        "for i in range(len(friends)) :\n",
        "    print(i)\n",
        "    friend = friends[i]\n",
        "    print('Happy New Year:',  friend)\n",
        "    print('keeeeeeeeeeeeeny')"
      ]
    },
    {
      "cell_type": "code",
      "execution_count": null,
      "id": "7dd96579",
      "metadata": {
        "id": "7dd96579",
        "outputId": "3681a559-f2f7-4da0-c266-1aaa389ebbf1"
      },
      "outputs": [
        {
          "name": "stdout",
          "output_type": "stream",
          "text": [
            "['Armin', 'Eren', 'Mikasa']\n"
          ]
        }
      ],
      "source": [
        "friends.sort()\n",
        "print(friends)"
      ]
    },
    {
      "cell_type": "code",
      "execution_count": null,
      "id": "803391f5",
      "metadata": {
        "id": "803391f5",
        "outputId": "067643e5-ee82-4cd6-eb32-09e2ff54e040"
      },
      "outputs": [
        {
          "name": "stdout",
          "output_type": "stream",
          "text": [
            "{}\n",
            "{'Hinata': 'Midlle Blocker', 'Kageyama': 'Setter', 'Isahi': 'Ace'}\n"
          ]
        }
      ],
      "source": [
        "Haikyuu = {}\n",
        "print(Haikyuu)\n",
        "Haikyuu['Hinata'] = 'Midlle Blocker'\n",
        "Haikyuu['Kageyama'] = 'Setter'\n",
        "Haikyuu['Asahi'] = 'Ace'\n",
        "print(Haikyuu)"
      ]
    },
    {
      "cell_type": "code",
      "execution_count": null,
      "id": "db6e56f8",
      "metadata": {
        "id": "db6e56f8",
        "outputId": "b45131fc-1032-43b7-e278-a8ad8d95886d"
      },
      "outputs": [
        {
          "name": "stdout",
          "output_type": "stream",
          "text": [
            "Awesome\n",
            "{'Hinata': 'Midlle Blocker', 'Isahi': 'Ace', 'Asahi': 'Awesome'}\n"
          ]
        }
      ],
      "source": [
        "Haikyuu['Asahi'] = 'Awesome'\n",
        "print(Haikyuu['Asahi'])\n",
        "del Haikyuu['Kageyama']\n",
        "print(Haikyuu)"
      ]
    },
    {
      "cell_type": "code",
      "execution_count": null,
      "id": "fd1e60ee",
      "metadata": {
        "id": "fd1e60ee",
        "outputId": "ae588545-36a9-4c4e-cd26-2befc0c40007"
      },
      "outputs": [
        {
          "name": "stdout",
          "output_type": "stream",
          "text": [
            "Enter the key: JOJO\n",
            "Enter the value: 100\n",
            "Enter y or Y to input more:11\n",
            "{'JOJO': '100'}\n"
          ]
        }
      ],
      "source": [
        "dict={}\n",
        "cont='y'\n",
        "while cont=='y'or cont=='Y':\n",
        "    key = input(\"Enter the key: \")\n",
        "    value = input(\"Enter the value: \")\n",
        "    dict[key]=value\n",
        "    cont = input('Enter y or Y to input more:')\n",
        "print(dict)"
      ]
    },
    {
      "cell_type": "code",
      "execution_count": null,
      "id": "39cf6775",
      "metadata": {
        "id": "39cf6775",
        "outputId": "b3588474-cd1e-42e2-e460-97177dbac7c6"
      },
      "outputs": [
        {
          "name": "stdout",
          "output_type": "stream",
          "text": [
            "GG\n",
            "1 1\n",
            "EZ 1\n"
          ]
        }
      ],
      "source": [
        "smallest = None\n",
        "print('GG')\n",
        "for value in [2,65,85,83,56,1] : \n",
        "   if smallest is None : \n",
        "        smallest = value  \n",
        "   elif value < smallest : \n",
        "        smallest = value   \n",
        "        print(smallest, value)\n",
        "print('EZ', smallest)"
      ]
    },
    {
      "cell_type": "code",
      "execution_count": null,
      "id": "d0a0e0f2",
      "metadata": {
        "id": "d0a0e0f2",
        "outputId": "3e1e3b92-4488-48c7-91f8-23cb456d8a37"
      },
      "outputs": [
        {
          "name": "stdout",
          "output_type": "stream",
          "text": [
            "[14, 3, 6, 7, 42, 78]\n"
          ]
        }
      ],
      "source": [
        "a = [14,3,6]\n",
        "b = [7,42,78]\n",
        "c = a + b\n",
        "print(c)"
      ]
    },
    {
      "cell_type": "code",
      "execution_count": null,
      "id": "587a587c",
      "metadata": {
        "id": "587a587c",
        "outputId": "28b5478f-f9a2-4265-da70-d4e4b40b0f64"
      },
      "outputs": [
        {
          "data": {
            "text/plain": [
              "[65, 85, 83, 56]"
            ]
          },
          "execution_count": 21,
          "metadata": {},
          "output_type": "execute_result"
        }
      ],
      "source": [
        "t = [2,65,85,83,56,1]\n",
        "t[1:5]"
      ]
    },
    {
      "cell_type": "code",
      "execution_count": null,
      "id": "d544d0f4",
      "metadata": {
        "id": "d544d0f4",
        "outputId": "3d728d20-917b-485e-c034-7b500b6ea31f"
      },
      "outputs": [
        {
          "name": "stdout",
          "output_type": "stream",
          "text": [
            "Enter a number: 41\n",
            "Enter a number: 62\n",
            "Enter a number: 31\n",
            "Enter a number: 312\n",
            "Enter a number: 31\n",
            "Enter a number: 31\n",
            "Enter a number: 31\n",
            "Enter a number: 13\n",
            "Enter a number: 31\n",
            "Enter a number: done\n",
            "Average: 64.77777777777777\n"
          ]
        }
      ],
      "source": [
        "total = 0\n",
        "count = 0\n",
        "while True :\n",
        "    inp = input('Enter a number: ')\n",
        "    if inp == 'done' : break\n",
        "    value = float(inp)\n",
        "    total = total + value     \n",
        "    count = count + 1\n",
        "\n",
        "average = total / count\n",
        "print('Average:', average)"
      ]
    },
    {
      "cell_type": "code",
      "execution_count": null,
      "id": "0f9a2eea",
      "metadata": {
        "id": "0f9a2eea",
        "outputId": "f85d9649-c1fa-4b04-80df-33873da89e37"
      },
      "outputs": [
        {
          "name": "stdout",
          "output_type": "stream",
          "text": [
            "['Pierre', 'Emerik', 'Aubameyang']\n",
            "3\n"
          ]
        }
      ],
      "source": [
        "abc = 'Pierre Emerik Aubameyang'\n",
        "stuff = abc.split()\n",
        "print(stuff)\n",
        "print(len(stuff))"
      ]
    },
    {
      "cell_type": "code",
      "execution_count": null,
      "id": "c2edc2f8",
      "metadata": {
        "id": "c2edc2f8",
        "outputId": "d08110d9-9e2b-45c6-be1c-c96bff5a444e"
      },
      "outputs": [
        {
          "name": "stdout",
          "output_type": "stream",
          "text": [
            "[1, 2, 3, 'GG', 5.0, 'EZ', 'WP']\n"
          ]
        }
      ],
      "source": [
        "aa=[]\n",
        "aa.append(1)\n",
        "aa.append(2)\n",
        "aa.append(3)\n",
        "aa.append('GG')\n",
        "aa.append(5.0)\n",
        "aa.append('EZ')\n",
        "aa.append('WP')\n",
        "print(aa)"
      ]
    },
    {
      "cell_type": "code",
      "execution_count": null,
      "id": "18574d97",
      "metadata": {
        "id": "18574d97",
        "outputId": "b665dc2a-c0e1-4bb8-90a7-a941ff90e721"
      },
      "outputs": [
        {
          "name": "stdout",
          "output_type": "stream",
          "text": [
            "54\n"
          ]
        }
      ],
      "source": [
        "a = (142, 62, 63, 44, 54)\n",
        "print(a[-1])"
      ]
    },
    {
      "cell_type": "code",
      "execution_count": null,
      "id": "4dd7c5e4",
      "metadata": {
        "id": "4dd7c5e4"
      },
      "outputs": [],
      "source": [
        ""
      ]
    }
  ],
  "metadata": {
    "kernelspec": {
      "display_name": "Python 3 (ipykernel)",
      "language": "python",
      "name": "python3"
    },
    "language_info": {
      "codemirror_mode": {
        "name": "ipython",
        "version": 3
      },
      "file_extension": ".py",
      "mimetype": "text/x-python",
      "name": "python",
      "nbconvert_exporter": "python",
      "pygments_lexer": "ipython3",
      "version": "3.9.7"
    },
    "colab": {
      "name": "List_tuple_dict_set_prac1.ipynb",
      "provenance": [],
      "include_colab_link": true
    }
  },
  "nbformat": 4,
  "nbformat_minor": 5
}